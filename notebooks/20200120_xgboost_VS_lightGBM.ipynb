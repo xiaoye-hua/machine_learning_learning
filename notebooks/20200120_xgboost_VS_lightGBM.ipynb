{
 "cells": [
  {
   "cell_type": "markdown",
   "metadata": {},
   "source": [
    "# Module "
   ]
  },
  {
   "cell_type": "code",
   "execution_count": 9,
   "metadata": {},
   "outputs": [],
   "source": [
    "import xgboost as xgb\n",
    "import lightgbm as lgb\n",
    "import numpy as np\n",
    "from sklearn import datasets\n",
    "from sklearn.model_selection import train_test_split\n",
    "from sklearn.metrics import precision_score, recall_score, accuracy_score"
   ]
  },
  {
   "cell_type": "markdown",
   "metadata": {},
   "source": [
    "# Config "
   ]
  },
  {
   "cell_type": "code",
   "execution_count": null,
   "metadata": {},
   "outputs": [],
   "source": []
  },
  {
   "cell_type": "markdown",
   "metadata": {},
   "source": [
    "# Data "
   ]
  },
  {
   "cell_type": "code",
   "execution_count": 10,
   "metadata": {},
   "outputs": [],
   "source": [
    "iris = datasets.load_iris()\n",
    "X = iris.data\n",
    "y = iris.target\n",
    "X_train, X_test, Y_train, Y_test = train_test_split(X, y, test_size=0.2)"
   ]
  },
  {
   "cell_type": "code",
   "execution_count": 11,
   "metadata": {},
   "outputs": [
    {
     "data": {
      "text/plain": [
       "(120, 4)"
      ]
     },
     "execution_count": 11,
     "metadata": {},
     "output_type": "execute_result"
    }
   ],
   "source": [
    "X_train.shape"
   ]
  },
  {
   "cell_type": "markdown",
   "metadata": {},
   "source": [
    "# xgboost "
   ]
  },
  {
   "cell_type": "markdown",
   "metadata": {},
   "source": [
    "## Data  "
   ]
  },
  {
   "cell_type": "code",
   "execution_count": 12,
   "metadata": {},
   "outputs": [],
   "source": [
    "D_train = xgb.DMatrix(X_train, Y_train)\n",
    "D_test = xgb.DMatrix(X_test, Y_test)"
   ]
  },
  {
   "cell_type": "markdown",
   "metadata": {},
   "source": [
    "## Train "
   ]
  },
  {
   "cell_type": "code",
   "execution_count": 13,
   "metadata": {},
   "outputs": [],
   "source": [
    "param = {\n",
    "    'eta': 0.3, \n",
    "    'max_depth': 3,  \n",
    "    'objective': 'multi:softprob',  \n",
    "    'num_class': 3} \n",
    "\n",
    "steps = 20  # The number of training iterations"
   ]
  },
  {
   "cell_type": "code",
   "execution_count": 14,
   "metadata": {},
   "outputs": [],
   "source": [
    "model = xgb.train(param, D_train, steps)"
   ]
  },
  {
   "cell_type": "markdown",
   "metadata": {},
   "source": [
    "## Eval "
   ]
  },
  {
   "cell_type": "code",
   "execution_count": 22,
   "metadata": {},
   "outputs": [
    {
     "name": "stdout",
     "output_type": "stream",
     "text": [
      "Precision = 0.9666666666666667\n",
      "Recall = 0.9696969696969697\n",
      "Accuracy = 0.9666666666666667\n"
     ]
    }
   ],
   "source": [
    "\n",
    "preds = model.predict(D_test)\n",
    "best_preds = np.asarray([np.argmax(line) for line in preds])\n",
    "\n",
    "print(\"Precision = {}\".format(precision_score(Y_test, best_preds, average='macro')))\n",
    "print(\"Recall = {}\".format(recall_score(Y_test, best_preds, average='macro')))\n",
    "print(\"Accuracy = {}\".format(accuracy_score(Y_test, best_preds)))"
   ]
  },
  {
   "cell_type": "code",
   "execution_count": 25,
   "metadata": {},
   "outputs": [
    {
     "data": {
      "text/plain": [
       "30"
      ]
     },
     "execution_count": 25,
     "metadata": {},
     "output_type": "execute_result"
    }
   ],
   "source": [
    "len(preds)"
   ]
  },
  {
   "cell_type": "code",
   "execution_count": 24,
   "metadata": {},
   "outputs": [
    {
     "data": {
      "text/plain": [
       "array([2, 1, 2, 2, 0, 2, 0, 0, 0, 1, 1, 1, 2, 0, 1, 0, 1, 1, 0, 1, 1, 2,\n",
       "       2, 0, 2, 2, 1, 2, 0, 0])"
      ]
     },
     "execution_count": 24,
     "metadata": {},
     "output_type": "execute_result"
    }
   ],
   "source": [
    "best_preds"
   ]
  },
  {
   "cell_type": "markdown",
   "metadata": {},
   "source": [
    "# lighgbm "
   ]
  },
  {
   "cell_type": "markdown",
   "metadata": {},
   "source": [
    "## Train "
   ]
  },
  {
   "cell_type": "code",
   "execution_count": 28,
   "metadata": {},
   "outputs": [
    {
     "data": {
      "text/plain": [
       "array([1, 1, 2, 0, 1, 1, 2, 2, 2, 2, 1, 2, 1, 1, 1, 2, 1, 1, 2, 0, 1, 0,\n",
       "       0, 0, 2, 1, 0, 2, 0, 1, 0, 0, 2, 1, 2, 0, 2, 0, 2, 0, 0, 1, 2, 0,\n",
       "       1, 2, 1, 0, 2, 2, 1, 1, 2, 2, 0, 0, 0, 0, 1, 2, 1, 0, 2, 2, 1, 0,\n",
       "       2, 0, 1, 0, 2, 1, 2, 2, 2, 2, 1, 0, 1, 1, 2, 2, 0, 0, 0, 2, 1, 0,\n",
       "       0, 1, 0, 0, 1, 0, 2, 2, 0, 0, 1, 1, 1, 0, 1, 1, 1, 1, 1, 2, 1, 2,\n",
       "       0, 2, 0, 1, 0, 0, 1, 2, 2, 0])"
      ]
     },
     "execution_count": 28,
     "metadata": {},
     "output_type": "execute_result"
    }
   ],
   "source": [
    "Y_train"
   ]
  },
  {
   "cell_type": "code",
   "execution_count": 33,
   "metadata": {},
   "outputs": [
    {
     "name": "stdout",
     "output_type": "stream",
     "text": [
      "[10]\ttraining's multi_logloss: 0.415082\tvalid_1's multi_logloss: 0.4164\n",
      "[20]\ttraining's multi_logloss: 0.208811\tvalid_1's multi_logloss: 0.206257\n",
      "[30]\ttraining's multi_logloss: 0.123706\tvalid_1's multi_logloss: 0.145837\n",
      "[40]\ttraining's multi_logloss: 0.0838637\tvalid_1's multi_logloss: 0.141399\n",
      "[50]\ttraining's multi_logloss: 0.0616752\tvalid_1's multi_logloss: 0.157091\n",
      "[60]\ttraining's multi_logloss: 0.049105\tvalid_1's multi_logloss: 0.175548\n",
      "[70]\ttraining's multi_logloss: 0.0399579\tvalid_1's multi_logloss: 0.191304\n",
      "[80]\ttraining's multi_logloss: 0.032127\tvalid_1's multi_logloss: 0.205027\n",
      "[90]\ttraining's multi_logloss: 0.0265547\tvalid_1's multi_logloss: 0.215229\n",
      "[100]\ttraining's multi_logloss: 0.0223113\tvalid_1's multi_logloss: 0.228125\n"
     ]
    }
   ],
   "source": [
    "# lgb params\n",
    "params = {\n",
    "    'objective':'multiclass',\n",
    "          'metric':'precision',\n",
    "    \"num_class\":3\n",
    "         }\n",
    "  \n",
    "# create dataset for lightgbm\n",
    "lgb_train = lgb.Dataset(X_train, Y_train)\n",
    "lgb_test = lgb.Dataset(X_test, Y_test, reference=lgb_train)\n",
    "\n",
    "lgb_model = lgb.train(params, lgb_train, valid_sets=[lgb_train, lgb_test], verbose_eval=10)\n",
    "# predictions = lgb_model.predict(X_test)"
   ]
  },
  {
   "cell_type": "markdown",
   "metadata": {},
   "source": [
    "## Eval "
   ]
  },
  {
   "cell_type": "code",
   "execution_count": 34,
   "metadata": {},
   "outputs": [
    {
     "name": "stdout",
     "output_type": "stream",
     "text": [
      "Precision = 0.9166666666666666\n",
      "Recall = 0.9090909090909092\n",
      "Accuracy = 0.9\n"
     ]
    }
   ],
   "source": [
    "preds = lgb_model.predict(X_test)\n",
    "best_preds = np.asarray([np.argmax(line) for line in preds])\n",
    "\n",
    "print(\"Precision = {}\".format(precision_score(Y_test, best_preds, average='macro')))\n",
    "print(\"Recall = {}\".format(recall_score(Y_test, best_preds, average='macro')))\n",
    "print(\"Accuracy = {}\".format(accuracy_score(Y_test, best_preds)))"
   ]
  }
 ],
 "metadata": {
  "kernelspec": {
   "display_name": "Python3(DRL_env)",
   "language": "python",
   "name": "drl_env"
  },
  "language_info": {
   "codemirror_mode": {
    "name": "ipython",
    "version": 3
   },
   "file_extension": ".py",
   "mimetype": "text/x-python",
   "name": "python",
   "nbconvert_exporter": "python",
   "pygments_lexer": "ipython3",
   "version": "3.6.10"
  },
  "toc": {
   "base_numbering": 1,
   "nav_menu": {},
   "number_sections": true,
   "sideBar": true,
   "skip_h1_title": false,
   "title_cell": "Table of Contents",
   "title_sidebar": "Contents",
   "toc_cell": false,
   "toc_position": {},
   "toc_section_display": true,
   "toc_window_display": true
  }
 },
 "nbformat": 4,
 "nbformat_minor": 2
}
