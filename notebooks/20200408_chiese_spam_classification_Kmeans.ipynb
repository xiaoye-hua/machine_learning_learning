{
 "cells": [
  {
   "cell_type": "markdown",
   "metadata": {},
   "source": [
    "# Module "
   ]
  },
  {
   "cell_type": "code",
   "execution_count": 55,
   "metadata": {
    "_cell_guid": "4be8fca1-a4f6-4f4a-88ff-1539b19cafca",
    "_uuid": "eb55af3fcca73ac0a07e2ecd8709e36bcc17fc78"
   },
   "outputs": [],
   "source": [
    "# import nltk\n",
    "# nltk.download(\"stopwords\")\n",
    "# from nltk.corpus import stopwords\n",
    "import jieba\n",
    "import string\n",
    "import os\n",
    "import sklearn\n",
    "import pandas as pd\n",
    "import numpy as np\n",
    "\n",
    "from sklearn.model_selection import train_test_split\n",
    "from sklearn.pipeline import Pipeline\n",
    "from sklearn.feature_extraction.text import CountVectorizer\n",
    "from sklearn.feature_extraction.text import TfidfTransformer\n",
    "# from sklearn.naive_bayes import MultinomialNB\n",
    "from sklearn.cluster import KMeans\n",
    "from sklearn.metrics import classification_report,confusion_matrix\n",
    "from sklearn.externals import joblib\n",
    "import matplotlib.pyplot as plt\n",
    "%matplotlib inline"
   ]
  },
  {
   "cell_type": "markdown",
   "metadata": {},
   "source": [
    "# Config "
   ]
  },
  {
   "cell_type": "code",
   "execution_count": 56,
   "metadata": {},
   "outputs": [],
   "source": [
    "debug = True\n",
    "debug_len = 1000\n",
    "data_file = \"../data/nlp_data/raw_0302.csv\"\n",
    "model_dir = \"../model_finished/\"\n",
    "model_file = \"model.pkl\"\n",
    "file_name = os.path.join(model_dir, model_file)"
   ]
  },
  {
   "cell_type": "markdown",
   "metadata": {},
   "source": [
    "# Data Preparation"
   ]
  },
  {
   "cell_type": "code",
   "execution_count": 57,
   "metadata": {},
   "outputs": [],
   "source": [
    "df = pd.read_csv(data_file, header=None, sep=\"\\x01\")\n",
    "df.columns = [\"text\", \"class\"]"
   ]
  },
  {
   "cell_type": "code",
   "execution_count": 58,
   "metadata": {},
   "outputs": [],
   "source": [
    "if debug:\n",
    "    df = df.sample(debug_len)"
   ]
  },
  {
   "cell_type": "code",
   "execution_count": 59,
   "metadata": {
    "_cell_guid": "5c541708-35c5-4460-a351-46032fc219e8",
    "_uuid": "125b4774c58068557499363295e50e7d79ce9dc5"
   },
   "outputs": [
    {
     "data": {
      "text/html": [
       "<div>\n",
       "<style scoped>\n",
       "    .dataframe tbody tr th:only-of-type {\n",
       "        vertical-align: middle;\n",
       "    }\n",
       "\n",
       "    .dataframe tbody tr th {\n",
       "        vertical-align: top;\n",
       "    }\n",
       "\n",
       "    .dataframe thead tr th {\n",
       "        text-align: left;\n",
       "    }\n",
       "\n",
       "    .dataframe thead tr:last-of-type th {\n",
       "        text-align: right;\n",
       "    }\n",
       "</style>\n",
       "<table border=\"1\" class=\"dataframe\">\n",
       "  <thead>\n",
       "    <tr>\n",
       "      <th></th>\n",
       "      <th colspan=\"4\" halign=\"left\">text</th>\n",
       "    </tr>\n",
       "    <tr>\n",
       "      <th></th>\n",
       "      <th>count</th>\n",
       "      <th>unique</th>\n",
       "      <th>top</th>\n",
       "      <th>freq</th>\n",
       "    </tr>\n",
       "    <tr>\n",
       "      <th>class</th>\n",
       "      <th></th>\n",
       "      <th></th>\n",
       "      <th></th>\n",
       "      <th></th>\n",
       "    </tr>\n",
       "  </thead>\n",
       "  <tbody>\n",
       "    <tr>\n",
       "      <th>0</th>\n",
       "      <td>461</td>\n",
       "      <td>461</td>\n",
       "      <td>别看了，最近有点憔悴，没法看</td>\n",
       "      <td>1</td>\n",
       "    </tr>\n",
       "    <tr>\n",
       "      <th>1</th>\n",
       "      <td>539</td>\n",
       "      <td>539</td>\n",
       "      <td>您好,wo是JJ商家,长期収出JJ琻币,（免费出蒩捕鱼满级炮）出蒩.収满级捕鱼帐号,需要的老...</td>\n",
       "      <td>1</td>\n",
       "    </tr>\n",
       "  </tbody>\n",
       "</table>\n",
       "</div>"
      ],
      "text/plain": [
       "       text                                                               \n",
       "      count unique                                                top freq\n",
       "class                                                                     \n",
       "0       461    461                                     别看了，最近有点憔悴，没法看    1\n",
       "1       539    539  您好,wo是JJ商家,长期収出JJ琻币,（免费出蒩捕鱼满级炮）出蒩.収满级捕鱼帐号,需要的老...    1"
      ]
     },
     "execution_count": 59,
     "metadata": {},
     "output_type": "execute_result"
    }
   ],
   "source": [
    "df.groupby(\"class\").describe()"
   ]
  },
  {
   "cell_type": "code",
   "execution_count": 60,
   "metadata": {
    "_cell_guid": "1d86cb88-4ea5-497a-96af-245984946265",
    "_uuid": "cbd68ec903cf7c437c885b69993cab8dec61503c"
   },
   "outputs": [],
   "source": [
    "df['length'] = df[\"text\"].apply(str).apply(len)"
   ]
  },
  {
   "cell_type": "code",
   "execution_count": 61,
   "metadata": {
    "_cell_guid": "4da1b849-61f1-4963-bd36-1c306534a0e0",
    "_uuid": "961442d7f56de1058a0fd825683939c618030ed8"
   },
   "outputs": [
    {
     "data": {
      "text/plain": [
       "array([<matplotlib.axes._subplots.AxesSubplot object at 0x7fb071bd3278>,\n",
       "       <matplotlib.axes._subplots.AxesSubplot object at 0x7fb07297ab70>],\n",
       "      dtype=object)"
      ]
     },
     "execution_count": 61,
     "metadata": {},
     "output_type": "execute_result"
    },
    {
     "data": {
      "image/png": "[encoded data removed]",
      "text/plain": [
       "<Figure size 1080x432 with 2 Axes>"
      ]
     },
     "metadata": {
      "needs_background": "light"
     },
     "output_type": "display_data"
    }
   ],
   "source": [
    "df.hist(column='length',by='class',bins=50, figsize=(15,6))"
   ]
  },
  {
   "cell_type": "markdown",
   "metadata": {
    "_cell_guid": "7f3b73e5-2bc6-4a3f-8e63-b78b82ccf3d0",
    "_uuid": "467cc69f5be1d9758b549c4af5265d981e6d6dca"
   },
   "source": [
    "## CREATE TOKENIZER"
   ]
  },
  {
   "cell_type": "code",
   "execution_count": 62,
   "metadata": {
    "_cell_guid": "d10b73f4-e10c-422b-ad4b-74c6037675a4",
    "_uuid": "2070cd8a789e028dd3417798dd61a6454d990ea5"
   },
   "outputs": [],
   "source": [
    "def process_text(text):\n",
    "    clean_words = jieba.lcut(str(text))\n",
    "    return clean_words"
   ]
  },
  {
   "cell_type": "markdown",
   "metadata": {},
   "source": [
    "let's check what above code will produce"
   ]
  },
  {
   "cell_type": "code",
   "execution_count": 63,
   "metadata": {
    "_cell_guid": "fb3d6f64-3e17-4baa-ab5e-730044d7b8c6",
    "_uuid": "d80940a32545d93ec1e36fabcc46a174ace0ace9"
   },
   "outputs": [
    {
     "data": {
      "text/plain": [
       "151065    [加, wei, 信, 13, ⑺, 1, ④, ⑷, 35040,  , 上下, 分出, ...\n",
       "165339                                            [你, 还, 笑]\n",
       "86977                                         [虽然, 我, 不, 说]\n",
       "227066    [你好, 琳琳, 琻, 库,  , 2, ④, 小時, 在, 線,  , 加, 威信,  ,...\n",
       "237661    [你好, ，, 高, jia, 回, 収,  , 琻, 币, 、, 秋卡, 话费, 、, 捕...\n",
       "Name: text, dtype: object"
      ]
     },
     "execution_count": 63,
     "metadata": {},
     "output_type": "execute_result"
    }
   ],
   "source": [
    "df['text'].head().apply(process_text)"
   ]
  },
  {
   "cell_type": "markdown",
   "metadata": {},
   "source": [
    "## SPLITTING DATASET"
   ]
  },
  {
   "cell_type": "code",
   "execution_count": 64,
   "metadata": {},
   "outputs": [],
   "source": [
    "messages = df"
   ]
  },
  {
   "cell_type": "code",
   "execution_count": 65,
   "metadata": {},
   "outputs": [
    {
     "name": "stdout",
     "output_type": "stream",
     "text": [
      "<class 'pandas.core.frame.DataFrame'>\n",
      "Int64Index: 1000 entries, 151065 to 159342\n",
      "Data columns (total 3 columns):\n",
      "text      1000 non-null object\n",
      "class     1000 non-null int64\n",
      "length    1000 non-null int64\n",
      "dtypes: int64(2), object(1)\n",
      "memory usage: 31.2+ KB\n"
     ]
    }
   ],
   "source": [
    "messages.info()"
   ]
  },
  {
   "cell_type": "code",
   "execution_count": 66,
   "metadata": {},
   "outputs": [],
   "source": [
    "msg_train, msg_test, class_train, class_test = train_test_split(messages['text'],messages['class'],test_size=0.2)"
   ]
  },
  {
   "cell_type": "code",
   "execution_count": 67,
   "metadata": {},
   "outputs": [
    {
     "data": {
      "text/plain": [
       "800"
      ]
     },
     "execution_count": 67,
     "metadata": {},
     "output_type": "execute_result"
    }
   ],
   "source": [
    "len(msg_train)"
   ]
  },
  {
   "cell_type": "code",
   "execution_count": 68,
   "metadata": {},
   "outputs": [
    {
     "data": {
      "text/plain": [
       "200"
      ]
     },
     "execution_count": 68,
     "metadata": {},
     "output_type": "execute_result"
    }
   ],
   "source": [
    "len(msg_test)"
   ]
  },
  {
   "cell_type": "code",
   "execution_count": 69,
   "metadata": {
    "scrolled": true
   },
   "outputs": [
    {
     "data": {
      "text/plain": [
       "93640     您好,我是正规工作室，负责琻碧上下分!⑴5万JJ豆=100出兽;2⑷万JJ豆=100回収!实...\n",
       "131069    ni好，回购出賣琻币全网价格最合适，免费蒩用jj捕鱼炮，加威 13①5④521950 大量収购鱼炮\n",
       "314623    分.下分（组号.组炮）长qi合作优惠！威信⒈56⒎2726270<24小时营业>！小号宣传号...\n",
       "177212                                                  啊！能\n",
       "201187                                                 你发挂捞\n",
       "Name: text, dtype: object"
      ]
     },
     "execution_count": 69,
     "metadata": {},
     "output_type": "execute_result"
    }
   ],
   "source": [
    "msg_train.head()"
   ]
  },
  {
   "cell_type": "code",
   "execution_count": 70,
   "metadata": {},
   "outputs": [
    {
     "data": {
      "text/plain": [
       "93640     1\n",
       "131069    1\n",
       "314623    1\n",
       "177212    0\n",
       "201187    0\n",
       "Name: class, dtype: int64"
      ]
     },
     "execution_count": 70,
     "metadata": {},
     "output_type": "execute_result"
    }
   ],
   "source": [
    "class_train.head()"
   ]
  },
  {
   "cell_type": "markdown",
   "metadata": {},
   "source": [
    "# Seperate Steps "
   ]
  },
  {
   "cell_type": "markdown",
   "metadata": {},
   "source": [
    "## CountVectorizer"
   ]
  },
  {
   "cell_type": "markdown",
   "metadata": {},
   "source": [
    "Get word counts matrix"
   ]
  },
  {
   "cell_type": "code",
   "execution_count": 71,
   "metadata": {},
   "outputs": [],
   "source": [
    "def process_text(text):\n",
    "    clean_words = jieba.lcut(str(text))\n",
    "    return clean_words\n",
    "transformer = CountVectorizer(analyzer=process_text)\n",
    "transformer.fit(msg_train)\n",
    "train_data = transformer.transform(msg_train)"
   ]
  },
  {
   "cell_type": "markdown",
   "metadata": {},
   "source": [
    "## TfidfTransformer"
   ]
  },
  {
   "cell_type": "code",
   "execution_count": 72,
   "metadata": {},
   "outputs": [],
   "source": [
    "tfidf_transformer = TfidfTransformer()\n",
    "tfidf_transformer.fit(train_data)\n",
    "train_data = tfidf_transformer.transform(train_data)"
   ]
  },
  {
   "cell_type": "raw",
   "metadata": {
    "_cell_guid": "23bb61f8-1ddd-4091-bda3-48b036d93ffe",
    "_uuid": "d477922c1856520ed1a7e3cb2e38b6690af4d080"
   },
   "source": [
    "**PART 5: MODEL CREATION**\n",
    "\n",
    "here I'll just use pipeline in order to minimize effort on doing preprocessing, transforming then training data on both training dataset and test dataset. Using pipeline will handle them all in a few lines of codes."
   ]
  },
  {
   "cell_type": "markdown",
   "metadata": {},
   "source": [
    "**PART 6: TESTING**"
   ]
  },
  {
   "cell_type": "markdown",
   "metadata": {},
   "source": [
    "# Fit "
   ]
  },
  {
   "cell_type": "code",
   "execution_count": 73,
   "metadata": {},
   "outputs": [
    {
     "data": {
      "text/plain": [
       "KMeans(algorithm='auto', copy_x=True, init='k-means++', max_iter=100,\n",
       "    n_clusters=2, n_init=1, n_jobs=1, precompute_distances='auto',\n",
       "    random_state=None, tol=0.0001, verbose=0)"
      ]
     },
     "execution_count": 73,
     "metadata": {},
     "output_type": "execute_result"
    }
   ],
   "source": [
    "true_k = 2\n",
    "model = KMeans(n_clusters=true_k, init='k-means++', max_iter=100, n_init=1)\n",
    "model.fit(train_data)"
   ]
  },
  {
   "cell_type": "markdown",
   "metadata": {},
   "source": [
    "# Evaluation "
   ]
  },
  {
   "cell_type": "code",
   "execution_count": 75,
   "metadata": {},
   "outputs": [
    {
     "name": "stdout",
     "output_type": "stream",
     "text": [
      "             precision    recall  f1-score   support\n",
      "\n",
      "          0       0.00      0.00      0.00       370\n",
      "          1       0.41      0.59      0.48       430\n",
      "\n",
      "avg / total       0.22      0.32      0.26       800\n",
      "\n"
     ]
    }
   ],
   "source": [
    "predictions = model.predict(train_data)\n",
    "print(classification_report(class_train,predictions))"
   ]
  },
  {
   "cell_type": "code",
   "execution_count": 77,
   "metadata": {
    "scrolled": true
   },
   "outputs": [
    {
     "data": {
      "text/plain": [
       "<matplotlib.axes._subplots.AxesSubplot at 0x7fb071f963c8>"
      ]
     },
     "execution_count": 77,
     "metadata": {},
     "output_type": "execute_result"
    },
    {
     "data": {
      "image/png": "[encoded data removed]",
      "text/plain": [
       "<Figure size 432x288 with 2 Axes>"
      ]
     },
     "metadata": {
      "needs_background": "light"
     },
     "output_type": "display_data"
    }
   ],
   "source": [
    "import seaborn as sns\n",
    "sns.heatmap(confusion_matrix(class_train,predictions),annot=True)"
   ]
  },
  {
   "cell_type": "code",
   "execution_count": 86,
   "metadata": {},
   "outputs": [],
   "source": [
    "group1 = []\n",
    "group2 = []"
   ]
  },
  {
   "cell_type": "code",
   "execution_count": 87,
   "metadata": {},
   "outputs": [],
   "source": [
    "for item, group_num in zip(msg_train, prediction):\n",
    "    if group_num == 0:\n",
    "        group1.append(item)\n",
    "    else:\n",
    "        group2.append(item)\n",
    "#     print(item)"
   ]
  },
  {
   "cell_type": "code",
   "execution_count": 91,
   "metadata": {
    "scrolled": false
   },
   "outputs": [
    {
     "data": {
      "text/plain": [
       "['长期蒩鱼号 上下分业务 绝对安全可靠 咨询 x1⑤58742⑥218 高驾回首经典4②以上炮台 千炮8⑤00-9000炮台。',\n",
       " '上分.下分（组号.zu炮）长期合作有优惠！威信①9130751397(电话同步）&lt;24小时营业&gt;！支持椛唄&nbsp;信用咔!免手续费！小号宣传号，不能第一时间回复您，请加威信聯系！収满炮号！打扰请谅解！祝君游戏愉快',\n",
       " '你搭档胡我清碰了',\n",
       " '多少金币换一百',\n",
       " '没结婚的想结婚，结婚的过不好想离婚',\n",
       " '全网jia格最合适 収出琻币 出 組满级鱼泡 威信 ⒈769221156⒈',\n",
       " '所以就当那次离婚是乖乖一时冲动',\n",
       " '明天你帮我看看是不是主播',\n",
       " 'AK 7*24小时接单,极速上下琻豆,安全可靠!免费蒩顶级捕鱼炮台。10:12 退本.威信97③680⑨4 长期经营,期待于您合作!',\n",
       " '你好琳琳琻库 24小時在線 加威信 2⑥⑤77⑧33 （另有高炮台出蒩）本店长期出賣 跟回収琻币 回収高炮台号码 详情加威信',\n",
       " '上分.下分（组号.组炮）长期合作优惠！威信⒈⒌737661⒐25&nbsp;&lt;24小时营业&gt;！小号宣传号，不能第一时间回复您，请加威信咨询！収满炮号！打扰请谅解！祝君游戏愉快',\n",
       " '上分.下分（组hao.组炮）长期合作优惠！威信①5672⑦②6270<24小时营业>！小号宣传号，不能第一时间回复您，请加威信咨询！収满炮号！打扰请谅解！祝君游戏愉快',\n",
       " 'shang分.下分（组号.组炮）长期合作优惠！威信15672726②70<②④小时营业>！小号宣传号，不能第一时间回复您，请加威信咨询！収满炮号！打扰请谅解！祝君游戏愉快',\n",
       " '嗯嗯，去哪钓鱼',\n",
       " '上分.xia分（组号.组炮）长期合作优惠！威信1⑸⑹7272⑹⑵⑺0<24小时营业>！小号宣传号，不能第一时间回复您，请加威信咨询！収满炮号！打扰请谅解！祝君游戏愉快',\n",
       " '你好,wo是JJ商家，长期収出JJ琻币（免费出蒩捕鱼满级炮）需要的老板可以加我威x了解下 威x：⒈⒊0794⒋89⒐0（同手机）',\n",
       " '誠 信经 营 童 叟无欺 大量収 出琻币 出蒩各种账 号 电话/威信 15⑶50⑸8198⑸',\n",
       " 'zhuanye24xiaoshi上下分 接待威信;17064887130;电话;17064887130 加威信免费使用满级鱼炮号.上下分都有优汇，详情++威，誠实经营期待与您合作!',\n",
       " '9点？',\n",
       " '你好，我是JJ商jia，长期回购出賣琻币，蒩号、蒩炮等业务。另高价収购顶级鱼炮。首次合作本店还有更多优惠。详情请加威信了解 如暂无需要，请留着备用（打扰之处 还请见谅）三年老店 誠信交易 。小海豚不回复 聯系威信：1894⑦②①0591',\n",
       " '偷过几个五千的。哈哈',\n",
       " '兑换完了？',\n",
       " '加威信1⒊7⒈④4⒊5040 上下分出蒩满级yu炮 蒩号回収12万=⒈00 回収你自己号里的琻币22万=100 八年老店 童叟无欺',\n",
       " 'shang分.下分（组号.组炮）长期合作优惠！威信①5⑥727②⑥2⑦0<②4小时营业>！小号宣传号，不能第一时间回复您，请加威信咨询！収满炮号！打扰请谅解！祝君游戏愉快',\n",
       " '虽然我不说',\n",
       " '黑不黑，兰兰？',\n",
       " '不敢乱发了，等会用词不当，免得尴尬',\n",
       " '您好，本店专业上分.下分（组号.zu炮）长期合作优惠！⒉4小时营业！収满炮号！威信电话159⒊110⒉1⒏1加我送琻币！送琻币！送琻币！',\n",
       " '5000没了',\n",
       " '以后放松点打',\n",
       " '回好多血',\n",
       " '我告诉她的，',\n",
       " '上分.下分（组号.组炮）长期合作优惠！威xin156⑦2726270<②4小时营业>！小号宣传号，不能第一时间回复您，请加威信咨询！収满炮号！打扰请谅解！祝君游戏愉快',\n",
       " '大家都在看',\n",
       " '上fen.下分（组号.组炮）长期合作优惠！威信15672726270<⒉⒋小时营业>！小号宣传号，不能第一时间回复您，请加威信咨询 ！収满炮号！打扰请谅解！祝君游戏愉快',\n",
       " '自己推算的',\n",
       " '上分.下fen（组号.组炮）长期合作优惠！威信1⑤67②⑦②6②70<24小时营业>！小号宣传号，不能第一时间回复您，请加威信咨询！収满炮号！打扰请谅解！祝君游戏愉快',\n",
       " '我抽的千团你去打.我和他说了',\n",
       " '上fen.下分（组号.组炮）长期合作优惠！威信156⒎272⒍2⒎0<2⒋小时营业>！小号宣传号，不能第一时间回复您，请加威信咨询！収满炮号！打扰请谅解！祝君游戏愉快',\n",
       " '逍遥琻店上下分 上fen⒈3w一白 下分⒈5w一白 各种顶级yu pao 出组 24小时 薇心：xiaoyao85820',\n",
       " '分.下分（组号.zu炮）长期合作优惠！威信156⑺2⑺262⑺0<24小时营业>！小号宣传号，不能第一时间回复您，请加威信咨询！収满炮号！打扰请谅解！祝君游戏愉快',\n",
       " '至少200',\n",
       " '逍遥琻dian上下分 上分1⒊w-16w一白 下分15w-21w一白 各种顶级yu pao 出组 ⒉4小时 薇心：xiaoyao⒏⒌⒏20',\n",
       " '你hao，回购出賣琻币全网价格最合适，免费蒩用jj捕鱼炮，加威 1315⒋5⒉⒈950 大量収购鱼炮',\n",
       " '新手412679855',\n",
       " '上分.下分（组hao.组炮）长期合作优惠！威信1⑸73766⑴9⑵5&nbsp;&lt;24小时营业&gt;！小号宣传号，不能第一时间回复您，请加威信咨询！収满炮号！打扰请谅解！祝君游戏愉快',\n",
       " '全网最低价格，新客户添加薇信首冲song⑶万琻币，免费提供满级捕鱼账号，薇信：wiyi⑸2⑸ 此宣传小号不回复。⑵4小时接待( 提示：8年老店.高价回购满级鱼号)',\n",
       " '今天早',\n",
       " '前20才2.5万',\n",
       " '看头一次',\n",
       " '上分.下分（zu号.组炮）长期合作优惠！威信15⒍7⒉7262⒎0<⒉⒋小时营业>！小号宣传号，不能第一时间回复您，请加威信咨询！収满炮号！打扰请谅解！祝君游戏愉快',\n",
       " '杨国顺上来了你肯定上来了，笨蛋',\n",
       " '哥，你和谁堵啊',\n",
       " '长期上分13万100，下分15wan100，各种顶级炮台免费出组，需要加薇信ly3583⒌88 电话 ⒈652809⒏090',\n",
       " '长期蒩鱼号 上下分业务 绝对安全可靠 咨询 威 + x155874⑵6⑵⑴8 高架回首经典42以上炮台 千炮8500-9000炮台。风里雨里我在等你！',\n",
       " '我不可能进',\n",
       " '上fen.下分（组号.组炮）长期合作优惠！威信1⑤7③766①⑨25 <②4小时营业>！小号宣传号，不能第一时间回复您，请加威信咨询！収满炮号！打扰请谅解！祝君游戏愉快',\n",
       " '鸡',\n",
       " 'quan网价格最合适 収出琻币 出 組满级鱼泡 威信 17⑹⑼2⑵11561',\n",
       " '我四点洗澡',\n",
       " '上fen.下分（组号.组炮）长期合作优惠！威信157③7⑥6192⑤ <②4小时营业>！小号宣传号，不能第一时间回复您，请加威信咨询！収满炮号！打扰请谅解！祝君游戏愉快',\n",
       " '上分.下fen（组号.组炮）长期合作优惠！威信1⑤67272⑥②70<24小时营业>！小号宣传号，不能第一时间回复您，请加威信咨询！収满炮号！打扰请谅解！祝君游戏愉快',\n",
       " '长期承dan上下分，上分⒈6万-100圆，下分21万-100圆，出蒩满级鱼炮，上下分秒回款，小海豚不能及时回复请聯系威信wanli18989 电话13343114043',\n",
       " '哈哈，好啦，不逼乖乖了',\n",
       " '再叫一声',\n",
       " '上分.下分（组号.组炮）长qi合作优惠！威信15672⒎262⒎0<24小时营业>！小号宣传号，不能第一时间回复您，请加威信咨询！収满炮号！打扰请谅解！祝君游戏愉快',\n",
       " '您好，本店zhuan业上分.下分（组号.zu炮）长期合作优惠！⑵4小时营业！収满炮号！威信电话⑴59⑶11021⑻1加我送琻币！送琻币！送琻币！',\n",
       " '加威xin⑴371④⑷35040 上下分出蒩满级鱼炮 蒩号回収1⑵万=100 回収你自己号里的琻币2⑵万=⑴00 八年老店 童叟无欺',\n",
       " '六日呢？',\n",
       " '都外地来的',\n",
       " '行，老哥去大奖那。',\n",
       " 'shang分.下分（组号.组炮）长期合作优惠！威信⒈573766⒈925 <⒉⒋小时营业>！小号宣传号，不能第一时间回复您，请加威信咨询！収满炮号！打扰请谅解！祝君游戏愉快',\n",
       " '加威信1371④⒋3⒌040 上下分出蒩满ji鱼炮 蒩号回収⒈⒉万=100 回収你自己号里的琻币22万=100 八年老店 童叟无欺',\n",
       " 'chang期蒩鱼号 上下分业务 绝对安全可靠 咨询 威 + x15⑤⑧7④2⑥2①8 高架回首经典④2以上炮台 千炮8⑤00-9000炮台。风里雨里我在等你！',\n",
       " '上分.下分（组号.组炮）长期he作优惠！威信15672726⑵70<24小时营业>！小号宣传号，不能第一时间回复您，请加威信咨询 ！収满炮号！打扰请谅解！祝君游戏愉快',\n",
       " '长期上fen13万①00，下分1⑤万100，各种顶级炮台免费出组，需要加薇信ly3583588 电话 16528098090',\n",
       " '麦金币的？',\n",
       " '完了完了我安静的丈夫刘显要红了',\n",
       " '长期鱼号 上下分业务 绝对安全可靠 咨询 威 + x1⑤5874②62①8 高架回首经典④2以上炮台 千炮8500-9000炮台。风里雨里我在等你！',\n",
       " '不然过会没人，我随机了！',\n",
       " '马上11点了',\n",
       " '你好，回购出賣琻币，价格合适，mian费蒩用jj捕鱼炮，収购鱼炮,加威信 1⑻5102⑴140⑺',\n",
       " 'AK 7*⒉4小时接单,极su上下琻豆,安全可靠!免费蒩顶级捕鱼炮台。10:⒈2 退本.威信9⒎3⒍80⒐⒋ 长期经营,期待于您合作!',\n",
       " '安安还有女麻友啊',\n",
       " '不打就休息',\n",
       " '您好，我是正规gong作室，负责琻碧上下分!15万JJ豆=100出兽;2⑷万JJ豆=100回収!实名认证不用担心被骗，保证给您最满意的服务！详细流程加我威薪告诉您！无论是否娇易，都可以先加我威薪了解一下，以便日后合作！現阶段营业时间早8到凌晨1点~~~您的专属课服！打广告的小号不回复，咨询请加威薪号:18265⑧9⑧8⑹0。',\n",
       " '上分.下分（组hao.组炮）长期合作优惠！威信1567②72⑥②70<2④小时营业>！小号宣传号，不能第一时间回复您，请加威信咨询！収满炮号！打扰请谅解！祝君游戏愉快',\n",
       " '上分.下分（组号.组炮)长期合作优惠！威信156727⑵6270<⑵4小时营业>！小号宣传号，不能第一时间回复您，请加威信咨询！収满炮号！打扰请谅解！祝君游戏愉快',\n",
       " '踢死多马了',\n",
       " '上fen.下分（组号.组炮）长期合作优惠！威信⒈56⒎⒉726270<24小时营业>！小号宣传号，不能第一时间回复您，请加威信咨询！収满炮号！打扰请谅解！祝君游戏愉快',\n",
       " '你好,回购出賣琻币，价格合适，免费蒩用jj捕鱼炮，収购鱼炮,加威信 132382791⑧⑤',\n",
       " '在吗shuai哥我是正规工作室负责琻碧上下分1⒌万JJ豆=⒈00出兽24万JJ豆=⒈00回収实名制认证，保证给您最满意的服务！详细的流程加我威芯告诉您！无论是否娇易，都可以先加我威芯了解一下，以便日后合作！現阶段营业时间早⒏到凌晨1点~~~您的专属课服婷妹！打广告的号不回复，咨询请加威芯加小妹威芯第一时间接待您 小妹威芯号: ①③0⑤④⑥①②①⑧②',\n",
       " '其实送到乌市肯定要待一段时间才去医院',\n",
       " '他还看见人了',\n",
       " '分.下分(组号.组炮）长期合作优惠！威信⒈⒌6727⒉⒍⒉70<2⒋小时营业>！小号宣传号，不能第一时间回复您，请加威信咨询！収满炮号！打扰请谅解！祝君游戏愉快',\n",
       " '会不会来事能怎么样该干活还的干活，',\n",
       " '所以说不要这么着急就出来啊',\n",
       " '吃粑粑',\n",
       " '你看看公社里，她还在吗',\n",
       " '您hao，wo是JJ商家，长期収出JJ琻币（免费出蒩捕鱼满级炮）需要的老板可以加我威x:1⑶0⑺9⑷48990（同手机）',\n",
       " '待威信;17030873158;电话;17072943722 加威信免费使用满级鱼炮号，恭贺本店成立9周年之际，上下分都有优汇，详情++威，誠实经营期待与您合作!',\n",
       " '加个wx呗',\n",
       " '加wei信1371④⑷⑶50⑷0 上下分出蒩满级鱼炮 蒩号回収12万=⑴00 回収你自己号里的琻币22万=⑴00 八年老店 童叟无欺',\n",
       " 'ni好，高价回収捕鱼账号，回収琻币，有需要，加威信⒈⒌⒏ 3340 068⒋ 欢迎来询，誠信可靠。',\n",
       " '上分.下分（组hao.组炮）长期合作优惠！威信⑴⑸6⑺2726270<24小时营业>！小号宣传号，不能第一时间回复您，请加威信咨询！収满炮号！打扰请谅解！祝君游戏愉快',\n",
       " '少装逼',\n",
       " '我还以你上的我顶掉了',\n",
       " '可能附近下雨了',\n",
       " 'chang期蒩鱼号 上下分业务 绝对安全可靠 咨询 威 + x1⑤⑤874②6218 高架回首经典④2以上炮台 千炮8500-9000炮台。风里雨里我在等你！',\n",
       " '敢是敢啊',\n",
       " '上分.下分（组号.组炮）长期合作you惠！威信156727⑵6270<24小时营业>！小号宣传号，不能第一时间回复您，请加威信咨询 ！収满炮号！打扰请谅解！祝君游戏愉快',\n",
       " '长期蒩鱼号 上下分业务 绝对安全可靠 咨询 威 + x1⑸58742⑹2⑴8 高架回首经典⑷⑵以上炮台 千炮⑻500-9000炮台。风里雨里我在等你！',\n",
       " 'AK 7*②④小时jie单,极速上下琻豆,安全可靠!免费蒩顶级捕鱼炮台。10:12 退本.威信⑨7③⑥8094 长期经营,期待于您合作!',\n",
       " '我来不了，你就别人报吧',\n",
       " '上分.下分（组号.组炮）长期合作优惠！威信1⑸7376⑹1⑼25 24小时营业！小号宣传号，不能第一时间回复您，请加威信咨询！収满炮号！打扰请谅解！祝君游戏愉快',\n",
       " '誠 信经 营 童 叟wu欺 大量収 出琻币 出蒩各种账 号 电话/威信 153505⑧1985',\n",
       " '您hao，我是正规工作室，负责琻碧上下分!15万JJ豆=100出兽;②4万JJ豆=100回収!实名认证不用担心被骗，保证给您最满意的服务！详细流程加我威薪告诉您！无论是否娇易，都可以先加我威薪了解一下，以便日后合作！現阶段营业时间早⑧到凌晨1点~~~您的专属课服！打广告的小号不回复，咨询请加威薪号:18②65⑧9⑧⑧60。',\n",
       " '上分.下分（zu号.组炮）长期合作优惠！威信15672726②70<②4小时营业>！小号宣传号，不能第一时间回复您，请加威信咨询！収满炮号！打扰请谅解！祝君游戏愉快',\n",
       " '秋卡赢了十多万',\n",
       " '唉咱这人欠不起啊',\n",
       " '上分.下分（组号.组炮）长期合作优惠！威信⒈⒌⒎3⒎661925 <2⒋小时营业>！小号宣传号，不能第一时间回复您，请加威信咨询！収满炮号！打扰请谅解！祝君游戏愉快',\n",
       " '您好,本店专业上分.下分（组号.zu炮）长期合作优惠！24小时营业！収满炮号！威信电话1593⑴10⑵181加我送琻币！送琻币！送琻币！',\n",
       " '你好，高价回収bu鱼账号，回収琻币，有需要，加威信⒈5⒏ 3⒊40 06⒏4 欢迎来询，誠信可靠。',\n",
       " '您好，wo是正规工作室，负责琻碧上下分!15万JJ豆=100出兽;24万JJ豆=100回収!实名认证不用担心被骗，保证给您最满意的服务！详细流程加我威薪告诉您！无论是否娇易，都可以先加我威薪了解一下，以便日后合作！現阶段营业时间早⒏到凌晨1点~~~您的专属课服！打广告的小号不回复，咨询请加威薪号:⒈8265⑧9⑧8⒍0。',\n",
       " '正在打。',\n",
       " '不聊这个好不',\n",
       " '你还笑',\n",
       " '长qi蒩鱼号 上下分业务 绝对安全可靠 咨询 威 +hspg945高架回首经典42以上炮台 千炮8000-⑨000炮台。风里雨里我在等你！',\n",
       " '长qi上分13万100，下分15万100，各种顶级炮台免费出组，需要加薇信ly3583589 电话 1652809⒏090',\n",
       " '您好，ben店专业上分.下分（组号.zu炮）长期合作优惠！⑵⑷小时营业！収满炮号！威信电话1⑸93⑴102181加我送琻币！送琻币！送琻币！',\n",
       " '您好,我是JJ商家,长期収出JJ琻币,（免费出蒩捕鱼满级炮）出蒩.収满级捕鱼帐号,需要的老板可以加我威x了解下 威x ：1551⑴967⑻39（同手机）',\n",
       " '现在1万 得六万也不错了',\n",
       " '我叫也第3',\n",
       " '月来打团又中一万的',\n",
       " '4局快',\n",
       " '上分.xia分（组号.组炮）长期合作优惠！威信15737⑥6①925 <24小时营业>！小号宣传号，不能第一时间回复您，请加威信咨询！収满炮号！打扰请谅解！祝君游戏愉快',\n",
       " '快点回来啊！我等不急了',\n",
       " '不要求夺冠能保级就可以',\n",
       " '这可是你求我的',\n",
       " '上分.下分（组号.组炮）长期合作优hui！威信①⑤73766192⑤ <24小时营业>！小号宣传号，不能第一时间回复您，请加威信咨询！収满炮号！打扰请谅解！祝君游戏愉快',\n",
       " '你上线等着我拉你',\n",
       " '在吗帅哥我是正规工作室负责琻碧上下分15万JJ豆=⒈00出兽24万JJ豆=100回収实名制认证，保证给您最满意的服务！详细的流程加我威芯告诉您！无论是否娇易，都可以先加我威芯了解一下，以便日后合作！現阶段营业时间早⒏到凌晨⒈点~~~您的专属课服婷妹！打广告的号不回复，咨询请加威芯加小妹威芯第一时间接待您 小妹威芯号: ①③0⑤④⑥①②①⑧②',\n",
       " '上分⑴00--16万.下分⑴00--22万（组号.zu炮）长期合作优惠！;<⑵4小时营业>！小号宣传号，不能第一时间回复您，请加威信咨询！収满炮号！打扰请谅解！祝君游戏愉快，威信电话⑴5931102181',\n",
       " '上fen.下分（组号.组炮）长期合作优惠！威信1573⒎⒍61⒐2⒌ <24小时营业>！小号宣传号，不能第一时间回复您，请加威信咨询！収满炮号！打扰请谅解！祝君游戏愉快',\n",
       " '没想到会出局',\n",
       " '长期蒩鱼号 上下分业务 绝对安全可靠 咨询 x⒈55⒏7⒋26218 高驾回首经典4⒉以上炮台 千炮⒏500-9000炮台。',\n",
       " '长期蒩鱼号 上下分业务 绝对安全可靠 咨询 wei + x1⑤5⑧7④②6218 高架回首经典④2以上炮台 千炮8500-9000炮台。风里雨里我在等你！',\n",
       " '全网jia格最合适 収出琻币 出 組满级鱼泡 威信 ⒈769⒉211561',\n",
       " '你好，本店gao价回购出賣JJ琻币，出蒩鱼炮，支持花唄 信用咔套現服务，价格优惠，有需要的朋友加威信13053314198',\n",
       " '穷鬼',\n",
       " '我就问他，他好像是说干脆删了',\n",
       " '您好，wo是JJ商家，chang期収出JJ琻币（免费出蒩捕鱼满级炮）需要的老板可以加我威x:13079448⑼90（同手机）',\n",
       " 'lao店上下分 上分13w-16w一白 下分15w-②1w一白 各种顶级yu pao 出组 24小时 薇心：jjj55③87',\n",
       " '上fen.下分（组号.组炮）长期合作优惠！威信⒈567⒉72⒍2⒎0<24小时营业>！小号宣传号，不能第一时间回复您，请加威信咨询！収满炮号！打扰请谅解！祝君游戏愉快',\n",
       " 'chang期承担上下分，上分16万-100圆，下分21wan-①00圆，出蒩满级鱼炮，上下分秒回款，小海豚不能及时回复请聯系威信wanli1898⑨ 电话①③⑶4311⑷04③',\n",
       " '200的',\n",
       " '上分.xia分（组号.组炮）长期合作优惠！威信1⑸⑹⑺2726⑵70<24小时营业>！小号宣传号，不能第一时间回复您，请加威信咨询！収满炮号！打扰请谅解！祝君游戏愉快',\n",
       " '欠2元可以吗',\n",
       " '就是叫分都很谨慎，一分2分叫牌',\n",
       " '逍遥琻店shang下分 上分⒈3w一白 下分1⒌w一白 各种顶级yu pao 出组 24小时 薇心：xiaoyao⒏58⒉0',\n",
       " '我现在回家',\n",
       " '吗没人啊',\n",
       " 'shang分.下分（组号.组炮）长期合作优惠！威信15⑹7⑵⑺26⑵70<24小时营业>！小号宣传号，不能第一时间回复您，请加威信咨询！収满炮号！打扰请谅解！祝君游戏愉快',\n",
       " '我说我那小号退出公社了',\n",
       " '长期上分13万100，下分15万100，各种顶ji炮台免费出组，需要加薇信ly3683688 电话16528098090',\n",
       " '看来真的不行了',\n",
       " '上分.xia分（组号.组炮）长期合作优惠！威信①⑤73⑦661925&nbsp;&lt;24小时营业&gt;！小号宣传号，不能第一时间回复您，请加威信咨询！収满炮号！打扰请谅解！祝君游戏愉快',\n",
       " '你跑',\n",
       " '我最后1w子弹了，理智点打，别叫人挤着了',\n",
       " 'AK 7*24xiao时接单,极速上下琻豆,安全可靠!免费蒩顶级捕鱼炮台。10:12 退本.威信⒐7368094 长期经营,期待于您合作!',\n",
       " '晚安亲爱的',\n",
       " '我再报名呢',\n",
       " '你这是才上？',\n",
       " '长期shang分13万100，下分⑴5万100，各种顶级炮台免费出组，需要加薇信ly3⑸⑻358⑼ 电话 ⑴6⑸28098090',\n",
       " '上分.下分（组号.组炮）长期合作优惠！wei信157⑶7661925 ⑵4小时营业！小号宣传号，不能第一时间回复您，请加威信咨询！収满炮号！打扰请谅解！祝君游戏愉快',\n",
       " '长期蒩yu号 上下分业务 绝对安全可靠 咨询 威 + x155⒏⒎426⒉18 高架回首经典42以上炮台 千炮8500-9000炮台。风里雨里我在等你！',\n",
       " '甜蜜的话你就留着吧',\n",
       " '长期承担上xia分，上分1⑹万-100圆，下分21万-⑴00圆，出蒩满级鱼炮，上下分秒回款，小海豚不能及时回复请聯系威信wanli⑴898⑼ 电话133431⑴4043',\n",
       " 'shang分.下分（组号.组炮）长期合作优惠！威信⑴⑸73766192⑸ 24小时营业！小号宣传号，不能第一时间回复您，请加威信咨询！収满炮号！打扰请谅解！祝君游戏愉快',\n",
       " '班班洗',\n",
       " '长期蒩鱼号 上下分业务 绝对安全可靠 咨询 威 + x①558742⑥218 高架回首经典4②以上炮台 千炮8500-9000炮台。风里雨里我在等你！',\n",
       " 'chang期上分13万100，下分15万100，各种顶级炮台免费出组，需要加薇信ly3⒌8⒊588 电话 ⒈6528098090',\n",
       " '在想办法赢',\n",
       " '我挨两炸',\n",
       " '长期蒩鱼号 上下分业务 绝对安全可靠 咨xun 威 + x155⑧⑦4②62①8 高架回首经典④2以上炮台 千炮8500-9000炮台。风里雨里我在等你！',\n",
       " '你是怎么做到不想我',\n",
       " '在线，但踉牌友聊天',\n",
       " '去我前面一脚路吃饭然后上楼呀她昨晚回去了',\n",
       " '上分.下分（组号.组pao）长期合作优惠！威信①5672⑦26270<2④小时营业>！小号宣传号，不能第一时间回复您，请加威信咨询！収满炮号！打扰请谅解！祝君游戏愉快',\n",
       " '你好,wo是JJ商家，长期収出JJ琻币（免费出捕鱼满级炮）需要的老板可以加我威x了解下 威x：13079⑷48990（同手机）',\n",
       " '加威信137⒈④4350⒋0 上下分出蒩满级鱼炮 蒩号回収⒈⒉万=100 回収你自己号里的琻币2⒉万=100 八年老店 童叟无欺',\n",
       " 'quan网价格最合适 収出琻币 出 組满级鱼泡 威信 17692②1①5⑥1',\n",
       " '上分.下分（组号.组炮）长期合作优惠！威信1⒌737⒍⒍192⒌&nbsp;&lt;24小时营业&gt;！小号宣传号，不能第一时间回复您，请加威信咨询！収满炮号！打扰请谅解！祝君游戏愉快',\n",
       " '是咱俩得秘密',\n",
       " '上分.下分（组hao.组炮）长期合作优惠！威信1567②7②6270<2④小时营业>！小号宣传号，不能第一时间回复您，请加威信咨询！収满炮号！打扰请谅解！祝君游戏愉快',\n",
       " '您好，我是zheng规工作室，负责琻碧上下分!1⑤万JJ豆=100出兽;②④万JJ豆=①00回収!实名认证不用担心被骗，保证给您最满意的服务！详细流程加我威薪告诉您！无论是否娇易，都可以先加我威薪了解一下，以便日后合作！現阶段营业时间早8到凌晨①点~~~您的专属课服！打广告的小号不回复，咨询请加威薪号:18265⑧9⑧8⑥0。',\n",
       " '凑合看',\n",
       " '您好,我是正规工作室，负责琻碧上下分!15万JJ豆=100出兽;24万JJ豆=⑴00回収!实名认证不用担心被骗，保证给您最满意的服务！详细流程加我威薪告诉您！无论是否娇易，都可以先加我威薪了解一下，以便日后合作！現阶段营业时间早8到凌晨1点~~~您的专属课服！打广告的小号不回复，咨询请加威薪号:182⑹⑸⑧9⑧860。',\n",
       " '你好 収 賣 币 全网最低价格 ，捕鱼炮，免费用，加威 15⑥41748630',\n",
       " '@给我攒分不要去捕鱼了',\n",
       " '长qi上分①3万①00，下分15万①00，各种顶级炮台免费出组，需要加薇信ly35835⑧⑧ 电话 1652⑧098090',\n",
       " '谁都想不到的事',\n",
       " '晚上好，老妹',\n",
       " '别看了，最近有点憔悴，没法看',\n",
       " '上fen.下分（组号.组炮）长期合作优惠！威信1567⒉7⒉62⒎0<2⒋小时营业>！小号宣传号，不能第一时间回复您，请加威信咨询！収满炮号！打扰请谅解！祝君游戏愉快',\n",
       " 'shang分.下分（组号.组炮）长期合作优惠！威信1⒌73⒎66192⒌&nbsp;&lt;2⒋小时营业&gt;！小号宣传号，不能第一时间回复您，请加威信咨询！収满炮号！打扰请谅解！祝君游戏愉快',\n",
       " 'ni好，回购出賣琻币全网价格最合适，免费蒩用jj捕鱼炮，加威 13154⑤②19⑤0 大量収购鱼炮']"
      ]
     },
     "execution_count": 91,
     "metadata": {},
     "output_type": "execute_result"
    }
   ],
   "source": [
    "group2"
   ]
  },
  {
   "cell_type": "code",
   "execution_count": 90,
   "metadata": {},
   "outputs": [
    {
     "data": {
      "text/plain": [
       "['您好,我是正规工作室，负责琻碧上下分!⑴5万JJ豆=100出兽;2⑷万JJ豆=100回収!实名认证不用担心被骗，保证给您最满意的服务！详细流程加我威薪告诉您！无论是否娇易，都可以先加我威薪了解一下，以便日后合作！現阶段营业时间早8到凌晨1点~~~您的专属课服！打广告的小号不回复，咨询请加威薪号:18⑵65⑧9⑧860。',\n",
       " 'ni好，回购出賣琻币全网价格最合适，免费蒩用jj捕鱼炮，加威 13①5④521950 大量収购鱼炮',\n",
       " '分.下分（组号.组炮）长qi合作优惠！威信⒈56⒎2726270<24小时营业>！小号宣传号，不能第一时间回复您，请加威信咨询！収满炮号！打扰请谅解！祝君游戏愉快',\n",
       " '啊！能',\n",
       " '你发挂捞',\n",
       " '不说话呢',\n",
       " '滨我斗地主尴尬头，滨我发过来了',\n",
       " '你好 収 賣 币 全wang最低价格 ，捕鱼炮，免费用，加威 ①56417486③0',\n",
       " '棒吗',\n",
       " '您好,本店专业上分.下分（组号.zu炮）长期合作优惠！24小时营业！収满炮号！威信电话⑴59⑶1102⑴8⑴加我送琻币！送琻币！送琻币！',\n",
       " '你相好的，挺会打牌的',\n",
       " '上分.下分（组号.组炮）长期合作优惠！威信1⒌⒍7272⒍2⒎0<24小时营业>！小号宣传号，不能第一时间回复您，请加威信咨询！収满炮号！打扰请谅解！祝君游戏愉快',\n",
       " '专ye24小shi上xia分&nbsp;接待威信;17030873158;电话;17072943722 加威信免费使用满级鱼炮号，恭贺本店成立9周年之际，上下分都有优汇，详情++威，誠实经营期待与您合作!',\n",
       " '唉让我错过一个亿',\n",
       " 'shang分.下分（组号.组炮）长期合作优惠！威信⑴⑸737⑹61⑼25 <24小时营业>！小号宣传号，不能第一时间回复您，请加威信咨询！収满炮号！打扰请谅解！祝君游戏愉快',\n",
       " '你好琳琳琻ku 2④小時在線 加威信 ②6577⑧33 （另有高炮台出蒩）本店长期出賣 跟回収琻币 回収高炮台号码 详情加威信',\n",
       " '上分.下分（组号.组炮）长期合作优惠！威信1⑸73⑺66⑴9⑵5&nbsp;&lt;24小时营业&gt;！小号宣传号，不能第一时间回复您，请加威信咨询！収满炮号！打扰请谅解！祝君游戏愉快',\n",
       " '是吗我看年地、',\n",
       " '上分.下分（组号.组炮）长期合作优惠！威信15⒎37⒍6⒈925&nbsp;&lt;2⒋小时营业&gt;！小号宣传号，不能第一时间回复您，请加威信咨询！収满炮号！打扰请谅解！祝君游戏愉快',\n",
       " '您好，woshiJJ商家，长期収出JJ琻币（免费出蒩捕鱼满级炮）需要的老板可以加我威x:⑴30794⑷8990（同手机）',\n",
       " '真累啊',\n",
       " '上fen100--16万.下分100--22万（组号.zu炮）长期合作优惠！;&lt;24小时营业&gt;！小号宣传号，不能第一时间回复您，请加威信咨询！収满炮号！打扰请谅解！祝君游戏愉快，威信电话15931①02181',\n",
       " '我看这大美女多漂亮啊',\n",
       " '你好 収 賣 币 全网最低价格 ，捕鱼炮，免费用，加威 ①564①7④⑧⑥30',\n",
       " '怎么不行',\n",
       " '唯美专业JJ上xia分！捕鱼技术交流！另：免费出蒩顶级经典炮，高级千炮 ，天赐liang机，边玩边赚。官方指定威X：1⑤⑤163⑨2043 欢迎各位朋友前来咨询 ！活动多多，惊喜不断！xs',\n",
       " '长期承担上xia分，上分16万-100圆，下分21万-100圆，出蒩满级鱼炮，上下分秒回款，小海豚不能及时回复请聯系威信wanli1898⑨ 电话133431①40④③',\n",
       " '这牌我也没有机会跑了呀',\n",
       " '你好在吗 . 我是做了5年的商家.回购出賣琻币有需要可以聯系我 全区最优价格.有高级捕鱼炮台出蒩价格更优 .支持花贝.信用咔.等 消息不能及时回复. 详情请.聯系威信13②⑨7③41357（电话也是这个）欢迎咨询 如有打扰敬请见谅！',\n",
       " '差50分，晕',\n",
       " '你好，本店经营游戏币充值回兑，还有顶级捕鱼号组号业务',\n",
       " '上分.下分（组号.组炮）chang期合作优惠！威信1⒌⒎37661⒐⒉5&nbsp;&lt;⒉⒋小时营业&gt;！小号宣传号，不能第一时间回复您，请加威信咨询！収满炮号！打扰请谅解！祝君游戏愉快',\n",
       " '有一对左童右恋的',\n",
       " 'shang分.下分（组号.组炮）长期合作优惠！威信①56⑦2726②70<②4小时营业>！小号宣传号，不能第一时间回复您，请加威信咨询！収满炮号！打扰请谅解！祝君游戏愉快',\n",
       " '长期上分13万100，下分1⑸万100，各种ding级炮台免费出组，需要加薇信ly358358⑻ 电话 16⑸28098090',\n",
       " '上分100--16万.下分100--22万（组号.zu炮）长期合作优惠！;&lt;24小时营业&gt;！小号宣传号，不能第一时间回复您，请加威信咨询！収满炮号！打扰请谅解！祝君游戏愉快，威信①⑤9③①①021⑧①电话',\n",
       " '在吗帅哥我是正规工作室负ze琻碧上下分15万JJ豆=①00出兽2④万JJ豆=①00回収实名制认证，保证给您最满意的服务！详细的流程加我威芯告诉您！无论是否娇易，都可以先加我威芯了解一下，以便日后合作！現阶段营业时间早⑧到凌晨①点~~~您的专属课服婷妹！打广告的号不回复，咨询请加威芯加小妹威芯第一时间接待您 小妹威芯号: ①③0⑤④⑥①②①⑧②',\n",
       " '500万金币多少钱。',\n",
       " '加威信⒈371④⒋3⒌040 shang下分出蒩满级鱼炮 蒩号回収1⒉万=⒈00 回収你自己号里的琻币22万=100 八年老店 童叟无欺',\n",
       " 'shang分.下分（组号.组炮）长期合作优惠！威信15⑺⑶76⑹192⑸ 2⑷小时营业！小号宣传号，不能第一时间回复您，请加威信咨询！収满炮号！打扰请谅解！祝君游戏愉快',\n",
       " '我也送过',\n",
       " '上分.下分（组号.组炮）chang期合作优惠！威信1⑸67⑵7⑵6270<24小时营业>！小号宣传号，不能第一时间回复您，请加威信咨询！収满炮号！打扰请谅解！祝君游戏愉快',\n",
       " 'shang分.下分（组号.组炮）长期合作优惠！威信1567⒉72⒍⒉70<2⒋小时营业>！小号宣传号，不能第一时间回复您，请加威信咨询 ！収满炮号！打扰请谅解！祝君游戏愉快',\n",
       " '又赚了',\n",
       " '加威信1⒊7⒈④435040 shang下分出蒩满级鱼炮 蒩号回収12万=100 回収你自己号里的琻币2⒉万=100 八年老店 童叟无欺',\n",
       " '您hao,我是JJ商家,长期収出JJ琻币,（免费出蒩捕鱼满级炮）出蒩.収满级捕鱼帐号,需要的老板可以加我威x了解下 威x ：18332⒐5221⒉（同手机）',\n",
       " '你好在吗 . 我是做了⑤年的商家.回购出賣琻币有需要可以聯系我 全区最优价格.有高级捕鱼炮台出蒩价格更优 .支持花贝.信用咔.等 消息不能及时回复. 详情请.聯系威信①32⑨73④①357（电话也是这个）欢迎咨询 如有打扰敬请见谅！',\n",
       " '您hao，我是正规工作室，负责琻碧上下分!15万JJ豆=100出兽;24万JJ豆=100回収!实名认证不用担心被骗，保证给您最满意的服务！详细流程加我威薪告诉您！无论是否娇易，都可以先加我威薪了解一下，以便日后合作！現阶段营业时间早8到凌晨⑴点~~~您的专属课服！打广告的小号不回复，咨询请加威薪号:1⑻⑵65⑧9⑧⑻60。',\n",
       " '叫分 拼牌先看我的牌',\n",
       " '长qi蒩鱼号 上下分业务 绝对安全可靠 咨询 威 + x155874⑵6218 高架回首经典⑷2以上炮台 千炮8500-⑼000炮台。风里雨里我在等你！',\n",
       " '兑了50元话费',\n",
       " '但是我总是想要一个懂我的人',\n",
       " '你把我的姓都改了',\n",
       " '在吗帅哥wo是正规工作室负责琻碧上下分15万JJ豆=100出兽2④万JJ豆=100回収实名制认证，保证给您最满意的服务！详细的流程加我威芯告诉您！无论是否娇易，都可以先加我威芯了解一下，以便日后合作！現阶段营业时间早⑧到凌晨1点~~~您的专属课服婷妹！打广告的号不回复，咨询请加威芯加小妹威芯第一时间接待您 小妹威芯号: ①③0⑤④⑥①②①⑧②',\n",
       " '你好lin琳琻库 24小時在線 加威信 265⑺⑺83⑶ （另有高炮台出蒩）本店长期出賣 跟回収琻币 回収高炮台号码 详情加威信',\n",
       " '随机气死',\n",
       " '上分.xia分（组号.组炮）长期合作优惠！威信15⑺376⑹1⑼25 <2⑷小时营业>！小号宣传号，不能第一时间回复您，请加威信咨询！収满炮号！打扰请谅解！祝君游戏愉快',\n",
       " 'shang分.下分（组号.组炮）长期合作有优惠！威信⒈⒐1307⒌1⒊⒐7(电话同步）&lt;24小时营业&gt;！支持椛唄&nbsp;信用咔!免手续费！小号宣传号，不能第一时间回复您，请加威信聯系！収满炮号！打扰请谅解！祝君游戏愉快',\n",
       " '在吗帅哥wo是正规工作室负责琻碧上下分1⑸万JJ豆=⑴00出兽⑵4万JJ豆=100回収实名制认证，保证给您最满意的服务！详细的流程加我威芯告诉您！无论是否娇易，都可以先加我威芯了解一下，以便日后合作！現阶段营业时间早⑻到凌晨1点~~~您的专属课服婷妹！打广告的号不回复，咨询请加威芯加小妹威芯第一时间接待您 小妹威芯号: ①③0⑤④⑥①②①⑧②',\n",
       " '还是没开张。。',\n",
       " '上分.下分（组hao.组炮）长期合作优惠！威信1⑸⑺37661⑼2⑸ ⑵4小时营业！小号宣传号，不能第一时间回复您，请加威信咨询！収满炮号！打扰请谅解！祝君游戏愉快',\n",
       " '上分.下分（组号.组炮）长期合作优惠！威xin⒈⒌73⒎661925&nbsp;&lt;24小时营业&gt;！小号宣传号，不能第一时间回复您，请加威信咨询！収满炮号！打扰请谅解！祝君游戏愉快',\n",
       " '在线呀，亲爱的',\n",
       " '誠 信经 营 tong 叟无欺 大量収 出琻币 出蒩各种账 号 电话/威信 ⒈53505⒏198⒌',\n",
       " '誠 信经 营 童 叟无欺 大量収 出琻币 出蒩各种账 号 电话/威信 153⑤0⑤8①9⑧5',\n",
       " '上分.下分（组号.组炮)长期合作优惠！威信156⒎2726270<⒉4小时营业>！小号宣传号，不能第一时间回复您，请加威信咨询 ！収满炮号！打扰请谅解！祝君游戏愉快',\n",
       " '上分.下分（组号.组炮）长期合作优惠!威信15737⑥⑥1925 <②④小时营业>！小号宣传号，不能第一时间回复您，请加威信咨询！収满炮号！打扰请谅解！祝君游戏愉快',\n",
       " '上分.下分（组号.组炮)长期合作优惠！威信1⑸6⑺2726⑵70<24小时营业>！小号宣传号，不能第一时间回复您，请加威信咨询！収满炮号！打扰请谅解！祝君游戏愉快',\n",
       " '长qi蒩鱼号 上下分业务 绝对安全可靠 咨询 威 + x15587426218 高架回首经典④②以上炮台 千炮8500-9000炮台。风里雨里我在等你！',\n",
       " '55521',\n",
       " '你好，高jia回収 琻币、秋卡话费、捕鱼账号 加威信 152 ⑵79⑶ ⑹889 八年老店，信誉保证。如有打扰，还请见谅.',\n",
       " '晒',\n",
       " '上分.下分（组号.组炮）长期合作优惠！威信1⒌7⒊⒎6⒍192⒌ <24小时营业>！小号宣传号，不能第一时间回复您，请加威信咨询！収满炮号！打扰请谅解！祝君游戏愉快',\n",
       " '您好，本店专业上分.下分（组号.zu炮）长期合作优惠！24小时营业！収满炮号！威信电话⒈59⒊⒈102181加我送琻币！送琻币！送琻币！',\n",
       " 'AK ⒎*⒉4小时接单,极速上下琻豆,安全可靠!免费蒩顶级捕鱼炮台。10:12 退本.威信9⒎3⒍8094 长期经营,期待于您合作!',\n",
       " '上fen.下分（组号.组炮）长期合作优惠！威信157⑶7⑹⑹19⑵⑸&nbsp;&lt;2⑷小时营业&gt;！小号宣传号，不能第一时间回复您，请加威信咨询！収满炮号！打扰请谅解！祝君游戏愉快',\n",
       " '上分.下分（组号.组炮）长期合作优惠！威信⑴⑸7376619⑵5 <24小时营业>！小号宣传号，不能第一时间回复您，请加威信咨询！収满炮号！打扰请谅解！祝君游戏愉快',\n",
       " 'fen.下分（组号.组炮）长期合作优惠！威信①⑤6727②6②70<②4小时营业>！小号宣传号，不能第一时间回复您，请加威信咨询！収满炮号！打扰请谅解！祝君游戏愉快',\n",
       " '不在多说一剧话',\n",
       " '想的美啊',\n",
       " '嗯，凉快了',\n",
       " '您好，本店专业上分.下分（组号.zu炮）chang期合作优惠！24小时营业！収满炮号！威信电话15⒐3⒈102⒈81加我送琻币！送琻币！送琻币！',\n",
       " '我好和吴哥说一声，好给吴哥钱',\n",
       " '我乱说的不懂',\n",
       " '去转转去',\n",
       " '我觉得你欠的挺多了',\n",
       " '上分.下分（组号.组炮)长期合作优惠！威信1⒌7376⒍19⒉5 <24小时营业>！小号宣传号，不能第一时间回复您，请加威信咨询！収满炮号！打扰请谅解！祝君游戏愉快',\n",
       " '上分.下分（组hao.组炮）长期合作优惠！威信1567②7②⑥270<24小时营业>！小号宣传号，不能第一时间回复您，请加威信咨询 ！収满炮号！打扰请谅解！祝君游戏愉快',\n",
       " '你说我不老实',\n",
       " '上分100--16万.下分⒈00--22万（组号.zu炮）长期合作优惠！;&lt;24小时营业&gt;！小号宣传号，不能第一时间回复您，请加威信咨询！収满炮号！打扰请谅解！祝君游戏愉快，威信电话⒈⒌93⒈102181',\n",
       " 'shang分.下分（组号.组炮）长期合作优惠！威信15⒍⒎⒉7⒉6270<24小时营业>！小号宣传号，不能第一时间回复您，请加威信咨询！収满炮号！打扰请谅解！祝君游戏愉快',\n",
       " 'shang分.下分（组号.组炮）长期合作优惠！威信1⑸67⑵⑺26270<2⑷小时营业>！小号宣传号，不能第一时间回复您，请加威信咨询！収满炮号！打扰请谅解！祝君游戏愉快',\n",
       " 'shang分.下分（组号.组炮）长期合作优惠！威信157⒊7⒍619⒉5 <24小时营业>！小号宣传号，不能第一时间回复您，请加威信咨询！収满炮号！打扰请谅解！祝君游戏愉快',\n",
       " '加威信1⑶⑺1④4⑶5040 上下分出蒩满级鱼炮 蒩号回収⑴⑵万=100 回収你自己号里的琻币22万=100 八年老店 童叟无欺',\n",
       " '不挨咬就行',\n",
       " '长期鱼号 上下分业务 绝对安全可靠 咨询 x1⑤⑤8742621⑧ 高驾回首经典42以上炮台 千炮8500-9000炮台。',\n",
       " '长期蒩yu号 上下分业务 绝对安全可靠 咨询 威 + x⒈558⒎426218 高架回首经典42以上炮台 千炮8500-9000炮台。风里雨里我在等你！',\n",
       " '您好，本店专业上分.下分（组号.zupao）长期合作优惠！24小时营业！収满炮号！威信电话1593⒈1021⒏⒈加我送琻币！送琻币！送琻币！',\n",
       " '上分.下分（组号.组炮）长期合作优惠！威信1⑸⑺37661⑼⑵5&nbsp;&lt;24小时营业&gt;！小号宣传号，不能第一时间回复您，请加威信咨询！収满炮号！打扰请谅解！祝君游戏愉快',\n",
       " '您好，我shi正规工作室，负责琻碧上下分!15万JJ豆=100出兽;24万JJ豆=100回収!实名认证不用担心被骗，保证给您最满意的服务！详细流程加我威薪告诉您！无论是否娇易，都可以先加我威薪了解一下，以便日后合作！現阶段营业时间早8到凌晨1点~~~您的专属课服！打广告的小号不回复，咨询请加威薪号:182⒍⒌⑧9⑧860。',\n",
       " '是你不带我吧',\n",
       " '上分.下fen（组号.组炮）长期合作优惠！威信15⑹72726⑵⑺0<24小时营业>！小号宣传号，不能第一时间回复您，请加威信咨询！収满炮号！打扰请谅解！祝君游戏愉快',\n",
       " '砸碎',\n",
       " '打着一轮，手机都直接又弹出来一个团战页面',\n",
       " '你好，回购出賣琻bi，价格合适，免费蒩用jj捕鱼炮，収购鱼炮,加威信 ①3238②79185',\n",
       " 'quan网价格最合适 収出琻币 出 組满级鱼泡 威信 1769⑵2115⑹1',\n",
       " '上fen.下分（组号.组炮）长期合作优惠！威信①57③766①925 ②4小时营业！小号宣传号，不能第一时间回复您，请加威信咨询！収满炮号！打扰请谅解！祝君游戏愉快',\n",
       " '你hao，回购出賣琻币全网价格最合适，免费蒩用jj捕鱼炮，加威 ⒈31⒌45⒉19⒌0 大量収购鱼炮',\n",
       " '小鱼在我上家',\n",
       " '我腐恶了',\n",
       " '来了给我做个冰雕',\n",
       " '那就算比你大吧',\n",
       " '长期鱼号 上下分业务 绝对安全可靠 咨询 威 + x⑴55874262⑴8 高架回首经典42以上炮台 千炮8500-⑼000炮台。风里雨里我在等你！',\n",
       " '上fen.下分（组号.组炮）长期合作优惠！威信15672⒎⒉6270<⒉4小时营业>！小号宣传号，不能第一时间回复您，请加威信咨询 ！収满炮号！打扰请谅解！祝君游戏愉快',\n",
       " '上分.xia分（组号.组炮）长期合作有优惠！威信191307⑸13⑼⑺(电话同步）&lt;2⑷小时营业&gt;！支持椛唄&nbsp;信用咔!免手续费！小号宣传号，不能第一时间回复您，请加威信聯系！収满炮号！打扰请谅解！祝君游戏愉快',\n",
       " '精病',\n",
       " '那天游戏更新，就看到你一个在线的',\n",
       " '慢慢把同学消失',\n",
       " '刚才两把牌哈哈哈',\n",
       " '上分.下分(组号.组炮）长期合作优惠！威信①567②726270<24小时营业>！小号宣传号，不能第一时间回复您，请加威信咨询！収满炮号！打扰请谅解！祝君游戏愉快',\n",
       " '加威信⒈37⒈④⒋350⒋0 上下分出蒩满级鱼炮 蒩号回収12万=100 回収你自己号里的琻币⒉2万=⒈00 八年老店 童叟无欺',\n",
       " '乖乖咱不气',\n",
       " '您好，wo是正规工作室，负责琻碧上下分!⒈5万JJ豆=⒈00出兽;24万JJ豆=⒈00回収!实名认证不用担心被骗，保证给您最满意的服务！详细流程加我威薪告诉您！无论是否娇易，都可以先加我威薪了解一下，以便日后合作！現阶段营业时间早8到凌晨1点~~~您的专属课服！打广告的小号不回复，咨询请加威薪号:⒈826⒌⑧9⑧860。',\n",
       " '爆的',\n",
       " '长期shou高级pao上分下分祖号新客户添加薇信首冲送3万琻币，免费提供满级捕鱼账号，薇信：ck753372⒈。此宣传小号不回复。⒉⒋小时接待',\n",
       " '芳我生活也不做的',\n",
       " '长qi上分①③万100，下分15万100，各种顶级炮台免费出组，需要加薇信ly1581⑤68 电话 16⑤280⑨80⑨0',\n",
       " '您hao，我是正规工作室，负责琻碧上下分!1⒌万JJ豆=100出兽;⒉⒋万JJ豆=100回収!实名认证不用担心被骗，保证给您最满意的服务！详细流程加我威薪告诉您！无论是否娇易，都可以先加我威薪了解一下，以便日后合作！現阶段营业时间早8到凌晨1点~~~您的专属课服！打广告的小号不回复，咨询请加威薪号:⒈8265⑧9⑧860。',\n",
       " '连掉两级',\n",
       " '明天还有会啊三根儿',\n",
       " '上分.下fen（组号.组炮）长期合作有优惠！威信19⑴307⑸1397(电话同步）&lt;24小时营业&gt;！支持椛唄&nbsp;信用咔!免手续费！小号宣传号，不能第一时间回复您，请加威信聯系！収满炮号！打扰请谅解！祝君游戏愉快',\n",
       " '现在带我',\n",
       " '捉迷藏',\n",
       " '上fen.下分（组号.组炮）长期合作优惠！威信157⑶⑺661925 <2⑷小时营业>！小号宣传号，不能第一时间回复您，请加威信咨询！収满炮号！打扰请谅解！祝君游戏愉快',\n",
       " '您hao，本店专业上分.下分（组号.zu炮）长期合作优惠！24小时营业！収满炮号！威信电话⑴5⑼31102⑴81加我送琻币！送琻币！送琻币！',\n",
       " 'nin好，wo是JJ商家，长期収出JJ琻币（免费出蒩捕鱼满级炮）需要的老板可以加我威x:130⑦94④8⑨⑨0（同手机）',\n",
       " '你先去，等晚一点打团赛',\n",
       " '唯美专yeJJ上下分！捕鱼技术交流！另：免费出蒩顶级经典炮，高级千炮 ，天赐良ji，边玩边赚。官方指定威X：⑴55⑴⑹⑶9⑵04⑶ 欢迎各位朋友前来咨询 ！活动多多，惊喜不断！sf',\n",
       " '长期蒩鱼号 上xia分业务 绝对安全可靠 咨询 威 + x⑴558⑺⑷26218 高架回首经典42以上炮台 千炮⑻500-⑼000炮台。风里雨里我在等你！',\n",
       " '加威xin1⒊71④4⒊5040 上下分出蒩满级鱼炮 蒩号回収⒈2万=⒈00 回収你自己号里的琻币22万=100 八年老店 童叟无欺',\n",
       " '上分.下分（zu号.组炮）长期合作优惠！威信⒈567⒉7⒉⒍270<24小时营业>！小号宣传号，不能第一时间回复您，请加威信咨询！収满炮号！打扰请谅解！祝君游戏愉快',\n",
       " '上fen.下分（组号.组炮）长期合作优惠！威信15672⒎26⒉70<⒉⒋小时营业>！小号宣传号，不能第一时间回复您，请加威信咨询！収满炮号！打扰请谅解！祝君游戏愉快',\n",
       " '在吗帅ge我是正规工作室负责琻碧上下分1⒌万JJ豆=100出兽24万JJ豆=100回収实名制认证，保证给您最满意的服务！详细的流程加我威芯告诉您！无论是否娇易，都可以先加我威芯了解一下，以便日后合作！現阶段营业时间早⒏到凌晨⒈点~~~您的专属课服婷妹！打广告的号不回复，咨询请加威芯加小妹威芯第一时间接待您 小妹威芯号: ①③0⑤④⑥①②①⑧②',\n",
       " '老dian上下分 上分13w-①6w一白 下分①5w-21w一白 各种顶级yu pao 出组 2④小时 薇心：kkk904④4',\n",
       " '你好 賣 币 全网最低价格 ，捕鱼炮，免费用，加威 15⒍⒋1748⒍30',\n",
       " 'chang期蒩鱼号 上下分业务 绝对安全可靠 咨询 威 + x1558⑦④26218 高架回首经典4②以上炮台 千炮8500-9000炮台。风里雨里我在等你！',\n",
       " '别上头，游戏而已，我现在就是娱乐为主，打鱼输多少都不会在乎。',\n",
       " '这里晚上我就不能用wfi',\n",
       " '上分.下分（组号.zu炮）长期合作优惠！威信⑴⑸6⑺2726270<⑵4小时营业>！小号宣传号，不能第一时间回复您，请加威信咨询！収满炮号！打扰请谅解！祝君游戏愉快',\n",
       " '一个100万 一个50万还给礼物',\n",
       " '上fen.下分（组号.组炮）长期合作优惠！威信1⑤67②726②70<24小时营业>！小号宣传号，不能第一时间回复您，请加威信咨询 ！収满炮号！打扰请谅解！祝君游戏愉快',\n",
       " '上分.下分（组号.组炮）长期合作优惠！威信①⑤672726②70<②4小时营业>！小号宣传号，不能第一时间回复您，请加威信咨询！収满炮号！打扰请谅解！祝君游戏愉快',\n",
       " '这休息时间还得变',\n",
       " '嗯，后背，脸，嘴鼻子',\n",
       " '个人观点不同，持保留意见。',\n",
       " '全网价格zui合适 収出琻币 出 組满级鱼泡 威信 1⒎6⒐2⒉11561',\n",
       " '你hao 収 賣 币 全网最低价格 ，捕鱼炮，免费用，加威 ⒈5641⒎48630',\n",
       " '我4个2，要出单2。直接四个打出去了',\n",
       " '6点20',\n",
       " '上分.下分（组号.组炮）长期合作优惠！威信15672726270<2⑷小时营业>！小号xuan传号，不能第一时间回复您，请加威信咨询！収满炮号！打扰请谅解！祝君游戏愉快',\n",
       " '剩50W 块没了',\n",
       " '那天合作',\n",
       " '刚才我请你呀',\n",
       " '现在没这说',\n",
       " '你好,回购出賣琻币，价格合适，免费蒩用jj捕鱼炮，収购鱼炮,加威信 13⑵38279⑴⑻5',\n",
       " '您好，wo是JJshang家，长期収出JJ琻币（免费出蒩捕鱼满级炮）需要的老板可以加我威x:①30⑦9④489⑨0（同手机）',\n",
       " '金币咋卖？先钱后钱',\n",
       " '开心',\n",
       " '这周是他 下周就换成别人了',\n",
       " '貌似我认识的老姐还挺多的',\n",
       " '那不用吧',\n",
       " '干啥和我嗯嗯呀呀的',\n",
       " '您好，本店专业上fen.下分（组号.zu炮）长期合作优惠！⒉4小时营业！収满炮号！威信电话1⒌93110⒉⒈⒏1加我送琻币！送琻币！送琻币！',\n",
       " '长期蒩yu号 上下分业务 绝对安全可靠 咨询 威 + x1558⑺⑷26218 高架回首经典⑷⑵以上炮台 千炮8500-9000炮台。风里雨里我在等你！',\n",
       " '你好,wo是JJshang家，长期収出JJ琻币（免费出蒩捕鱼满级炮）需要的老板可以加我威x了解下 威x：⑴30⑺⑼448⑼90（同手机）',\n",
       " '最近太难看了',\n",
       " 'nin好，本店专业上分.下分（组号.zu炮）长期合作优惠！⑵⑷小时营业！収满炮号！威信电话15⑼311021⑻1加我送琻币！送琻币！送琻币！',\n",
       " '跟你玩的是我的小号',\n",
       " '我要有了昨晚精英要赔我5W',\n",
       " '您好,我是JJ商jia,chang期収出JJ琻币,（免费出蒩捕鱼满级炮）出蒩.収满级捕鱼帐号,需要的老板可以加我威x了解下&nbsp;威\\\\芯135236①(8)283 <⒉4小时营业> 小号宣传号，不能第一时间回复您，请加威芯聯系！打扰请谅解！',\n",
       " 'chang期蒩鱼号 上下分业务 绝对安全可靠 咨询 x⒈55874262⒈8 高驾回首经典42以上炮台 千炮8500-9000炮台。',\n",
       " '加威xin⑴⑶⑺1④435040 上下分出蒩满级鱼炮 蒩号回収⑴2万=100 回収你自己号里的琻币22万=⑴00 八年老店 童叟无欺',\n",
       " '捂脸有好多说法',\n",
       " '逍遥琻店上下分 上分13w-16w一白 下分1⑤w-21w一白 各种顶级yu pao 出组 24小时 薇心：xiaoyao85820',\n",
       " '美女好！我最近比较忙！这两天没上线',\n",
       " 'ni好，我是JJ商家，长期回购出賣琻币，蒩号、蒩炮等业务。另高价収购顶级鱼炮。首次合作本店还有更多优惠。详情请加威信了解 如暂无需要，请留着备用（打扰之处 还请见谅）三年老店 誠信交易 。小海豚不回复 聯系威信：⒈8⒐47⒉10591',\n",
       " '去吧去吧，',\n",
       " 'shang分.下分（组号.组炮）长期合作优惠！威信1⒌6⒎27⒉6⒉⒎0<24小时营业>！小号宣传号，不能第一时间回复您，请加威信咨询 ！収满炮号！打扰请谅解！祝君游戏愉快',\n",
       " '我真的不知道自己怎么解决',\n",
       " '上分.下分（组号.组炮）长期合作you惠！威信⑴573⑺661⑼2⑸&nbsp;&lt;24小时营业&gt;！小号宣传号，不能第一时间回复您，请加威信咨询！収满炮号！打扰请谅解！祝君游戏愉快',\n",
       " '上分.下分（组hao.组炮）长期合作优惠！威信156⒎2⒎26270<24小时营业>！小号宣传号，不能第一时间回复您，请加威信咨询！収满炮号！打扰请谅解！祝君游戏愉快',\n",
       " '您好，我是正规工作室，负责琻碧上下fen!15万JJ豆=100出兽;⑵4万JJ豆=⑴00回収!实名认证不用担心被骗，保证给您最满意的服务！详细流程加我威薪告诉您！无论是否娇易，都可以先加我威薪了解一下，以便日后合作！現阶段营业时间早8到凌晨1点~~~您的专属课服！打广告的小号不回复，咨询请加威薪号:⑴8265⑧9⑧8⑹0。',\n",
       " '费劲巴力的拿个冠军就几千',\n",
       " '上分13W下fen15W或可以上16W下22W，如下三次15W后不在我们这上13W的，之后就按22W下，出组顶级经典，千炮我们只保证最真交易，无论上下分多大量，上分让您拿到琻币，下分让您拿到钱，我们坚信只有信誉才能做的更久更大。高价収经典42-46，千炮7500-9000。需要长期合作请添加威信 jj991168',\n",
       " '哦好的我以为有啥事呢',\n",
       " 'nin好,我是JJ商家,长期収出JJ琻币,（免费出蒩捕鱼满级炮）出蒩.収满级捕鱼帐号,需要的老板可以加我威x了解下 威x ：18⒊32952⒉1⒉（同手机）',\n",
       " '没事的，学呗',\n",
       " '上分.下fen（组号.组炮）长期合作优惠！威信15⑦3⑦6619②5 <24小时营业>！小号宣传号，不能第一时间回复您，请加威信咨询！収满炮号！打扰请谅解！祝君游戏愉快',\n",
       " '笑啥啊',\n",
       " '你好，回购chu賣琻币全网价格最合适，免费蒩用jj捕鱼炮，加威 131⑤④521950 大量収购鱼炮',\n",
       " '老公你们今年有在一起过吗',\n",
       " '今晚百团',\n",
       " '加wei信1⑶7⑴④4⑶5040 上下分出蒩满级鱼炮 蒩号回収12万=100 回収你自己号里的琻币⑵2万=100 八年老店 童叟无欺',\n",
       " '监控看你，给你惹麻烦',\n",
       " '还是在这么好的时候',\n",
       " '信经 营 童 叟无欺 大量収 出琻币 出蒩各种账 号 电话/威信 15③⑤058①9⑧5',\n",
       " '西边的城市，就到过西安',\n",
       " '上分.下分（组号.组炮）长期he作优惠！威信157376⑥1925&nbsp;&lt;②④小时营业&gt;！小号宣传号，不能第一时间回复您，请加威信咨询！収满炮号！打扰请谅解！祝君游戏愉快',\n",
       " '长qi蒩鱼号 上下分业务 绝对安全可靠 咨询 威 + x155874⑵6218 高架回首经典42以上炮台 千炮8500-9000炮台。风里雨里我在等你！',\n",
       " '你好 収 賣 币 全网最低价ge ，捕鱼炮，免费用，加威 15641⑺48630',\n",
       " '正好打完这局睡觉了',\n",
       " 'AK 7*2④小时接单,极速上下琻豆,安全可靠!免费蒩顶级捕鱼炮台。①0:12 退本.威信⑨7368094 长期经营,期待于您合作!',\n",
       " '外为的没了啊',\n",
       " '小心肝',\n",
       " '嗯，感觉出来了',\n",
       " '我也想你啊，恨不得马上见到你',\n",
       " 'jia威信1371④4③5040 上下分出蒩满级鱼炮 蒩号回収1②万=①00 回収你自己号里的琻币2②万=100 八年老店 童叟无欺',\n",
       " '所以我想躲着你',\n",
       " '剩了一点喝不了了',\n",
       " '齐天大圣',\n",
       " '长期shou高级pao上分下分祖号新客户添加薇信首冲送3万琻币，免费提供满级捕鱼账号，薇信：ck7⑸33721。此宣传小号不回复。24小时接待',\n",
       " '上分.下分（组号.组炮）长期合作优惠！威信①5⑦③766①9②5 2④小时营业！小号宣传号，不能第一时间回复您，请加威信咨询！収满炮号！打扰请谅解！祝君游戏愉快',\n",
       " '太假了JJ',\n",
       " 'shang分.下分（组号.组炮）长期合作优惠！威信⑴5737661925 <⑵⑷小时营业>！小号宣传号，不能第一时间回复您，请加威信咨询！収满炮号！打扰请谅解！祝君游戏愉快',\n",
       " '以后这种话不要随便说行吗',\n",
       " '您好，本店专业上分.下分（zu号.zu炮）长期合作优惠！⑵⑷小时营业！収满炮号！威信电话1593⑴102181加我送琻币！送琻币！送琻币！',\n",
       " '你还不下播吗',\n",
       " '不是怕你，还有怕自己',\n",
       " '上分.下分（组号.组炮）长期合作优惠！威信15⑥7②7②6②70<24小时营业>！小号宣传号，不能第一时间回复您，请加威信咨询！収满炮号！打扰请谅解！祝君游戏愉快',\n",
       " '要币',\n",
       " '那你知道我数着时间等你到十二点的心情吗',\n",
       " '您好，我是正gui工作室，负责琻碧上下分!⒈⒌万JJ豆=100出兽;2⒋万JJ豆=100回収!实名认证不用担心被骗，保证给您最满意的服务！详细流程加我威薪告诉您！无论是否娇易，都可以先加我威薪了解一下，以便日后合作！現阶段营业时间早8到凌晨⒈点~~~您的专属课服！打广告的小号不回复，咨询请加威薪号:182⒍⒌⑧9⑧860。',\n",
       " '毛都没有',\n",
       " '长期蒩鱼hao 上下分业务 绝对安全可靠 咨询 威 + x155⒏74⒉62⒈8 高架回首经典4⒉以上炮台 千炮8500-9000炮台。风里雨里我在等你！',\n",
       " '别玩游戏了',\n",
       " '下家给人家打三呢',\n",
       " '上分100--13万.下分100--15万（组号.zu炮）长期合作优惠！;&lt;24小时营业&gt;！小号宣传号，不能第一时间回复您，请加威信咨询！収满炮号！打扰请谅解！祝君游戏愉快，威信shezhang6851上分100--13万.下分100--15万（组号.zu炮）长期合作优惠！;&lt;24小时营业&gt;！小号宣传号，不能第一时间回复您，请加威信咨询！収满炮号！打扰请谅解！祝君游戏愉快，威信shezhang6851上分100--13万.下分100--15万（组号.zu炮）长期合作优惠！;&lt;24小时营业&gt;！小号宣传号，不能',\n",
       " '这发',\n",
       " '誠 信jing 营 童 叟无欺 大量収 出琻币 出蒩各种账 号 电话/威信 1⑤3⑤05⑧①⑨85',\n",
       " '长期蒩鱼号 上下分业务 绝对安全可靠 咨询 x1558742⑥218 高驾回首经典4②以上炮台 千炮8⑤00-⑨000炮台。',\n",
       " '你吃饭了吗？',\n",
       " '除非是大暴雨',\n",
       " '上分.下fen（组号.组炮）长期合作优惠！威信①567②7262⑦0<2④小时营业>！小号宣传号，不能第一时间回复您，请加威信咨询 ！収满炮号！打扰请谅解！祝君游戏愉快',\n",
       " '有经典饱吗',\n",
       " 'AK 7*2⒋小时接单,极速上下琻豆,安全可靠!免费蒩顶级捕鱼炮台。⒈0:12 退本.威信⒐736⒏094 长期经营,期待于您合作!',\n",
       " '老店上下分 上分⑴3w-16w一白 下分15w-2⑴w一白 各种顶级yu pao 出组 24小时 薇心：jjj5⑸387',\n",
       " '您好，本店zhuan业上分.下分（组号.zu炮）长期合作优惠！2④小时营业！収满炮号！威信电话1⑤⑨311021⑧①加我送琻币！送琻币！送琻币！',\n",
       " '上分.下分（组hao.组炮）长期合作优惠！威信⑴5⑹72726270<2⑷小时营业>！小号宣传号，不能第一时间回复您，请加威信咨询！収满炮号！打扰请谅解！祝君游戏愉快',\n",
       " '就带你个干了坏事的才手气背',\n",
       " '没吃过蒸的',\n",
       " '我爱他可能少一点，所以他包容我吧',\n",
       " '你好回购chu賣琻币 全网最低价 童叟无欺 収购出蒩鱼炮 加威信1832945⑴606',\n",
       " '真不容易啊',\n",
       " '您好，本店专业shang分.下分（组号.zu炮）长期合作优惠！⑵⑷小时营业！収满炮号！威信电话1593⑴⑴0⑵181加我送琻币！送琻币！送琻币！',\n",
       " '上分.下分(组号.组炮）长期合作有优惠！威信19⑴30751⑶97(电话同步）&lt;⑵4小时营业&gt;！支持椛唄&nbsp;信用咔!免手续费！小号宣传号，不能第一时间回复您，请加威信聯系！収满炮号！打扰请谅解！祝君游戏愉快',\n",
       " '上分.下分（组号.组炮）长期合作优惠！威信15737⒍⒍1925&nbsp;&lt;24小时营业&gt;！小号宣传号，不能第一时间回复您，请加威信咨询！収满炮号！打扰请谅解！祝君游戏愉快',\n",
       " '但是她不和我玩',\n",
       " '出租炮台什么意思',\n",
       " '上fen.下分（组号.组炮）长期合作优惠！威信1⑸⑹72726270<⑵4小时营业>！小号宣传号，不能第一时间回复您，请加威信咨询！収满炮号！打扰请谅解！祝君游戏愉快',\n",
       " 'an网最低价格，本店经营游戏币充zhi回兑，还有免费顶级捕鱼号业务，全天在线，详情添加手机薇信同号wiyi525.此宣传小号不回复<高价高炮回购》',\n",
       " '不理我还去斗去',\n",
       " '你hao在吗 . 我是做了5年的商家.回购出賣琻币有需要可以聯系我 全区最优价格.有高级捕鱼炮台出蒩价格更优 .支持花贝.信用咔.等 消息不能及时回复. 详情请.聯系威信①32⑨7③4①35⑦（电话也是这个）欢迎咨询 如有打扰敬请见谅！',\n",
       " 'chang期上分13万100，下分⑴5万100，各种顶级炮台免费出组，需要加薇信ly3583588 电话 165280⑼8090',\n",
       " 'jia威信1371④43⑤040 上下分出蒩满级鱼炮 蒩号回収12万=①00 回収你自己号里的琻币2②万=①00 八年老店 童叟无欺',\n",
       " '你好回购出琻币 全网最低价 童叟无欺 収购出蒩鱼炮 加威信183⒉945160⒍',\n",
       " '上分.下分（组hao.组炮）长期合作有优惠！威信1⒐1⒊0⒎⒌1397(电话同步）&lt;24小时营业&gt;！支持椛唄&nbsp;信用咔!免手续费！小号宣传号，不能第一时间回复您，请加威信聯系！収满炮号！打扰请谅解！祝君游戏愉快',\n",
       " '长期上分1⑶万100，下分⑴5万100，ge种顶级炮台免费出组，需要加薇信ly35835⑻9 电话 ⑴65280⑼⑻090',\n",
       " '您hao，本店专业上分.下分（组号.zu炮）长期合作优惠！24小时营业！収满炮号！威信电话⒈5⒐3110⒉181加我送琻币！送琻币！送琻币！',\n",
       " '想打春天',\n",
       " '赚的多',\n",
       " '你好琳琳琻库 ⒉4小時在線 加威信 265778⒊⒊ （另有高炮台出蒩）本店长期出賣 跟回収琻币 回収高炮台号码 详情加威信',\n",
       " '在建个还的来人，也不能聊天',\n",
       " '明天鹅蛋',\n",
       " '90不够打团队的',\n",
       " '长期蒩鱼号 上xia分业务 绝对安全可靠 咨询 威 + x15587426218 高架回首经典4⒉以上炮台 千炮8500-9000炮台。风里雨里我在等你！',\n",
       " '长期蒩鱼号 shang下分业务 绝对安全可靠 咨询 威 + x1⑸587⑷262⑴8 高架回首经典42以上炮台 千炮8500-9000炮台。风里雨里我在等你！',\n",
       " '输大农民',\n",
       " 'shang分.下分（组号.组炮）长期合作优惠！威信①567②72⑥270<2④小时营业>！小号宣传号，不能第一时间回复您，请加威信咨询 ！収满炮号！打扰请谅解！祝君游戏愉快',\n",
       " '不是150',\n",
       " '我啥时候有一百万',\n",
       " '誠 信经 营 tong 叟无欺 大量収 出琻币 出蒩各种账 号 电话/威信 ①5350⑤⑧1⑨85',\n",
       " '我们又来市里了',\n",
       " '上分.下分（组号.组炮)长期合作优惠！威信⒈5⒎⒊76⒍1⒐25 24小时营业！小号宣传号，不能第一时间回复您，请加威信咨询！収满炮号！打扰请谅解！祝君游戏愉快',\n",
       " '全wang价格最合适 収出琻币 出 組满级鱼泡 威信 ⑴⑺⑹⑼2⑵⑴1⑸⑹1',\n",
       " '全网在xian上分 100 = ⒈3W，下分 100 = 15.5W ，渔炮出组，本号为广告宣传，有意加薇信：ok54⒋88⒏ 祝您生活愉快，盈利多多！！！',\n",
       " '上分.下分（组号.组炮）长期合作优惠！威信15⑥⑦2⑦②6270<24小时营业>！小号宣传号，不能第一时间回复您，请加威信咨询！収满炮号！打扰请谅解！祝君游戏愉快',\n",
       " '我连续两天两轮游了',\n",
       " '欺人太甚',\n",
       " '咱俩打2000的',\n",
       " '喝杯牛奶睡得香！亲爱的',\n",
       " '自己心里知道怎么做人就可以了',\n",
       " '上分.xia分（组号.组炮）长期合作优惠！威信1⑤672⑦2⑥②70<2④小时营业>！小号宣传号，不能第一时间回复您，请加威信咨询！収满炮号！打扰请谅解！祝君游戏愉快',\n",
       " '坑货什么时候搞70万呀',\n",
       " '敷面膜了',\n",
       " '乐儿走',\n",
       " 'chang期蒩鱼号 上下分业务 绝对安全可靠 咨询 威 + x1558⑺426⑵18 高架回首经典⑷2以上炮台 千炮⑻500-⑼000炮台。风里雨里我在等你！',\n",
       " '在吗帅哥我是正规gong作室负责琻碧上下分⑴⑸万JJ豆=⑴00出兽⑵4万JJ豆=100回収实名制认证，保证给您最满意的服务！详细的流程加我威芯告诉您！无论是否娇易，都可以先加我威芯了解一下，以便日后合作！現阶段营业时间早⑻到凌晨1点~~~您的专属课服婷妹！打广告的号不回复，咨询请加威芯加小妹威芯第一时间接待您 小妹威芯号: ①③0⑤④⑥①②①⑧②',\n",
       " '您好，wo是JJshang家，长期収出JJ琻币（免费出蒩捕鱼满级炮）需要的老板可以加我威x:1③0794④8990（同手机）',\n",
       " '我何苦的被你骂被你朋友封号还不能玩',\n",
       " '我们主播不容易，累死了',\n",
       " '加薇',\n",
       " '重播什么也没有',\n",
       " '啥表情',\n",
       " '加威xin137①④④35040 上下分出蒩满级鱼炮 蒩号回収①2万=100 回収你自己号里的琻币22万=100 八年老店 童叟无欺',\n",
       " '上分.下分（组号.组pao）长期合作优惠！威信①56⑦2726270<24小时营业>！小号宣传号，不能第一时间回复您，请加威信咨询 ！収满炮号！打扰请谅解！祝君游戏愉快',\n",
       " '摔坏了，修不上了',\n",
       " '问客服',\n",
       " '都在说不好搞',\n",
       " '@飞飞飞哥2你和万人迷玩啊',\n",
       " '赢一个2000金币就够了',\n",
       " '分.xia分（组号.组炮）长期合作优惠！威信15⒍72726270<⒉4小时营业>！小号宣传号，不能第一时间回复您，请加威信咨询！収满炮号！打扰请谅解！祝君游戏愉快',\n",
       " '我哥不能骗我',\n",
       " 'chang期承担上下分，上分1⒍万-100圆，下分21wan-①00圆，出蒩满级鱼炮，上下分秒回款，小海豚不能及时回复请聯系威信wanli1⒏98⑨ 电话①③3⒋311404③',\n",
       " '宝莱坞机器人2，0',\n",
       " '打团嘛',\n",
       " '分.下fen（组号.组炮）长期合作优惠！威信1⒌6727⒉⒍⒉70<2⒋小时营业>！小号宣传号，不能第一时间回复您，请加威信咨询！収满炮号！打扰请谅解！祝君游戏愉快',\n",
       " 'ni好回购出賣琻币 全网最低价 童叟无欺 収购出蒩鱼炮 加威信18329⑷51⑹0⑹',\n",
       " '分开一个月了',\n",
       " '上分.下分(组号.组炮）长期合作优惠！威信15⒍7272⒍2⒎0<⒉4小时营业>！小号宣传号，不能第一时间回复您，请加威信咨询！収满炮号！打扰请谅解！祝君游戏愉快',\n",
       " '您hao，我是正规工作室，负责琻碧上下分!15万JJ豆=①00出兽;2④万JJ豆=100回収!实名认证不用担心被骗，保证给您最满意的服务！详细流程加我威薪告诉您！无论是否娇易，都可以先加我威薪了解一下，以便日后合作！現阶段营业时间早⑧到凌晨1点~~~您的专属课服！打广告的小号不回复，咨询请加威薪号:18②65⑧9⑧860。',\n",
       " '你不会是困了吧？',\n",
       " '想睡觉觉',\n",
       " '逍遥琻店上xia分 上分①3w一白 下分15w一白 各种顶级yu pao 出组 24小时 薇心：xiaoyao⑧5820',\n",
       " '在吗帅哥我是zheng规工作室负责琻碧上下分1⒌万JJ豆=100出兽⒉4万JJ豆=100回収实名制认证，保证给您最满意的服务！详细的流程加我威芯告诉您！无论是否娇易，都可以先加我威芯了解一下，以便日后合作！現阶段营业时间早⒏到凌晨⒈点~~~您的专属课服婷妹！打广告的号不回复，咨询请加威芯加小妹威芯第一时间接待您 小妹威芯号: ①③0⑤④⑥①②①⑧②',\n",
       " '你hao，回购出賣琻币全网价格最合适，免费蒩用jj捕鱼炮，加威 13⒈⒌4521950 大量収购鱼炮',\n",
       " '你来那个就不疼',\n",
       " '我以后碰见花园我躲起来，托管就是',\n",
       " '谁还在了',\n",
       " '阳光明媚',\n",
       " '您hao，我是正规工作室，负责琻碧上下分!⑴5万JJ豆=100出兽;⑵4万JJ豆=100回収!实名认证不用担心被骗，保证给您最满意的服务！详细流程加我威薪告诉您！无论是否娇易，都可以先加我威薪了解一下，以便日后合作！現阶段营业时间早8到凌晨1点~~~您的专属课服！打广告的小号不回复，咨询请加威薪号:18265⑧9⑧860。',\n",
       " '周二有事不行。',\n",
       " '你hao 収 賣 币 全网最低价格 ，捕鱼炮，免费用，加威 1564⒈⒎4⒏⒍30',\n",
       " 'ni好，老板 我是J琻商，信誉第一，加我威信：1⒊78⒋⒍54⒍41，每晚8点准时威信福利群发放福利！',\n",
       " '上分.下分(组号.组炮）长期合作优惠！威信1⑤672726②70<2④小时营业>！小号宣传号，不能第一时间回复您，请加威信咨询！収满炮号！打扰请谅解！祝君游戏愉快',\n",
       " '你看报名主播多少没',\n",
       " '打工有几个发财的',\n",
       " 'shang分.下分（组号.组炮）长期合作优惠！威信⒈57376⒍⒈⒐25 <⒉⒋小时营业>！小号宣传号，不能第一时间回复您，请加威信咨询！収满炮号！打扰请谅解！祝君游戏愉快',\n",
       " '我不爱唱歌',\n",
       " '长qi蒩鱼号 上下分业务 绝对安全可靠 咨询 威 + x15⒌874262⒈8 高架回首经典42以上炮台 千炮8500-9000炮台。风里雨里我在等你！',\n",
       " '上fen.下分（组号.组炮）长期合作优惠！威信15⑹727⑵6⑵70<⑵4小时营业>！小号宣传号，不能第一时间回复您，请加威信咨询！収满炮号！打扰请谅解！祝君游戏愉快',\n",
       " '几乎和你同时',\n",
       " '上分.下分(组号.组炮）长期合作优惠！威信1573⑦66192⑤&nbsp;&lt;24小时营业&gt;！小号宣传号，不能第一时间回复您，请加威信咨询！収满炮号！打扰请谅解！祝君游戏愉快',\n",
       " 'dai',\n",
       " '您好，本店专业上分.xia分（组号.zu炮）长期合作优惠！2④小时营业！収满炮号！威信电话15⑨31102181加我送琻币！送琻币！送琻币！',\n",
       " '加威信1371④4③5040 上下分chu蒩满级鱼炮 蒩号回収1②万=100 回収你自己号里的琻币22万=100 八年老店 童叟无欺',\n",
       " '您好，我shi正规工作室，负责琻碧上下分!15万JJ豆=100出兽;24万JJ豆=100回収!实名认证不用担心被骗，保证给您最满意的服务！详细流程加我威薪告诉您！无论是否娇易，都可以先加我威薪了解一下，以便日后合作！現阶段营业时间早8到凌晨①点~~~您的专属课服！打广告的小号不回复，咨询请加威薪号:18265⑧9⑧8⑥0。',\n",
       " '小鬼',\n",
       " '翻几倍了',\n",
       " '长期上分13万100,下分15万100，各种顶级炮台免费出组，需要加薇信ly3583⑸89 电话 1⑹5⑵⑻0⑼8090',\n",
       " '青青子衿，才女。',\n",
       " '太想拿冠军了',\n",
       " '你好，回购出賣琻币全wang价格最合适，免费蒩用jj捕鱼炮，加威 ⑴⑶15⑷521950 大量収购鱼炮',\n",
       " '好久没偶遇了',\n",
       " '多大的事',\n",
       " '我，包括很多主播都不复活了',\n",
       " '手机ＪＪ更新了吗',\n",
       " '没卡着',\n",
       " '全网价格zui合适 収出琻币 出 組满级鱼泡 威信 17692②1①56①',\n",
       " 'ni好 収 賣 币 全网最低价格 ，捕鱼炮，免费用，加威 15641⑦48⑥30',\n",
       " '分.下分（组号.组pao）长期合作优惠！威信1567②726270<24小时营业>！小号宣传号，不能第一时间回复您，请加威信咨询！収满炮号！打扰请谅解！祝君游戏愉快',\n",
       " '我得都输了?',\n",
       " '全网jia格最合适 収出琻币 出 組满级鱼泡 威信 17⑹⑼⑵21⑴561',\n",
       " '明早上150',\n",
       " '好的，我听你的',\n",
       " '最近鱼币怎么买卖',\n",
       " '上分.下分（组号.组炮）长期he作优惠！威信⑴56727⑵6270<24小时营业>！小号宣传号，不能第一时间回复您，请加威信咨询！収满炮号！打扰请谅解！祝君游戏愉快',\n",
       " '你也没发啊，我白换号了',\n",
       " '上分.下分（组号.zu炮）长期合作优惠！威信1⑤737661⑨②5 <24小时营业>！小号宣传号，不能第一时间回复您，请加威信咨询！収满炮号！打扰请谅解！祝君游戏愉快',\n",
       " '自己有不知道摸吗？',\n",
       " '你好，高价hui収 琻币、秋卡话费、捕鱼账号 加威信 152 279⒊ 688⒐ 八年老店，信誉保证。如有打扰，还请见谅.',\n",
       " '上分.下分（组号.组炮）长期合作you惠！威信1567⑵⑺⑵62⑺0<24小时营业>！小号宣传号，不能第一时间回复您，请加威信咨询！収满炮号！打扰请谅解！祝君游戏愉快',\n",
       " '想你了快上线吧',\n",
       " '你好，回购出賣琻币quan网价格最合适，免费蒩用jj捕鱼炮，加威 13154521950 大量収购鱼炮',\n",
       " '加威信1371④43⑸040 shang下分出蒩满级鱼炮 蒩号回収⑴2万=100 回収你自己号里的琻币22万=100 八年老店 童叟无欺',\n",
       " '以为晚上能早点出去呢，也没有看见你信息',\n",
       " '你整饭吃了吗',\n",
       " '没意思玩了',\n",
       " '上分.下fen（组号.组炮）长期合作优惠！威信15⒍72726270<⒉4小时营业>！小号宣传号，不能第一时间回复您，请加威信咨询！収满炮号！打扰请谅解！祝君游戏愉快',\n",
       " '不靠谱',\n",
       " '长期蒩yu号 上下分业务 绝对安全可靠 咨询 威 + x⒈55⒏7426218 高架回首经典⒋2以上炮台 千炮8500-9000炮台。风里雨里我在等你！',\n",
       " '上fen.下分（组号.组炮）长期合作优惠！威信⑴56⑺272⑹⑵⑺0<24小时营业>！小号宣传号，不能第一时间回复您，请加威信咨询 ！収满炮号！打扰请谅解！祝君游戏愉快',\n",
       " '呗两扎',\n",
       " '全网价格最he适 収出琻币 出 組满级鱼泡 威信 1769221⒈561',\n",
       " 'nin好，wo是JJ商家，长期収出JJ琻币（免费出蒩捕鱼满级炮）需要的老板可以加我威x:1⒊0⒎94489⒐0（同手机）',\n",
       " '种小麦吗',\n",
       " '逍遥琻dian上下分 上分①3w一白 下分15w一白 各种顶级yu pao 出组 ②4小时 薇心：xiaoyao85820',\n",
       " '都自摸',\n",
       " '没我就不算咱家',\n",
       " '看我的',\n",
       " '@111qq1qss',\n",
       " '上分.下分（组号.组炮）长期合作优惠！威信15⑹⑺272⑹2⑺0<24小时营业>！小号宣传号，不能第一时间回复您，请加威信咨询！収满炮号！打扰请谅解！祝君游戏愉快',\n",
       " '上分.下分（组号.组炮)长期合作有优惠！威信19130⒎51⒊97(电话同步）&lt;2⒋小时营业&gt;！支持椛唄&nbsp;信用咔!免手续费！小号宣传号，不能第一时间回复您，请加威信聯系！収满炮号！打扰请谅解！祝君游戏愉快',\n",
       " '长期上fen1⒊万⒈00，下分15万100，各种顶级炮台免费出组，需要加薇信ly3583589 电话 16⒌280⒐8090',\n",
       " '我走的晚',\n",
       " '长期shou高级炮上fen下分祖号新客户添加薇信首冲送⒊万琻币，免费提供满级捕鱼账号，薇信：ck⒎533721。此宣传小号不回复。⒉⒋小时接待',\n",
       " '一起来',\n",
       " '社chang可以購買佪収游戏笔，全网最低，特大优惠,良心比例！另免费出蒩高级鱼泡,，10上12下， 不悾号,捕鱼赢笔爽歪歪。你自己号16上 22下 业务齐全，官方指定威X:a854455666 另回 shou 各 种 高 炮 鱼 号 广告只发一次打扰见谅',\n",
       " '你好，回购出賣币全网价格最合适，免费蒩用jj捕鱼炮，加威 1③①54521⑨50 大量収购鱼炮',\n",
       " '你好，回gou出賣琻币，价格合适，免费蒩用jj捕鱼炮，収购鱼炮,加威信 1⑶238⑵79185',\n",
       " '看好你啊',\n",
       " '上fen.下分（组号.组炮）长期合作优惠！威信1⑸6⑺27⑵⑹270<24小时营业>！小号宣传号，不能第一时间回复您，请加威信咨询！収满炮号！打扰请谅解！祝君游戏愉快',\n",
       " '全wang价格最合适 収出琻币 出 組满级鱼泡 威信 ①76⑨②②11⑤61',\n",
       " 'chang期蒩鱼号 上下分业务 绝对安全可靠 咨询 威 + x1558742621⒏ 高架回首经典4⒉以上炮台 千炮8⒌00-9000炮台。风里雨里我在等你！',\n",
       " '您好，本店专业上分.下分(组号.zu炮）长期合作优惠！2⒋小时营业！収满炮号！威信电话1593⒈102181加我送琻币！送琻币！送琻币！',\n",
       " '上fen.下分（组号.组炮）长期合作优惠！威信15⑺3766⑴92⑸ <2⑷小时营业>！小号宣传号，不能第一时间回复您，请加威信咨询！収满炮号！打扰请谅解！祝君游戏愉快',\n",
       " '村里来的',\n",
       " '下午喝水了吗亲',\n",
       " 'nin好，wo是JJ商家，长期収出JJ琻币（免费出蒩捕鱼满级炮）需要的老板可以加我威x:13079④4⑧⑨⑨0（同手机）',\n",
       " '她和你一个屋子，你不方便',\n",
       " '全网在xian上分 100 = 1③W，下分 100 = 15.5W ，渔炮出组，本号为广告宣传，有意加薇信：kkk9044④ 祝您生活愉快，盈利多多！！！',\n",
       " '你好琳琳琻库 2④小時在線 加威信 26577833 （另有高炮台出蒩）本店长期出賣 跟回琻币 回収高炮台号码 详情加威信',\n",
       " '长期承担上下分，上分16万-100圆，下分21wan-①00圆，出蒩满级鱼炮,上下分秒回款，小海豚不能及时回复请聯系威信wanli1898⑨ 电话①③⑶4⑶1140⑷③',\n",
       " 'shang分.下分（组号.组炮）长期合作优惠！威信⒈56⒎⒉7262⒎0<24小时营业>！小号宣传号，不能第一时间回复您，请加威信咨询！収满炮号！打扰请谅解！祝君游戏愉快',\n",
       " '看牌拿',\n",
       " '长qi承担上下分，上分1⑹万-100圆，下分21万-100圆，出蒩满级鱼炮，上下分秒回款，小海豚不能及时回复请聯系威信wanli18989 电话1334⑶11⑷043',\n",
       " '我收拾了',\n",
       " '这样哪天有时间你找个契机',\n",
       " '全网最低价格,新客户添加薇信首冲送⒊万琻币，免费提供满级捕鱼账号，薇信：wiyi525 此宣传小号不回复。⒉4小时接待( 提示：8年老店.高价回购满级鱼号)',\n",
       " 'chang期蒩鱼号 上下分业务 绝对安全可靠 咨询 威 + x15587⑷⑵6⑵18 高架回首经典42以上炮台 千炮8500-9000炮台。风里雨里我在等你！',\n",
       " '一把游',\n",
       " 'shang分.下分（组号.组炮）长期合作优惠！威信15737661⑼25 <24小时营业>！小号宣传号，不能第一时间回复您，请加威信咨询！収满炮号！打扰请谅解！祝君游戏愉快',\n",
       " '我后悔我为什么没有早点和你结束，也不至于把自己搞成这逼 样',\n",
       " '他们说话和我们还不一样呢',\n",
       " '我抢不到',\n",
       " '宝宝想小臭爷爷了',\n",
       " '上分.下分（组号.组炮）长期合作优惠！威信156⑺27⑵⑹270<24xiao时营业>！小号宣传号，不能第一时间回复您，请加威信咨询！収满炮号！打扰请谅解！祝君游戏愉快',\n",
       " '长期shou高级pao上分下分祖号新客户添加薇信首冲送3万琻币，免费提供满级捕鱼账号，薇信：ck753372⒈。此宣传小号不回复。24小时接待',\n",
       " '你好，回购出賣币，价格合适，免费蒩用jj捕鱼炮，収购鱼炮,加威信 13⑵38279185',\n",
       " 'AK 7*2④小shi接单,极速上下琻豆,安全可靠!免费蒩顶级捕鱼炮台。10:10 全网最低.威信9736⑧0⑨4 长期经营,期待于您合作!',\n",
       " '长期shou高级炮上分下分祖号新客户添加薇信首冲送3万琻币，免费提供满级捕鱼账号，薇信：ck75⒊3⒎⒉1。此宣传小号不回复。24小时接待',\n",
       " 'quan网最低价格，新客户添加薇信首冲送3万琻币，免费提供满级捕鱼账号，薇信：wiyi⑤25 此宣传小号不回复。②④小时接待( 提示：8年老店.高价回购满级鱼号)',\n",
       " '长期蒩鱼hao 上下分业务 绝对安全可靠 咨询 威 + jj 0①01018 高架回首经典42以上炮台 千炮8500-9000炮台。风里雨里我在等你！',\n",
       " '长qi承担上下分，上分16万-100圆，下分21万-100圆，出蒩满级鱼炮，上下分秒回款，小海豚不能及时回复请聯系威信wanli189⒏⒐ 电话13⒊43114043',\n",
       " '去打鱼赢了八万',\n",
       " '才看，不往回抢，能赢三万币！',\n",
       " '长期上分13万100，下分1⑸万100，各种顶级炮台免费chu组，需要加薇信ly⑶583589 电话 ⑴⑹52⑻098090',\n",
       " '你还别说',\n",
       " '长期鱼号 上下分业务 绝对安全可靠 咨询 威 + x155874⒉6218 高架回首经典⒋2以上炮台 千炮8500-9000炮台。风里雨里我在等你！',\n",
       " '还开2手牌。把我这手丢了',\n",
       " '什么你也一样',\n",
       " '你好，回购chu賣琻币，价格合适，免费蒩用jj捕鱼炮，収购鱼炮,加威信 18510⑵1140⑺',\n",
       " '关键是你输了怎么搞',\n",
       " '上分.下分（组号.zu炮）长期合作优惠！威信⑴573⑺66192⑸ <24小时营业>！小号宣传号，不能第一时间回复您，请加威信咨询！収满炮号！打扰请谅解！祝君游戏愉快',\n",
       " '就赚了点',\n",
       " '所以这是最好的',\n",
       " '逍遥店，新客户上分13w一白 下分15w一白 各种顶级炮台出组 24小时营业 本号为宣传号需要加威信：xiaoyao85820 祝您生活愉快，盈利多多！！',\n",
       " '长期承担上下分，上分16万-100圆,下分21wan-①00圆，出蒩满级鱼炮，上下分秒回款，小海豚不能及时回复请聯系威信wanli18⑨8⑨ 电话①③3④③11404③',\n",
       " '上分.下分（组号.组pao）长期合作优惠！威信156⑦27262⑦0<24小时营业>！小号宣传号，不能第一时间回复您，请加威信咨询！収满炮号！打扰请谅解！祝君游戏愉快',\n",
       " '你是师傅',\n",
       " '十六万过不去了啊',\n",
       " '这局没买你',\n",
       " '他因为我和你聊天都生气了',\n",
       " 'shang分.下分（组号.组炮）长期合作优惠！威信1⑤7③76⑥1⑨25 <②4小时营业>！小号宣传号，不能第一时间回复您，请加威信咨询！収满炮号！打扰请谅解！祝君游戏愉快',\n",
       " 'ni好琳琳琻库 ⑵4小時在線 加威信 ⑵65778⑶3 （另有高炮台出蒩）本店长期出賣 跟回収琻币 回収高炮台号码 详情加威信',\n",
       " '上分.下fen（组号.组炮）长期合作优惠！威信15⑺3⑺661⑼⑵⑸ <24小时营业>！小号宣传号，不能第一时间回复您，请加威信咨询！収满炮号！打扰请谅解！祝君游戏愉快',\n",
       " '太晚了！明天早上拿吧！亲爱的',\n",
       " '上分⒈00--1⒍万.下分100--⒉2万（组号.zu炮）长期合作优惠！;&lt;24小时营业&gt;！小号宣传号，不能第一时间回复您，请加威信咨询！収满炮号！打扰请谅解！祝君游戏愉快，威信电话159⒊1102181',\n",
       " '长qi蒩鱼号 上下分业务 绝对安全可靠 咨询 威 + x1⑤587④②⑥2①8 高架回首经典42以上炮台 千炮8⑤00-9000炮台。风里雨里我在等你！',\n",
       " '上fen.下分（组号.组炮）长期合作优惠！威信⑴56⑺2⑺2⑹⑵70<24小时营业>！小号宣传号，不能第一时间回复您，请加威信咨询！収满炮号！打扰请谅解！祝君游戏愉快',\n",
       " '上分.下fen（组号.组炮）长期合作优惠！威信156⒎⒉72⒍⒉70<24小时营业>！小号宣传号，不能第一时间回复您，请加威信咨询 ！収满炮号！打扰请谅解！祝君游戏愉快',\n",
       " '李总没有钱，我也看不上他那种的',\n",
       " '誠 信jing 营 童 叟无欺 大量収 出琻币 出蒩各种账 号 电话/威信 ⒈53505⒏1⒐8⒌',\n",
       " '没有啊！你不在，不想睡',\n",
       " '分.下fen（组号.组炮）长期合作优惠！威信1567②726②70<2④小时营业>！小号宣传号，不能第一时间回复您，请加威信咨询！収满炮号！打扰请谅解！祝君游戏愉快',\n",
       " '上分.下分（组号.组炮）长期合作优惠！威信15⑦③766192⑤ <②4小时营业>！小号宣传号，不能第一时间回复您，请加威信咨询！収满炮号！打扰请谅解！祝君游戏愉快',\n",
       " '尽量别去 有个控制力',\n",
       " '我下220',\n",
       " '上fen.下分（组号.组炮）长期合作优惠！威信15737⑹⑹192⑸ ⑵4小时营业！小号宣传号，不能第一时间回复您，请加威信咨询！収满炮号！打扰请谅解！祝君游戏愉快',\n",
       " '全网价格zui合适 収出琻币 出 組满级鱼泡 威信 1769⒉2115⒍1',\n",
       " '别嘚瑟斗地主里这些事，我不玩了',\n",
       " '有点事，先不打了',\n",
       " '那么感人',\n",
       " '那个木易啥都没.人家是和郭打招呼来的',\n",
       " '锁定',\n",
       " '上fen.下分（组号.组炮）长期合作优惠！威信15737661⑼25 <24小时营业>！小号宣传号，不能第一时间回复您，请加威信咨询！収满炮号！打扰请谅解！祝君游戏愉快',\n",
       " '我怎么能故意进错不给你看呗',\n",
       " '我看着你一个人打啊 还必须得第一',\n",
       " '您好，本店zhuan业上分.下分（组号.zu炮）长期合作优惠！⒉4小时营业！収满炮号！威信电话1⒌931⒈02181加我送琻币！送琻币！送琻币！',\n",
       " '所以我不感觉',\n",
       " '我有50元宝怎么兑换成金币',\n",
       " '你努力，不要放弃',\n",
       " '我报了个比赛8点40',\n",
       " '就游戏费点',\n",
       " '还有个人找我出红包打天地的',\n",
       " '她动手了没有',\n",
       " '不急等呗',\n",
       " '你现在带我打？',\n",
       " '你好，高价回収 琻币、秋卡hua费、捕鱼账号 加威信 152 27⑼⑶ 6889 八年老店，信誉保证。如有打扰，还请见谅.',\n",
       " '做不到的我会直接拒绝也不会去敷衍',\n",
       " '您好，我是正gui工作室，负责琻碧上下分!15万JJ豆=100出兽;24万JJ豆=100回収!实名认证不用担心被骗，保证给您最满意的服务！详细流程加我威薪告诉您！无论是否娇易，都可以先加我威薪了解一下，以便日后合作！現阶段营业时间早8到凌晨1点~~~您的专属课服！打广告的小号不回复，咨询请加威薪号:18②65⑧⑨⑧860。',\n",
       " '哈哈哈，操了，人家要……',\n",
       " '长期蒩鱼号 上下fen业务 绝对安全可靠 咨询 威 + x15⑤8⑦4②6②18 高架回首经典42以上炮台 千炮⑧500-9000炮台。风里雨里我在等你！',\n",
       " '长期shou高级炮上分下分祖hao新客户添加薇信首冲送3万琻币，免费提供满级捕鱼账号，薇信：ck7533721。此宣传小号不回复。2⒋小时接待',\n",
       " '是你过来还是我过去，你说了算',\n",
       " '你发过来看看呀，游戏老人我比你认识的多',\n",
       " '我设置错了 是我请你',\n",
       " '你hao，高价回収 琻币、秋卡话费、捕鱼账号 加威信 152 ⑵⑺93 ⑹889 八年老店，信誉保证。如有打扰，还请见谅.',\n",
       " 'shang分.下分（组号.组炮）长期合作优惠！威信156⑺272⑹⑵⑺0<⑵⑷小时营业>！小号宣传号，不能第一时间回复您，请加威信咨询！収满炮号！打扰请谅解！祝君游戏愉快',\n",
       " '上分.下分（zu号.组炮）长期合作优惠！威信1567272⑥270<②4小时营业>！小号宣传号，不能第一时间回复您，请加威信咨询 ！収满炮号！打扰请谅解！祝君游戏愉快',\n",
       " '我玩到最后很高分的时候就被双关',\n",
       " '在吗帅哥我是zheng规工作室负责琻碧上下分15万JJ豆=100出兽⑵⑷万JJ豆=100回収实名制认证，保证给您最满意的服务！详细的流程加我威芯告诉您！无论是否娇易，都可以先加我威芯了解一下，以便日后合作！現阶段营业时间早⑻到凌晨⑴点~~~您的专属课服婷妹！打广告的号不回复，咨询请加威芯加小妹威芯第一时间接待您 小妹威芯号: ①③0⑤④⑥①②①⑧②',\n",
       " '你好，高价回収 琻币、秋卡hua费、捕鱼账号 加威信 152 ②⑦93 68⑧⑨ 八年老店，信誉保证。如有打扰，还请见谅.',\n",
       " 'nihao.(2⑷xiao时.上分.下分.蒩号)长期収号咨询威X17071581514!期待与您合作.支持花贝交易.打扰请谅解.祝君游戏愉快!欢迎咨询',\n",
       " '长期cheng担上下分，上分1⑹万-100圆，下分21wan-①00圆，出蒩满级鱼炮，上下分秒回款，小海豚不能及时回复请聯系威信wanli18⑼8⑨ 电话①③343⑴1404③',\n",
       " '长期鱼号 上下分业务 绝对安全可靠 咨询 威 + x1⑸5874⑵621⑻ 高架回首经典42以上炮台 千炮8⑸00-⑼000炮台。风里雨里我在等你！',\n",
       " '上分.下分（组号.组炮）长期合作优惠！wei信①5⑥72726②70<24小时营业>！小号宣传号，不能第一时间回复您，请加威信咨询！収满炮号！打扰请谅解！祝君游戏愉快',\n",
       " '加wei信13⑺1④⑷35040 上下分出蒩满级鱼炮 蒩号回収⑴2万=100 回収你自己号里的琻币⑵⑵万=100 八年老店 童叟无欺',\n",
       " '今晚真不玩了 你冲澡 冲完 玩会竞标',\n",
       " '老dian上下分 上分1⒊w-⒈6w一白 下分15w-⒉1w一白 各种顶级yu pao 出组 ⒉4小时 薇心：kkk90444',\n",
       " '你好，gao价回収 琻币、秋卡话费、捕鱼账号 加威信 ⒈52 2⒎⒐3 6889 八年老店，信誉保证。如有打扰，还请见谅.',\n",
       " '上分100--16万.下分100--22万（组号.zu炮）长期合作优惠！;<24小时营业>！小号宣传号，不能第一时间回复您，请加威信咨询！収满炮号！打扰请谅解！祝君游戏愉快，威信电话1⒌931102⒈⒏1',\n",
       " 'AK 7*24小时接单,ji速上下琻豆,安全可靠!免费蒩顶级捕鱼炮台。10:1⒉ 退本.威信97⒊680⒐⒋ 长期经营,期待于您合作!',\n",
       " '那哥就继续斗吧',\n",
       " '你心疼过我么',\n",
       " '您好，我是正规工作室，负责琻碧shang下分!15万JJ豆=⒈00出兽;24万JJ豆=⒈00回収!实名认证不用担心被骗，保证给您最满意的服务！详细流程加我威薪告诉您！无论是否娇易，都可以先加我威薪了解一下，以便日后合作！現阶段营业时间早8到凌晨⒈点~~~您的专属课服！打广告的小号不回复，咨询请加威薪号:18265⑧9⑧860。',\n",
       " '还郁闷',\n",
       " '上分.下分(组号.组炮）长期合作优惠！威信156⑺2726⑵70<⑵⑷小时营业>！小号宣传号，不能第一时间回复您，请加威信咨询！収满炮号！打扰请谅解！祝君游戏愉快',\n",
       " '你不怕吗',\n",
       " 'chang期蒩鱼号 上下分业务 绝对安全可靠 咨询 x①558742⑥21⑧ 高驾回首经典④②以上炮台 千炮8500-⑨000炮台。',\n",
       " 'chang期蒩鱼号 上下分业务 绝对安全可靠 咨询 威 + x15⑸87426⑵⑴⑻ 高架回首经典42以上炮台 千炮⑻500-9000炮台。风里雨里我在等你！',\n",
       " '上分.下分（组号.组炮)长期合作优惠！威信15672726⒉70<2⒋小时营业>！小号宣传号，不能第一时间回复您，请加威信咨询！収满炮号！打扰请谅解！祝君游戏愉快',\n",
       " 'fen.下分（组号.组炮）长期合作优惠！威信156⑺2⑺26⑵70<24小时营业>！小号宣传号，不能第一时间回复您，请加威信咨询！収满炮号！打扰请谅解！祝君游戏愉快',\n",
       " '上fen.下分（组号.组炮）长期合作优惠！威信1⒌⒎3⒎66⒈925 <24小时营业>！小号宣传号，不能第一时间回复您，请加威信咨询！収满炮号！打扰请谅解！祝君游戏愉快',\n",
       " '分.下分（组号.组炮）长期合作优惠！威信⒈56⒎⒉726⒉70<⒉4小时营业>！小号宣传号，不能第一时间回复您，请加威信咨询！収满炮号！打扰请谅解！祝君游戏愉快',\n",
       " '长期shang分13万100，下分15万100，各种顶级炮台免费出组，需要加薇信ly3⒌83589 电话 16⒌280⒐80⒐0',\n",
       " '有的时候发不出去就出了个！还是红色的',\n",
       " '怎么就我有',\n",
       " 'shang分.下分（组号.组炮）长期合作优惠！威信1573766192⑸&nbsp;&lt;⑵4小时营业&gt;！小号宣传号，不能第一时间回复您，请加威信咨询！収满炮号！打扰请谅解！祝君游戏愉快',\n",
       " '你好，高价回収捕鱼账号,回収琻币，有需要，加威信⑴58 33⑷0 068⑷ 欢迎来询，誠信可靠。',\n",
       " '长期cheng担上下分，上分1⒍万-⒈00圆，下分21wan-①00圆，出蒩满级鱼炮，上下分秒回款，小海豚不能及时回复请聯系威信wanli189⒏⑨ 电话①③⒊4311404③',\n",
       " '上分.下fen（组号.组炮）长期合作优惠！威信15⑺376⑹1925 24小时营业！小号宣传号，不能第一时间回复您，请加威信咨询！収满炮号！打扰请谅解！祝君游戏愉快',\n",
       " '你好，回购出賣币全网价格最合适，免费蒩用jj捕鱼炮，加威 1③①54⑤21950 大量収购鱼炮',\n",
       " 'shang分100--16万.下分100--22万（组号.zu炮）长期合作优惠！;&lt;24小时营业&gt;！小号宣传号，不能第一时间回复您，请加威信咨询！収满炮号！打扰请谅解！祝君游戏愉快，威信电话159⑶1⑴0218⑴',\n",
       " '长qishou高级炮上分下分祖号新客户添加薇信首冲送3万琻币，免费提供满级捕鱼账号，薇信：ck7⒌337⒉1。此宣传小号不回复。24小时接待',\n",
       " '每到晚上宝宝下班了,我就特别紧张',\n",
       " '全wang在线上分 100 = ⑴3W，下分 100 = 15.5W ，渔炮出组，本号为广告宣传，有意加薇信：kkk90444 祝您生活愉快，盈利多多！！！',\n",
       " '长期上分13万100,下分15万100，各种顶级炮台免费出组，需要加薇信ly15⑧1568 电话 ①6528098090',\n",
       " '我现在在打免费的',\n",
       " '全网价格最he适 収出琻币 出 組满级鱼泡 威信 1⑦6⑨2211561',\n",
       " '长qi蒩鱼号 上下分业务 绝对安全可靠 咨询 威 + x1558⑺⑷26⑵⑴⑻ 高架回首经典42以上炮台 千炮8500-9000炮台。风里雨里我在等你！',\n",
       " '小姐姐来团',\n",
       " '全wang价格最合适 収出琻币 出 組满级鱼泡 威信 17692⒉⒈156⒈',\n",
       " '你打的啥？',\n",
       " '就顾了找那个女人了',\n",
       " '长期蒩鱼hao 上下分业务 绝对安全可靠 咨询 威 + x15587⑷26⑵⑴8 高架回首经典⑷2以上炮台 千炮⑻⑸00-9000炮台。风里雨里我在等你！',\n",
       " '你好 収 币 全网最低价格 ，捕鱼炮，免费用，加威 1564⒈⒎486⒊0',\n",
       " '不是一般的好',\n",
       " '上分.下分（组号.组炮）长期合作优惠！威信157376619②5 24小时营业！小号宣传号，不能第一时间回复您，请加威信咨询！収满炮号！打扰请谅解！祝君游戏愉快',\n",
       " '这是魅族手机吗？@〖元老〗',\n",
       " '让时间考验你吧',\n",
       " '上分.下分（组号.组pao）长期合作有优惠！威信191③075139⑦(电话同步）&lt;2④小时营业&gt;！支持椛唄&nbsp;信用咔!免手续费！小号宣传号，不能第一时间回复您，请加威信聯系！収满炮号！打扰请谅解！祝君游戏愉快',\n",
       " '自己看牌 一共6到A 缺啥就可以了',\n",
       " '下场我怕没机会',\n",
       " '是吧，没办法，这两把大的都是牌不好',\n",
       " '实在找不到主播',\n",
       " '500场任务完成打2000',\n",
       " '上分.下分(组号.组炮）长期合作优惠！威信⒈573766⒈⒐25 24小时营业！小号宣传号，不能第一时间回复您，请加威信咨询！収满炮号！打扰请谅解！祝君游戏愉快',\n",
       " 'quan网最低价格，新客户添加薇信首冲送3万琻币，免费提供满级捕鱼账号，薇信：wiyi5⑵5 此宣传小号不回复。2⑷小时接待( 提示：⑻年老店.高价回购满级鱼号)',\n",
       " 'ni好,wo是JJ商家，长期収出JJ琻币（免费出蒩捕鱼满级炮）需要的老板可以加我威x了解下 威x：1⒊0⒎9⒋4⒏⒐90（同手机）',\n",
       " '哦嫂子还没回来呢？',\n",
       " '逍yao琻店上下分 上分13w一白 下分15w一白 各种顶级yu pao 出组 2④小时 薇心：xiaoyao⑧⑤820',\n",
       " '一会儿去拆解设备',\n",
       " '上分.下分（组号.组炮）长期合作有优惠！威信191307⑤139⑦(电话同步）&lt;24小时营业&gt;！支持椛唄&nbsp;信用咔!免手续费！小号宣传号，不能第一时间回复您，请加威信聯系！収满炮号！打扰请谅解！祝君游戏愉快',\n",
       " '长期shou高级炮上分下分祖号新客户添加薇信首冲送3万琻币，免费提供满级捕鱼账号，薇信：ck75⑶37⑵1。此宣传小号不回复。⑵⑷小时接待',\n",
       " '今天状态不好 玩几把免费的睡觉',\n",
       " '上分100--⒈6万.下分100--22万（组号.zu炮）长期合作优惠！;<24小时营业>！小号宣传号，不能第一时间回复您，请加威信咨询！収满炮号！打扰请谅解！祝君游戏愉快，威信电话15931⒈02181',\n",
       " '您好，本dian专业上分.下分（组号.zu炮）长期合作优惠！2⑷小时营业！収满炮号！威信电话15⑼3110⑵⑴81加我送琻币！送琻币！送琻币！',\n",
       " '我还能说话吗',\n",
       " '恩。是的 啊',\n",
       " '我上山采蘑菇去了，没有信号',\n",
       " '上分.下分（组hao.组炮）长期合作优惠！威信156727⑵6⑵⑺0<24小时营业>！小号宣传号，不能第一时间回复您，请加威信咨询！収满炮号！打扰请谅解！祝君游戏愉快',\n",
       " '就差周飞龙',\n",
       " '宝宝上学了',\n",
       " '长期shougao级炮上分下分祖号新客户添加薇信首冲送3万琻币，免费提供满级捕鱼账号，薇信：ck75337⒉1。此宣传小号不回复。24小时接待',\n",
       " '您hao，本店专业上分.下分（组号.zu炮）长期合作优惠！24小时营业！収满炮号！威信电话⒈5⒐3⒈10218⒈加我送琻币！送琻币！送琻币！',\n",
       " '你好琳琳琻库 24小在線 加威信 ②657⑦83③ （另有高炮台出蒩）本店长期出賣 跟回収琻币 回収高炮台号码 详情加威信',\n",
       " '以后我会天天陪我老公玩',\n",
       " '@绿色游戏凌聪又光了？五倍场吃的快',\n",
       " '你好，回购出賣琻币全网价格最合适，免fei蒩用jj捕鱼炮，加威 ①3154521⑨50 大量収购鱼炮',\n",
       " 'AK 7*2⒋小时接单,极速上下琻豆,安全可靠!免费蒩顶级捕鱼炮台。10:⒈0 全网最低.威信973⒍80⒐4 长期经营,期待于您合作!',\n",
       " '我牌不好，只好农民',\n",
       " '加wei信1371④4③50④0 上下分出蒩满级鱼炮 蒩号回収12万=①00 回収你自己号里的琻币②2万=100 八年老店 童叟无欺',\n",
       " '没聊',\n",
       " '上分.下fen（组号.组炮）长期合作有优惠！威信⑴⑼1307⑸13⑼7(电话同步）&lt;2⑷小时营业&gt;！支持椛唄&nbsp;信用咔!免手续费！小号宣传号，不能第一时间回复您，请加威信聯系！収满炮号！打扰请谅解！祝君游戏愉快',\n",
       " '我还好',\n",
       " '在ma帅哥我是正规工作室负责琻碧上下分15万JJ豆=100出兽⑵⑷万JJ豆=⑴00回収实名制认证，保证给您最满意的服务！详细的流程加我威芯告诉您！无论是否娇易，都可以先加我威芯了解一下，以便日后合作！現阶段营业时间早8到凌晨1点~~~您的专属课服婷妹！打广告的号不回复，咨询请加威芯加小妹威芯第一时间接待您 小妹威芯号: ①③0⑤④⑥①②①⑧②',\n",
       " '宝箱播了',\n",
       " '弟听话姐，永远爱姐',\n",
       " '您好，我是正规工作shi，负责琻碧上下分!①5万JJ豆=①00出兽;24万JJ豆=100回収!实名认证不用担心被骗，保证给您最满意的服务！详细流程加我威薪告诉您！无论是否娇易，都可以先加我威薪了解一下，以便日后合作！現阶段营业时间早⑧到凌晨1点~~~您的专属课服！打广告的小号不回复，咨询请加威薪号:18265⑧9⑧8⑥0。',\n",
       " '来跟8姐打一会雅',\n",
       " '你好，hui购出賣琻币，价格合适，免费蒩用jj捕鱼炮，収购鱼炮,加威信 132③8②79185',\n",
       " '头发',\n",
       " '加wei信1371④4⑶5040 上下分出蒩满级鱼炮 蒩号回収1⑵万=100 回収你自己号里的琻币22万=⑴00 八年老店 童叟无欺']"
      ]
     },
     "execution_count": 90,
     "metadata": {},
     "output_type": "execute_result"
    }
   ],
   "source": [
    "group1"
   ]
  },
  {
   "cell_type": "markdown",
   "metadata": {},
   "source": [
    "## Eval data "
   ]
  },
  {
   "cell_type": "code",
   "execution_count": 31,
   "metadata": {},
   "outputs": [],
   "source": [
    "eval_df = pd.read_csv(\"../data/nlp_data/haitun_spam_result_0331.csv\", \n",
    "#                       sep=\"\\x01\",\n",
    "#                       header=None\n",
    "                     )"
   ]
  },
  {
   "cell_type": "code",
   "execution_count": 32,
   "metadata": {},
   "outputs": [
    {
     "data": {
      "text/html": [
       "<div>\n",
       "<style scoped>\n",
       "    .dataframe tbody tr th:only-of-type {\n",
       "        vertical-align: middle;\n",
       "    }\n",
       "\n",
       "    .dataframe tbody tr th {\n",
       "        vertical-align: top;\n",
       "    }\n",
       "\n",
       "    .dataframe thead th {\n",
       "        text-align: right;\n",
       "    }\n",
       "</style>\n",
       "<table border=\"1\" class=\"dataframe\">\n",
       "  <thead>\n",
       "    <tr style=\"text-align: right;\">\n",
       "      <th></th>\n",
       "      <th>content</th>\n",
       "      <th>prob</th>\n",
       "      <th>real_label</th>\n",
       "    </tr>\n",
       "  </thead>\n",
       "  <tbody>\n",
       "    <tr>\n",
       "      <th>0</th>\n",
       "      <td>?</td>\n",
       "      <td>90</td>\n",
       "      <td>1</td>\n",
       "    </tr>\n",
       "    <tr>\n",
       "      <th>1</th>\n",
       "      <td>★</td>\n",
       "      <td>90</td>\n",
       "      <td>1</td>\n",
       "    </tr>\n",
       "    <tr>\n",
       "      <th>2</th>\n",
       "      <td>?</td>\n",
       "      <td>90</td>\n",
       "      <td>1</td>\n",
       "    </tr>\n",
       "    <tr>\n",
       "      <th>3</th>\n",
       "      <td>Ｋ</td>\n",
       "      <td>90</td>\n",
       "      <td>1</td>\n",
       "    </tr>\n",
       "    <tr>\n",
       "      <th>4</th>\n",
       "      <td>?</td>\n",
       "      <td>90</td>\n",
       "      <td>1</td>\n",
       "    </tr>\n",
       "  </tbody>\n",
       "</table>\n",
       "</div>"
      ],
      "text/plain": [
       "  content  prob  real_label\n",
       "0       ?    90           1\n",
       "1       ★    90           1\n",
       "2       ?    90           1\n",
       "3       Ｋ    90           1\n",
       "4       ?    90           1"
      ]
     },
     "execution_count": 32,
     "metadata": {},
     "output_type": "execute_result"
    }
   ],
   "source": [
    "eval_df.head()"
   ]
  },
  {
   "cell_type": "code",
   "execution_count": 33,
   "metadata": {},
   "outputs": [],
   "source": [
    "eval_df[\"length\"] = eval_df[\"content\"].apply(len)"
   ]
  },
  {
   "cell_type": "code",
   "execution_count": 34,
   "metadata": {},
   "outputs": [],
   "source": [
    "eval_df = eval_df[eval_df[\"length\"] > 5]"
   ]
  },
  {
   "cell_type": "code",
   "execution_count": 35,
   "metadata": {},
   "outputs": [
    {
     "name": "stdout",
     "output_type": "stream",
     "text": [
      "<class 'pandas.core.frame.DataFrame'>\n",
      "Int64Index: 1052745 entries, 11999 to 1064743\n",
      "Data columns (total 4 columns):\n",
      "content       1052745 non-null object\n",
      "prob          1052745 non-null int64\n",
      "real_label    1052745 non-null int64\n",
      "length        1052745 non-null int64\n",
      "dtypes: int64(3), object(1)\n",
      "memory usage: 40.2+ MB\n"
     ]
    }
   ],
   "source": [
    "eval_df.info()"
   ]
  },
  {
   "cell_type": "code",
   "execution_count": 36,
   "metadata": {},
   "outputs": [
    {
     "name": "stdout",
     "output_type": "stream",
     "text": [
      "             precision    recall  f1-score   support\n",
      "\n",
      "          0       0.00      0.00      0.00         0\n",
      "          1       1.00      0.97      0.99   1052745\n",
      "\n",
      "avg / total       1.00      0.97      0.99   1052745\n",
      "\n"
     ]
    },
    {
     "name": "stderr",
     "output_type": "stream",
     "text": [
      "/home/guohua/.local/lib/python3.6/site-packages/sklearn/metrics/classification.py:1137: UndefinedMetricWarning: Recall and F-score are ill-defined and being set to 0.0 in labels with no true samples.\n",
      "  'recall', 'true', average, warn_for)\n"
     ]
    }
   ],
   "source": [
    "predictions = pipeline.predict(eval_df[\"content\"])\n",
    "print(classification_report(eval_df[\"real_label\"],predictions))"
   ]
  },
  {
   "cell_type": "code",
   "execution_count": 38,
   "metadata": {},
   "outputs": [
    {
     "data": {
      "text/plain": [
       "1052745"
      ]
     },
     "execution_count": 38,
     "metadata": {},
     "output_type": "execute_result"
    }
   ],
   "source": [
    "len(predictions)"
   ]
  },
  {
   "cell_type": "code",
   "execution_count": 39,
   "metadata": {},
   "outputs": [
    {
     "data": {
      "text/plain": [
       "1021790"
      ]
     },
     "execution_count": 39,
     "metadata": {},
     "output_type": "execute_result"
    }
   ],
   "source": [
    "sum(predictions)"
   ]
  },
  {
   "cell_type": "code",
   "execution_count": 41,
   "metadata": {},
   "outputs": [
    {
     "data": {
      "text/html": [
       "<div>\n",
       "<style scoped>\n",
       "    .dataframe tbody tr th:only-of-type {\n",
       "        vertical-align: middle;\n",
       "    }\n",
       "\n",
       "    .dataframe tbody tr th {\n",
       "        vertical-align: top;\n",
       "    }\n",
       "\n",
       "    .dataframe thead th {\n",
       "        text-align: right;\n",
       "    }\n",
       "</style>\n",
       "<table border=\"1\" class=\"dataframe\">\n",
       "  <thead>\n",
       "    <tr style=\"text-align: right;\">\n",
       "      <th></th>\n",
       "      <th>content</th>\n",
       "      <th>prob</th>\n",
       "      <th>real_label</th>\n",
       "      <th>length</th>\n",
       "    </tr>\n",
       "  </thead>\n",
       "  <tbody>\n",
       "    <tr>\n",
       "      <th>355316</th>\n",
       "      <td>我们zhi保证最真交.易，无论上.下.分多大量，上.分让您拿到琻</td>\n",
       "      <td>90</td>\n",
       "      <td>1</td>\n",
       "      <td>33</td>\n",
       "    </tr>\n",
       "    <tr>\n",
       "      <th>368608</th>\n",
       "      <td>长期出琻bi 出蒩满级捕鱼号 手机/威信：①863①4⑨⑤89⑦</td>\n",
       "      <td>90</td>\n",
       "      <td>1</td>\n",
       "      <td>33</td>\n",
       "    </tr>\n",
       "    <tr>\n",
       "      <th>116763</th>\n",
       "      <td>在线，详情添加手机薇信同号13868794079</td>\n",
       "      <td>90</td>\n",
       "      <td>1</td>\n",
       "      <td>25</td>\n",
       "    </tr>\n",
       "    <tr>\n",
       "      <th>278261</th>\n",
       "      <td>蒩収捕鱼hao，琻豆8-15W100员，薇信XXR666661</td>\n",
       "      <td>90</td>\n",
       "      <td>1</td>\n",
       "      <td>32</td>\n",
       "    </tr>\n",
       "    <tr>\n",
       "      <th>743117</th>\n",
       "      <td>bu鱼shang下芬:上芬16万琻币100,下芬20万琻币100..介绍朋友蒩</td>\n",
       "      <td>90</td>\n",
       "      <td>1</td>\n",
       "      <td>40</td>\n",
       "    </tr>\n",
       "    <tr>\n",
       "      <th>956944</th>\n",
       "      <td>长期提供组号丅F.咨询威+ 18692972722;高架回手经典42以上炮台.千炮8000...</td>\n",
       "      <td>90</td>\n",
       "      <td>1</td>\n",
       "      <td>62</td>\n",
       "    </tr>\n",
       "    <tr>\n",
       "      <th>1015570</th>\n",
       "      <td>chang期提供组号丄丅F.咨询威+ 18692972722;高架回手经典42以上炮台.千...</td>\n",
       "      <td>90</td>\n",
       "      <td>1</td>\n",
       "      <td>67</td>\n",
       "    </tr>\n",
       "    <tr>\n",
       "      <th>815215</th>\n",
       "      <td>chang期蒩鱼炮上xai分业务绝对安全可靠咨询威X+xx17674022115</td>\n",
       "      <td>90</td>\n",
       "      <td>1</td>\n",
       "      <td>41</td>\n",
       "    </tr>\n",
       "    <tr>\n",
       "      <th>499104</th>\n",
       "      <td>长期合作优惠！威信⒈3001158982.此宣传小号不回复，请加威信</td>\n",
       "      <td>90</td>\n",
       "      <td>1</td>\n",
       "      <td>35</td>\n",
       "    </tr>\n",
       "    <tr>\n",
       "      <th>159869</th>\n",
       "      <td>要的老板可以加我威x:155③21③3①06（同手机）</td>\n",
       "      <td>90</td>\n",
       "      <td>1</td>\n",
       "      <td>28</td>\n",
       "    </tr>\n",
       "    <tr>\n",
       "      <th>824009</th>\n",
       "      <td>収经典42-46，千炮7500-9000。需要长期合.作请添加威信 JD44421</td>\n",
       "      <td>90</td>\n",
       "      <td>1</td>\n",
       "      <td>42</td>\n",
       "    </tr>\n",
       "    <tr>\n",
       "      <th>990946</th>\n",
       "      <td>长qi提供组号丄丅枌.咨询威+ 18692972722;高架回手经典42以上炮台.千炮80...</td>\n",
       "      <td>90</td>\n",
       "      <td>1</td>\n",
       "      <td>64</td>\n",
       "    </tr>\n",
       "    <tr>\n",
       "      <th>726438</th>\n",
       "      <td>您好，本店专业丄丅fen!上100=1⑹w下100=22w（组号.zu炮）长期</td>\n",
       "      <td>90</td>\n",
       "      <td>1</td>\n",
       "      <td>40</td>\n",
       "    </tr>\n",
       "    <tr>\n",
       "      <th>68030</th>\n",
       "      <td>满级鱼炮chu蒩，如有打扰敬请原谅</td>\n",
       "      <td>90</td>\n",
       "      <td>1</td>\n",
       "      <td>18</td>\n",
       "    </tr>\n",
       "    <tr>\n",
       "      <th>526677</th>\n",
       "      <td>你hao 収賣琻币 童叟无欺 出蒩鱼炮 加威信⒈⒏3⒉9⒋51606</td>\n",
       "      <td>90</td>\n",
       "      <td>1</td>\n",
       "      <td>35</td>\n",
       "    </tr>\n",
       "    <tr>\n",
       "      <th>450321</th>\n",
       "      <td>你好，収賣币，免费蒩捕鱼炮，収収鱼炮,威信 ⒈⒊238279185</td>\n",
       "      <td>90</td>\n",
       "      <td>1</td>\n",
       "      <td>34</td>\n",
       "    </tr>\n",
       "    <tr>\n",
       "      <th>831353</th>\n",
       "      <td>chang期蒩鱼炮丄丅fen业务绝对安全可靠 咨询威X+xx17670915892</td>\n",
       "      <td>90</td>\n",
       "      <td>1</td>\n",
       "      <td>42</td>\n",
       "    </tr>\n",
       "    <tr>\n",
       "      <th>740564</th>\n",
       "      <td>千炮bu鱼shang下纷:上纷13万琻币100,下纷14万琻币100.电话威信</td>\n",
       "      <td>90</td>\n",
       "      <td>1</td>\n",
       "      <td>40</td>\n",
       "    </tr>\n",
       "    <tr>\n",
       "      <th>866168</th>\n",
       "      <td>chang期蒩鱼炮丄丅fen业务绝对安全可靠 咨询威X+ xx17670915892</td>\n",
       "      <td>90</td>\n",
       "      <td>1</td>\n",
       "      <td>43</td>\n",
       "    </tr>\n",
       "    <tr>\n",
       "      <th>761686</th>\n",
       "      <td>长期蒩鱼炮 丄丅fen业务 绝对安全可靠 咨询 威 + jj321520123</td>\n",
       "      <td>90</td>\n",
       "      <td>1</td>\n",
       "      <td>40</td>\n",
       "    </tr>\n",
       "    <tr>\n",
       "      <th>518003</th>\n",
       "      <td>nin好,我是JJ商家,长期収出JJ琻币,（免费出蒩捕鱼满级炮）出蒩</td>\n",
       "      <td>90</td>\n",
       "      <td>1</td>\n",
       "      <td>35</td>\n",
       "    </tr>\n",
       "    <tr>\n",
       "      <th>983566</th>\n",
       "      <td>lin琳）5年老店，24小時在線！上份：10万=100，下份：①1万=100，满级鱼炮免费...</td>\n",
       "      <td>90</td>\n",
       "      <td>1</td>\n",
       "      <td>64</td>\n",
       "    </tr>\n",
       "    <tr>\n",
       "      <th>17511</th>\n",
       "      <td>你喜欢打鱼吗?</td>\n",
       "      <td>90</td>\n",
       "      <td>1</td>\n",
       "      <td>8</td>\n",
       "    </tr>\n",
       "    <tr>\n",
       "      <th>264342</th>\n",
       "      <td>，下.分让您拿到銭，我们坚信只有信誉才能做的更久更大。高.價</td>\n",
       "      <td>90</td>\n",
       "      <td>1</td>\n",
       "      <td>31</td>\n",
       "    </tr>\n",
       "    <tr>\n",
       "      <th>475771</th>\n",
       "      <td>丅分100-15 威信： xingchen8885 海豚不回复消息！</td>\n",
       "      <td>90</td>\n",
       "      <td>1</td>\n",
       "      <td>35</td>\n",
       "    </tr>\n",
       "    <tr>\n",
       "      <th>1058508</th>\n",
       "      <td>（船长）七年老店，以信立命！上份：13万=100，下份：15万=100，实名认证，jiao...</td>\n",
       "      <td>90</td>\n",
       "      <td>1</td>\n",
       "      <td>87</td>\n",
       "    </tr>\n",
       "    <tr>\n",
       "      <th>651511</th>\n",
       "      <td>琻 币 回 収、捕鱼账号回収加威信182 3107 1586八年老店，信誉</td>\n",
       "      <td>90</td>\n",
       "      <td>1</td>\n",
       "      <td>38</td>\n",
       "    </tr>\n",
       "    <tr>\n",
       "      <th>809114</th>\n",
       "      <td>您好，本店专ye丄丅fen!上100=16w下100=②2w（组号.zu炮）长期</td>\n",
       "      <td>90</td>\n",
       "      <td>1</td>\n",
       "      <td>41</td>\n",
       "    </tr>\n",
       "    <tr>\n",
       "      <th>803139</th>\n",
       "      <td>您好，本店zhuan业丄丅fen!上100=⑴⑹w下100=⑵2w（组号.zu炮</td>\n",
       "      <td>90</td>\n",
       "      <td>1</td>\n",
       "      <td>41</td>\n",
       "    </tr>\n",
       "    <tr>\n",
       "      <th>137303</th>\n",
       "      <td>天在线，详情添加手机薇信同号13868794079</td>\n",
       "      <td>90</td>\n",
       "      <td>1</td>\n",
       "      <td>26</td>\n",
       "    </tr>\n",
       "    <tr>\n",
       "      <th>389168</th>\n",
       "      <td>的老板可以加我威x了解下 威x：1⑤532①③3106（同手机）</td>\n",
       "      <td>90</td>\n",
       "      <td>1</td>\n",
       "      <td>33</td>\n",
       "    </tr>\n",
       "    <tr>\n",
       "      <th>544934</th>\n",
       "      <td>ni好，収賣琻币，免费蒩捕鱼炮，収収鱼炮,威信 13⑵3827918⑸</td>\n",
       "      <td>90</td>\n",
       "      <td>1</td>\n",
       "      <td>36</td>\n",
       "    </tr>\n",
       "    <tr>\n",
       "      <th>623206</th>\n",
       "      <td>最低差價chu蒩经典千炮顶级鱼炮 出蒩鱼炮免税 加 威x kkhy945</td>\n",
       "      <td>90</td>\n",
       "      <td>1</td>\n",
       "      <td>37</td>\n",
       "    </tr>\n",
       "    <tr>\n",
       "      <th>76731</th>\n",
       "      <td>qianpao 7000--9000</td>\n",
       "      <td>90</td>\n",
       "      <td>1</td>\n",
       "      <td>19</td>\n",
       "    </tr>\n",
       "    <tr>\n",
       "      <th>833706</th>\n",
       "      <td>chang期族号 丄丅 份业务 决对安全可靠 咨询 威+ x15587426218</td>\n",
       "      <td>90</td>\n",
       "      <td>1</td>\n",
       "      <td>42</td>\n",
       "    </tr>\n",
       "    <tr>\n",
       "      <th>1001305</th>\n",
       "      <td>长期提供组号丄丅枌.咨xun威+ 18692972722;高架回手经典42以上炮台.千炮8...</td>\n",
       "      <td>90</td>\n",
       "      <td>1</td>\n",
       "      <td>65</td>\n",
       "    </tr>\n",
       "    <tr>\n",
       "      <th>61167</th>\n",
       "      <td>⑺63⑷⑺⑼5 &lt;2⑷小时营业&gt;</td>\n",
       "      <td>90</td>\n",
       "      <td>1</td>\n",
       "      <td>17</td>\n",
       "    </tr>\n",
       "    <tr>\n",
       "      <th>115799</th>\n",
       "      <td>在线，详情添加手机薇信同号13868794079</td>\n",
       "      <td>90</td>\n",
       "      <td>1</td>\n",
       "      <td>25</td>\n",
       "    </tr>\n",
       "    <tr>\n",
       "      <th>997249</th>\n",
       "      <td>琳琳）5nian老店，24小時在線！上份：10万=100，下份：11万=100，满级鱼炮免...</td>\n",
       "      <td>90</td>\n",
       "      <td>1</td>\n",
       "      <td>65</td>\n",
       "    </tr>\n",
       "    <tr>\n",
       "      <th>60901</th>\n",
       "      <td>.作请加薇信 HL552277</td>\n",
       "      <td>90</td>\n",
       "      <td>1</td>\n",
       "      <td>16</td>\n",
       "    </tr>\n",
       "  </tbody>\n",
       "</table>\n",
       "</div>"
      ],
      "text/plain": [
       "                                                   content  prob  real_label  \\\n",
       "355316                    我们zhi保证最真交.易，无论上.下.分多大量，上.分让您拿到琻    90           1   \n",
       "368608                    长期出琻bi 出蒩满级捕鱼号 手机/威信：①863①4⑨⑤89⑦    90           1   \n",
       "116763                            在线，详情添加手机薇信同号13868794079    90           1   \n",
       "278261                     蒩収捕鱼hao，琻豆8-15W100员，薇信XXR666661    90           1   \n",
       "743117             bu鱼shang下芬:上芬16万琻币100,下芬20万琻币100..介绍朋友蒩    90           1   \n",
       "956944    长期提供组号丅F.咨询威+ 18692972722;高架回手经典42以上炮台.千炮8000...    90           1   \n",
       "1015570   chang期提供组号丄丅F.咨询威+ 18692972722;高架回手经典42以上炮台.千...    90           1   \n",
       "815215            chang期蒩鱼炮上xai分业务绝对安全可靠咨询威X+xx17674022115    90           1   \n",
       "499104                  长期合作优惠！威信⒈3001158982.此宣传小号不回复，请加威信    90           1   \n",
       "159869                         要的老板可以加我威x:155③21③3①06（同手机）    90           1   \n",
       "824009           収经典42-46，千炮7500-9000。需要长期合.作请添加威信 JD44421    90           1   \n",
       "990946    长qi提供组号丄丅枌.咨询威+ 18692972722;高架回手经典42以上炮台.千炮80...    90           1   \n",
       "726438             您好，本店专业丄丅fen!上100=1⑹w下100=22w（组号.zu炮）长期    90           1   \n",
       "68030                                    满级鱼炮chu蒩，如有打扰敬请原谅    90           1   \n",
       "526677                  你hao 収賣琻币 童叟无欺 出蒩鱼炮 加威信⒈⒏3⒉9⒋51606    90           1   \n",
       "450321                   你好，収賣币，免费蒩捕鱼炮，収収鱼炮,威信 ⒈⒊238279185    90           1   \n",
       "831353           chang期蒩鱼炮丄丅fen业务绝对安全可靠 咨询威X+xx17670915892    90           1   \n",
       "740564             千炮bu鱼shang下纷:上纷13万琻币100,下纷14万琻币100.电话威信    90           1   \n",
       "866168          chang期蒩鱼炮丄丅fen业务绝对安全可靠 咨询威X+ xx17670915892    90           1   \n",
       "761686             长期蒩鱼炮 丄丅fen业务 绝对安全可靠 咨询 威 + jj321520123    90           1   \n",
       "518003                  nin好,我是JJ商家,长期収出JJ琻币,（免费出蒩捕鱼满级炮）出蒩    90           1   \n",
       "983566    lin琳）5年老店，24小時在線！上份：10万=100，下份：①1万=100，满级鱼炮免费...    90           1   \n",
       "17511                                              你喜欢打鱼吗?    90           1   \n",
       "264342                      ，下.分让您拿到銭，我们坚信只有信誉才能做的更久更大。高.價    90           1   \n",
       "475771                  丅分100-15 威信： xingchen8885 海豚不回复消息！    90           1   \n",
       "1058508   （船长）七年老店，以信立命！上份：13万=100，下份：15万=100，实名认证，jiao...    90           1   \n",
       "651511               琻 币 回 収、捕鱼账号回収加威信182 3107 1586八年老店，信誉    90           1   \n",
       "809114            您好，本店专ye丄丅fen!上100=16w下100=②2w（组号.zu炮）长期    90           1   \n",
       "803139            您好，本店zhuan业丄丅fen!上100=⑴⑹w下100=⑵2w（组号.zu炮    90           1   \n",
       "137303                           天在线，详情添加手机薇信同号13868794079    90           1   \n",
       "389168                    的老板可以加我威x了解下 威x：1⑤532①③3106（同手机）    90           1   \n",
       "544934                 ni好，収賣琻币，免费蒩捕鱼炮，収収鱼炮,威信 13⑵3827918⑸    90           1   \n",
       "623206                最低差價chu蒩经典千炮顶级鱼炮 出蒩鱼炮免税 加 威x kkhy945    90           1   \n",
       "76731                                   qianpao 7000--9000    90           1   \n",
       "833706           chang期族号 丄丅 份业务 决对安全可靠 咨询 威+ x15587426218    90           1   \n",
       "1001305   长期提供组号丄丅枌.咨xun威+ 18692972722;高架回手经典42以上炮台.千炮8...    90           1   \n",
       "61167                                     ⑺63⑷⑺⑼5 <2⑷小时营业>    90           1   \n",
       "115799                            在线，详情添加手机薇信同号13868794079    90           1   \n",
       "997249    琳琳）5nian老店，24小時在線！上份：10万=100，下份：11万=100，满级鱼炮免...    90           1   \n",
       "60901                                      .作请加薇信 HL552277    90           1   \n",
       "\n",
       "         length  \n",
       "355316       33  \n",
       "368608       33  \n",
       "116763       25  \n",
       "278261       32  \n",
       "743117       40  \n",
       "956944       62  \n",
       "1015570      67  \n",
       "815215       41  \n",
       "499104       35  \n",
       "159869       28  \n",
       "824009       42  \n",
       "990946       64  \n",
       "726438       40  \n",
       "68030        18  \n",
       "526677       35  \n",
       "450321       34  \n",
       "831353       42  \n",
       "740564       40  \n",
       "866168       43  \n",
       "761686       40  \n",
       "518003       35  \n",
       "983566       64  \n",
       "17511         8  \n",
       "264342       31  \n",
       "475771       35  \n",
       "1058508      87  \n",
       "651511       38  \n",
       "809114       41  \n",
       "803139       41  \n",
       "137303       26  \n",
       "389168       33  \n",
       "544934       36  \n",
       "623206       37  \n",
       "76731        19  \n",
       "833706       42  \n",
       "1001305      65  \n",
       "61167        17  \n",
       "115799       25  \n",
       "997249       65  \n",
       "60901        16  "
      ]
     },
     "execution_count": 41,
     "metadata": {},
     "output_type": "execute_result"
    }
   ],
   "source": [
    "eval_df.sample(40)"
   ]
  },
  {
   "cell_type": "markdown",
   "metadata": {},
   "source": [
    "# Inference "
   ]
  },
  {
   "cell_type": "code",
   "execution_count": 73,
   "metadata": {},
   "outputs": [
    {
     "data": {
      "text/plain": [
       "(1,)"
      ]
     },
     "execution_count": 73,
     "metadata": {},
     "output_type": "execute_result"
    }
   ],
   "source": [
    "text = \"JJ的玩家你好，好消息2020最火爆黑马棋牌，支持提现的棋牌，复制下方链接到手机浏览器下载\"\n",
    "test_data = np.array([text])\n",
    "test_data.shape"
   ]
  },
  {
   "cell_type": "code",
   "execution_count": 74,
   "metadata": {},
   "outputs": [
    {
     "data": {
      "text/plain": [
       "array([0])"
      ]
     },
     "execution_count": 74,
     "metadata": {},
     "output_type": "execute_result"
    }
   ],
   "source": [
    "pipeline.predict(test_data)"
   ]
  },
  {
   "cell_type": "markdown",
   "metadata": {},
   "source": [
    "# Save & reload pipeline "
   ]
  },
  {
   "cell_type": "markdown",
   "metadata": {},
   "source": [
    "## Save "
   ]
  },
  {
   "cell_type": "code",
   "execution_count": 3,
   "metadata": {},
   "outputs": [
    {
     "ename": "NameError",
     "evalue": "name 'pipeline' is not defined",
     "output_type": "error",
     "traceback": [
      "\u001b[0;31m---------------------------------------------------------------------------\u001b[0m",
      "\u001b[0;31mNameError\u001b[0m                                 Traceback (most recent call last)",
      "\u001b[0;32m<ipython-input-3-879ba7a3a45d>\u001b[0m in \u001b[0;36m<module>\u001b[0;34m\u001b[0m\n\u001b[1;32m      1\u001b[0m file_name = joblib.dump(\n\u001b[0;32m----> 2\u001b[0;31m     \u001b[0mvalue\u001b[0m\u001b[0;34m=\u001b[0m\u001b[0mpipeline\u001b[0m\u001b[0;34m,\u001b[0m\u001b[0;34m\u001b[0m\u001b[0;34m\u001b[0m\u001b[0m\n\u001b[0m\u001b[1;32m      3\u001b[0m     \u001b[0mfilename\u001b[0m\u001b[0;34m=\u001b[0m\u001b[0mos\u001b[0m\u001b[0;34m.\u001b[0m\u001b[0mpath\u001b[0m\u001b[0;34m.\u001b[0m\u001b[0mjoin\u001b[0m\u001b[0;34m(\u001b[0m\u001b[0mmodel_dir\u001b[0m\u001b[0;34m,\u001b[0m \u001b[0mmodel_file\u001b[0m\u001b[0;34m)\u001b[0m\u001b[0;34m\u001b[0m\u001b[0;34m\u001b[0m\u001b[0m\n\u001b[1;32m      4\u001b[0m )[0]\n",
      "\u001b[0;31mNameError\u001b[0m: name 'pipeline' is not defined"
     ]
    }
   ],
   "source": [
    "file_name = joblib.dump(\n",
    "    value=pipeline,\n",
    "    filename=os.path.join(model_dir, model_file)\n",
    ")[0]"
   ]
  },
  {
   "cell_type": "markdown",
   "metadata": {},
   "source": [
    "## reload "
   ]
  },
  {
   "cell_type": "code",
   "execution_count": 9,
   "metadata": {},
   "outputs": [
    {
     "ename": "AttributeError",
     "evalue": "module '__main__' has no attribute 'process_text'",
     "output_type": "error",
     "traceback": [
      "\u001b[0;31m---------------------------------------------------------------------------\u001b[0m",
      "\u001b[0;31mAttributeError\u001b[0m                            Traceback (most recent call last)",
      "\u001b[0;32m<ipython-input-9-84e9bf5a61e8>\u001b[0m in \u001b[0;36m<module>\u001b[0;34m\u001b[0m\n\u001b[1;32m      5\u001b[0m \u001b[0;34m\u001b[0m\u001b[0m\n\u001b[1;32m      6\u001b[0m new_pipeline = joblib.load(\n\u001b[0;32m----> 7\u001b[0;31m     \u001b[0mfilename\u001b[0m\u001b[0;34m=\u001b[0m\u001b[0mfile_name\u001b[0m\u001b[0;34m\u001b[0m\u001b[0;34m\u001b[0m\u001b[0m\n\u001b[0m\u001b[1;32m      8\u001b[0m )\n",
      "\u001b[0;32m~/.local/lib/python3.6/site-packages/sklearn/externals/joblib/numpy_pickle.py\u001b[0m in \u001b[0;36mload\u001b[0;34m(filename, mmap_mode)\u001b[0m\n\u001b[1;32m    576\u001b[0m                     \u001b[0;32mreturn\u001b[0m \u001b[0mload_compatibility\u001b[0m\u001b[0;34m(\u001b[0m\u001b[0mfobj\u001b[0m\u001b[0;34m)\u001b[0m\u001b[0;34m\u001b[0m\u001b[0;34m\u001b[0m\u001b[0m\n\u001b[1;32m    577\u001b[0m \u001b[0;34m\u001b[0m\u001b[0m\n\u001b[0;32m--> 578\u001b[0;31m                 \u001b[0mobj\u001b[0m \u001b[0;34m=\u001b[0m \u001b[0m_unpickle\u001b[0m\u001b[0;34m(\u001b[0m\u001b[0mfobj\u001b[0m\u001b[0;34m,\u001b[0m \u001b[0mfilename\u001b[0m\u001b[0;34m,\u001b[0m \u001b[0mmmap_mode\u001b[0m\u001b[0;34m)\u001b[0m\u001b[0;34m\u001b[0m\u001b[0;34m\u001b[0m\u001b[0m\n\u001b[0m\u001b[1;32m    579\u001b[0m \u001b[0;34m\u001b[0m\u001b[0m\n\u001b[1;32m    580\u001b[0m     \u001b[0;32mreturn\u001b[0m \u001b[0mobj\u001b[0m\u001b[0;34m\u001b[0m\u001b[0;34m\u001b[0m\u001b[0m\n",
      "\u001b[0;32m~/.local/lib/python3.6/site-packages/sklearn/externals/joblib/numpy_pickle.py\u001b[0m in \u001b[0;36m_unpickle\u001b[0;34m(fobj, filename, mmap_mode)\u001b[0m\n\u001b[1;32m    506\u001b[0m     \u001b[0mobj\u001b[0m \u001b[0;34m=\u001b[0m \u001b[0;32mNone\u001b[0m\u001b[0;34m\u001b[0m\u001b[0;34m\u001b[0m\u001b[0m\n\u001b[1;32m    507\u001b[0m     \u001b[0;32mtry\u001b[0m\u001b[0;34m:\u001b[0m\u001b[0;34m\u001b[0m\u001b[0;34m\u001b[0m\u001b[0m\n\u001b[0;32m--> 508\u001b[0;31m         \u001b[0mobj\u001b[0m \u001b[0;34m=\u001b[0m \u001b[0munpickler\u001b[0m\u001b[0;34m.\u001b[0m\u001b[0mload\u001b[0m\u001b[0;34m(\u001b[0m\u001b[0;34m)\u001b[0m\u001b[0;34m\u001b[0m\u001b[0;34m\u001b[0m\u001b[0m\n\u001b[0m\u001b[1;32m    509\u001b[0m         \u001b[0;32mif\u001b[0m \u001b[0munpickler\u001b[0m\u001b[0;34m.\u001b[0m\u001b[0mcompat_mode\u001b[0m\u001b[0;34m:\u001b[0m\u001b[0;34m\u001b[0m\u001b[0;34m\u001b[0m\u001b[0m\n\u001b[1;32m    510\u001b[0m             warnings.warn(\"The file '%s' has been generated with a \"\n",
      "\u001b[0;32m~/anaconda3/envs/machine_learning/lib/python3.6/pickle.py\u001b[0m in \u001b[0;36mload\u001b[0;34m(self)\u001b[0m\n\u001b[1;32m   1048\u001b[0m                     \u001b[0;32mraise\u001b[0m \u001b[0mEOFError\u001b[0m\u001b[0;34m\u001b[0m\u001b[0;34m\u001b[0m\u001b[0m\n\u001b[1;32m   1049\u001b[0m                 \u001b[0;32massert\u001b[0m \u001b[0misinstance\u001b[0m\u001b[0;34m(\u001b[0m\u001b[0mkey\u001b[0m\u001b[0;34m,\u001b[0m \u001b[0mbytes_types\u001b[0m\u001b[0;34m)\u001b[0m\u001b[0;34m\u001b[0m\u001b[0;34m\u001b[0m\u001b[0m\n\u001b[0;32m-> 1050\u001b[0;31m                 \u001b[0mdispatch\u001b[0m\u001b[0;34m[\u001b[0m\u001b[0mkey\u001b[0m\u001b[0;34m[\u001b[0m\u001b[0;36m0\u001b[0m\u001b[0;34m]\u001b[0m\u001b[0;34m]\u001b[0m\u001b[0;34m(\u001b[0m\u001b[0mself\u001b[0m\u001b[0;34m)\u001b[0m\u001b[0;34m\u001b[0m\u001b[0;34m\u001b[0m\u001b[0m\n\u001b[0m\u001b[1;32m   1051\u001b[0m         \u001b[0;32mexcept\u001b[0m \u001b[0m_Stop\u001b[0m \u001b[0;32mas\u001b[0m \u001b[0mstopinst\u001b[0m\u001b[0;34m:\u001b[0m\u001b[0;34m\u001b[0m\u001b[0;34m\u001b[0m\u001b[0m\n\u001b[1;32m   1052\u001b[0m             \u001b[0;32mreturn\u001b[0m \u001b[0mstopinst\u001b[0m\u001b[0;34m.\u001b[0m\u001b[0mvalue\u001b[0m\u001b[0;34m\u001b[0m\u001b[0;34m\u001b[0m\u001b[0m\n",
      "\u001b[0;32m~/anaconda3/envs/machine_learning/lib/python3.6/pickle.py\u001b[0m in \u001b[0;36mload_global\u001b[0;34m(self)\u001b[0m\n\u001b[1;32m   1336\u001b[0m         \u001b[0mmodule\u001b[0m \u001b[0;34m=\u001b[0m \u001b[0mself\u001b[0m\u001b[0;34m.\u001b[0m\u001b[0mreadline\u001b[0m\u001b[0;34m(\u001b[0m\u001b[0;34m)\u001b[0m\u001b[0;34m[\u001b[0m\u001b[0;34m:\u001b[0m\u001b[0;34m-\u001b[0m\u001b[0;36m1\u001b[0m\u001b[0;34m]\u001b[0m\u001b[0;34m.\u001b[0m\u001b[0mdecode\u001b[0m\u001b[0;34m(\u001b[0m\u001b[0;34m\"utf-8\"\u001b[0m\u001b[0;34m)\u001b[0m\u001b[0;34m\u001b[0m\u001b[0;34m\u001b[0m\u001b[0m\n\u001b[1;32m   1337\u001b[0m         \u001b[0mname\u001b[0m \u001b[0;34m=\u001b[0m \u001b[0mself\u001b[0m\u001b[0;34m.\u001b[0m\u001b[0mreadline\u001b[0m\u001b[0;34m(\u001b[0m\u001b[0;34m)\u001b[0m\u001b[0;34m[\u001b[0m\u001b[0;34m:\u001b[0m\u001b[0;34m-\u001b[0m\u001b[0;36m1\u001b[0m\u001b[0;34m]\u001b[0m\u001b[0;34m.\u001b[0m\u001b[0mdecode\u001b[0m\u001b[0;34m(\u001b[0m\u001b[0;34m\"utf-8\"\u001b[0m\u001b[0;34m)\u001b[0m\u001b[0;34m\u001b[0m\u001b[0;34m\u001b[0m\u001b[0m\n\u001b[0;32m-> 1338\u001b[0;31m         \u001b[0mklass\u001b[0m \u001b[0;34m=\u001b[0m \u001b[0mself\u001b[0m\u001b[0;34m.\u001b[0m\u001b[0mfind_class\u001b[0m\u001b[0;34m(\u001b[0m\u001b[0mmodule\u001b[0m\u001b[0;34m,\u001b[0m \u001b[0mname\u001b[0m\u001b[0;34m)\u001b[0m\u001b[0;34m\u001b[0m\u001b[0;34m\u001b[0m\u001b[0m\n\u001b[0m\u001b[1;32m   1339\u001b[0m         \u001b[0mself\u001b[0m\u001b[0;34m.\u001b[0m\u001b[0mappend\u001b[0m\u001b[0;34m(\u001b[0m\u001b[0mklass\u001b[0m\u001b[0;34m)\u001b[0m\u001b[0;34m\u001b[0m\u001b[0;34m\u001b[0m\u001b[0m\n\u001b[1;32m   1340\u001b[0m     \u001b[0mdispatch\u001b[0m\u001b[0;34m[\u001b[0m\u001b[0mGLOBAL\u001b[0m\u001b[0;34m[\u001b[0m\u001b[0;36m0\u001b[0m\u001b[0;34m]\u001b[0m\u001b[0;34m]\u001b[0m \u001b[0;34m=\u001b[0m \u001b[0mload_global\u001b[0m\u001b[0;34m\u001b[0m\u001b[0;34m\u001b[0m\u001b[0m\n",
      "\u001b[0;32m~/anaconda3/envs/machine_learning/lib/python3.6/pickle.py\u001b[0m in \u001b[0;36mfind_class\u001b[0;34m(self, module, name)\u001b[0m\n\u001b[1;32m   1390\u001b[0m             \u001b[0;32mreturn\u001b[0m \u001b[0m_getattribute\u001b[0m\u001b[0;34m(\u001b[0m\u001b[0msys\u001b[0m\u001b[0;34m.\u001b[0m\u001b[0mmodules\u001b[0m\u001b[0;34m[\u001b[0m\u001b[0mmodule\u001b[0m\u001b[0;34m]\u001b[0m\u001b[0;34m,\u001b[0m \u001b[0mname\u001b[0m\u001b[0;34m)\u001b[0m\u001b[0;34m[\u001b[0m\u001b[0;36m0\u001b[0m\u001b[0;34m]\u001b[0m\u001b[0;34m\u001b[0m\u001b[0;34m\u001b[0m\u001b[0m\n\u001b[1;32m   1391\u001b[0m         \u001b[0;32melse\u001b[0m\u001b[0;34m:\u001b[0m\u001b[0;34m\u001b[0m\u001b[0;34m\u001b[0m\u001b[0m\n\u001b[0;32m-> 1392\u001b[0;31m             \u001b[0;32mreturn\u001b[0m \u001b[0mgetattr\u001b[0m\u001b[0;34m(\u001b[0m\u001b[0msys\u001b[0m\u001b[0;34m.\u001b[0m\u001b[0mmodules\u001b[0m\u001b[0;34m[\u001b[0m\u001b[0mmodule\u001b[0m\u001b[0;34m]\u001b[0m\u001b[0;34m,\u001b[0m \u001b[0mname\u001b[0m\u001b[0;34m)\u001b[0m\u001b[0;34m\u001b[0m\u001b[0;34m\u001b[0m\u001b[0m\n\u001b[0m\u001b[1;32m   1393\u001b[0m \u001b[0;34m\u001b[0m\u001b[0m\n\u001b[1;32m   1394\u001b[0m     \u001b[0;32mdef\u001b[0m \u001b[0mload_reduce\u001b[0m\u001b[0;34m(\u001b[0m\u001b[0mself\u001b[0m\u001b[0;34m)\u001b[0m\u001b[0;34m:\u001b[0m\u001b[0;34m\u001b[0m\u001b[0;34m\u001b[0m\u001b[0m\n",
      "\u001b[0;31mAttributeError\u001b[0m: module '__main__' has no attribute 'process_text'"
     ]
    }
   ],
   "source": [
    "# joblib.dump(\n",
    "#     value=pipeline,\n",
    "#     filename=os.path.join(model_dir, model_file))\n",
    "\n",
    "     \n",
    "new_pipeline = joblib.load(\n",
    "    filename=file_name\n",
    ")"
   ]
  },
  {
   "cell_type": "code",
   "execution_count": 87,
   "metadata": {},
   "outputs": [
    {
     "data": {
      "text/plain": [
       "array([[0.98792932, 0.01207068]])"
      ]
     },
     "execution_count": 87,
     "metadata": {},
     "output_type": "execute_result"
    }
   ],
   "source": [
    "new_pipeline.predict_proba(test_data)"
   ]
  },
  {
   "cell_type": "markdown",
   "metadata": {},
   "source": [
    "#  TF-IDF (term frequency-inverse document frequency) explain"
   ]
  },
  {
   "cell_type": "markdown",
   "metadata": {},
   "source": [
    "## Explain "
   ]
  },
  {
   "cell_type": "markdown",
   "metadata": {},
   "source": [
    "## Ref "
   ]
  },
  {
   "cell_type": "markdown",
   "metadata": {},
   "source": [
    "1. [TF-IDF原理和使用](https://blog.csdn.net/zrc199021/article/details/53728499)\n",
    "2. [一文看懂TF-IDF](https://easyai.tech/ai-definition/tf-idf/)\n",
    "3. [How to Use Tfidftransformer & Tfidfvectorizer?](https://kavita-ganesan.com/tfidftransformer-tfidfvectorizer-usage-differences/)\n",
    "4. [What is TF-IDF](https://monkeylearn.com/blog/what-is-tf-idf/)"
   ]
  },
  {
   "cell_type": "code",
   "execution_count": null,
   "metadata": {},
   "outputs": [],
   "source": []
  }
 ],
 "metadata": {
  "kernelspec": {
   "display_name": "Python3 (machine_learning)",
   "language": "python",
   "name": "machine_learning"
  },
  "language_info": {
   "codemirror_mode": {
    "name": "ipython",
    "version": 3
   },
   "file_extension": ".py",
   "mimetype": "text/x-python",
   "name": "python",
   "nbconvert_exporter": "python",
   "pygments_lexer": "ipython3",
   "version": "3.6.9"
  },
  "toc": {
   "base_numbering": 1,
   "nav_menu": {},
   "number_sections": true,
   "sideBar": true,
   "skip_h1_title": false,
   "title_cell": "Table of Contents",
   "title_sidebar": "Contents",
   "toc_cell": false,
   "toc_position": {},
   "toc_section_display": true,
   "toc_window_display": true
  }
 },
 "nbformat": 4,
 "nbformat_minor": 1
}
