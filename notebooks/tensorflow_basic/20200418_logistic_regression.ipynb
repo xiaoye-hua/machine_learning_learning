{
 "cells": [
  {
   "cell_type": "markdown",
   "metadata": {},
   "source": [
    "# Module"
   ]
  },
  {
   "cell_type": "code",
   "execution_count": 1,
   "metadata": {},
   "outputs": [
    {
     "name": "stdout",
     "output_type": "stream",
     "text": [
      "1.13.1\n"
     ]
    }
   ],
   "source": [
    "\n",
    "import tensorflow as tf\n",
    "import numpy as np\n",
    "\n",
    "print(tf.__version__)"
   ]
  },
  {
   "cell_type": "code",
   "execution_count": null,
   "metadata": {},
   "outputs": [],
   "source": [
    "import "
   ]
  },
  {
   "cell_type": "markdown",
   "metadata": {},
   "source": [
    "# Config "
   ]
  },
  {
   "cell_type": "code",
   "execution_count": 66,
   "metadata": {},
   "outputs": [],
   "source": [
    "debug = True\n",
    "\n",
    "learning_rate = 0.01 \n",
    "epches = 100\n",
    "\n",
    "if debug:\n",
    "    total_batch = 10\n",
    "    batch_size = 2\n",
    "else:\n",
    "    batch_size = 100\n",
    "display_step = 5\n",
    "feature_num = 784\n",
    "label_num = 10"
   ]
  },
  {
   "cell_type": "markdown",
   "metadata": {},
   "source": [
    "# Data "
   ]
  },
  {
   "cell_type": "code",
   "execution_count": 61,
   "metadata": {},
   "outputs": [
    {
     "name": "stdout",
     "output_type": "stream",
     "text": [
      "Extracting /tmp/data/train-images-idx3-ubyte.gz\n",
      "Extracting /tmp/data/train-labels-idx1-ubyte.gz\n",
      "Extracting /tmp/data/t10k-images-idx3-ubyte.gz\n",
      "Extracting /tmp/data/t10k-labels-idx1-ubyte.gz\n"
     ]
    }
   ],
   "source": [
    "import tensorflow as tf\n",
    "\n",
    "# Import MINST data\n",
    "from tensorflow.examples.tutorials.mnist import input_data\n",
    "mnist = input_data.read_data_sets(\"/tmp/data/\", one_hot=True)\n",
    "if not debug:\n",
    "    total_batch = int(mnist.train.num_examplesum/batch_size)"
   ]
  },
  {
   "cell_type": "markdown",
   "metadata": {},
   "source": [
    "# Model "
   ]
  },
  {
   "cell_type": "code",
   "execution_count": 62,
   "metadata": {},
   "outputs": [
    {
     "name": "stdout",
     "output_type": "stream",
     "text": [
      "Tensor(\"Softmax_4:0\", shape=(?, 10), dtype=float32)\n"
     ]
    }
   ],
   "source": [
    "x = tf.placeholder(tf.float32, shape=[None, feature_num])\n",
    "y = tf.placeholder(tf.float32, shape=[None, label_num])\n",
    "\n",
    "W = tf.Variable(tf.zeros([feature_num, label_num]))\n",
    "b = tf.Variable(tf.zeros([label_num]))\n",
    "# print(W)\n",
    "# print(x)\n",
    "# print(y)\n",
    "# print(tf.matmul(x, W, transpose_b=True))\n",
    "predict = tf.nn.softmax(tf.add(tf.matmul(x, W), b))\n",
    "print(predict)"
   ]
  },
  {
   "cell_type": "code",
   "execution_count": 63,
   "metadata": {},
   "outputs": [
    {
     "name": "stdout",
     "output_type": "stream",
     "text": [
      "Tensor(\"Mean_15:0\", shape=(), dtype=float32)\n"
     ]
    }
   ],
   "source": [
    "cost = tf.reduce_mean(-tf.reduce_sum(y*tf.log(predict), reduction_indices=1))\n",
    "optimizor = tf.train.GradientDescentOptimizer(learning_rate=learning_rate).minimize(cost)\n",
    "print(cost)"
   ]
  },
  {
   "cell_type": "markdown",
   "metadata": {},
   "source": [
    "# Train "
   ]
  },
  {
   "cell_type": "code",
   "execution_count": 67,
   "metadata": {},
   "outputs": [
    {
     "name": "stdout",
     "output_type": "stream",
     "text": [
      "Epoch: 0\n",
      "Avg cost: 2.3005682706832884\n",
      "Accuracy : 0.28999999165534973\n",
      "Epoch: 5\n",
      "Avg cost: 1.847278106212616\n",
      "Accuracy : 0.4699999988079071\n",
      "Epoch: 10\n",
      "Avg cost: 1.562776005268097\n",
      "Accuracy : 0.6499999761581421\n",
      "Epoch: 15\n",
      "Avg cost: 1.2474092602729798\n",
      "Accuracy : 0.7400000095367432\n",
      "Epoch: 20\n",
      "Avg cost: 1.2272825121879578\n",
      "Accuracy : 0.7699999809265137\n",
      "Epoch: 25\n",
      "Avg cost: 0.8629582762718201\n",
      "Accuracy : 0.7799999713897705\n",
      "Epoch: 30\n",
      "Avg cost: 1.1834227859973907\n",
      "Accuracy : 0.8199999928474426\n",
      "Epoch: 35\n",
      "Avg cost: 0.77500781416893\n",
      "Accuracy : 0.8199999928474426\n",
      "Epoch: 40\n",
      "Avg cost: 0.8831036388874054\n",
      "Accuracy : 0.8100000023841858\n",
      "Epoch: 45\n",
      "Avg cost: 0.9618072628974914\n",
      "Accuracy : 0.8100000023841858\n",
      "Epoch: 50\n",
      "Avg cost: 0.8106064930558204\n",
      "Accuracy : 0.7900000214576721\n",
      "Epoch: 55\n",
      "Avg cost: 0.7399477258324623\n",
      "Accuracy : 0.7699999809265137\n",
      "Epoch: 60\n",
      "Avg cost: 0.7417496785521507\n",
      "Accuracy : 0.7900000214576721\n",
      "Epoch: 65\n",
      "Avg cost: 0.9383148193359375\n",
      "Accuracy : 0.7799999713897705\n",
      "Epoch: 70\n",
      "Avg cost: 0.6244139015674591\n",
      "Accuracy : 0.8299999833106995\n",
      "Epoch: 75\n",
      "Avg cost: 0.617809870839119\n",
      "Accuracy : 0.8100000023841858\n",
      "Epoch: 80\n",
      "Avg cost: 0.9986498706042767\n",
      "Accuracy : 0.8399999737739563\n",
      "Epoch: 85\n",
      "Avg cost: 0.7409732848405838\n",
      "Accuracy : 0.8399999737739563\n",
      "Epoch: 90\n",
      "Avg cost: 0.7441775351762772\n",
      "Accuracy : 0.8100000023841858\n",
      "Epoch: 95\n",
      "Avg cost: 0.8399102628231049\n",
      "Accuracy : 0.8299999833106995\n"
     ]
    }
   ],
   "source": [
    "init = tf.global_variables_initializer()\n",
    "with tf.Session() as sess:\n",
    "    sess.run(init)\n",
    "    \n",
    "    for epoch in range(epches):\n",
    "        total_cost = 0\n",
    "#         for batch_x, batch_y in zip(train_x, train_y):\n",
    "        for batch_idx in range(total_batch):\n",
    "#             batch_x = train_x[batch_idx]\n",
    "#             batch_y = train_y[batch_idx]\n",
    "            batch_x, batch_y = mnist.train.next_batch(batch_size)\n",
    "            _, c = sess.run([optimizor, cost], feed_dict={\n",
    "                x:batch_x,\n",
    "                y:batch_y\n",
    "            })\n",
    "            total_cost += c\n",
    "        avg_cost = total_cost/total_batch\n",
    "        if epoch % display_step == 0:\n",
    "            print(f\"Epoch: {epoch}\")\n",
    "            print(f\"Avg cost: {avg_cost}\")\n",
    "            correction = tf.equal(tf.argmax(predict, 1), tf.argmax(y, 1))\n",
    "            accuracy = tf.reduce_mean(tf.cast(correction, dtype=tf.float32))\n",
    "            print(f\"Accuracy : {sess.run(accuracy, feed_dict={x:mnist.train.images[:100], y:mnist.train.labels[:100]})}\")"
   ]
  },
  {
   "cell_type": "code",
   "execution_count": null,
   "metadata": {},
   "outputs": [],
   "source": []
  }
 ],
 "metadata": {
  "kernelspec": {
   "display_name": "Python3 (machine_learning)",
   "language": "python",
   "name": "machine_learning"
  },
  "language_info": {
   "codemirror_mode": {
    "name": "ipython",
    "version": 3
   },
   "file_extension": ".py",
   "mimetype": "text/x-python",
   "name": "python",
   "nbconvert_exporter": "python",
   "pygments_lexer": "ipython3",
   "version": "3.6.9"
  },
  "toc": {
   "base_numbering": 1,
   "nav_menu": {},
   "number_sections": true,
   "sideBar": true,
   "skip_h1_title": false,
   "title_cell": "Table of Contents",
   "title_sidebar": "Contents",
   "toc_cell": false,
   "toc_position": {},
   "toc_section_display": true,
   "toc_window_display": true
  }
 },
 "nbformat": 4,
 "nbformat_minor": 4
}
