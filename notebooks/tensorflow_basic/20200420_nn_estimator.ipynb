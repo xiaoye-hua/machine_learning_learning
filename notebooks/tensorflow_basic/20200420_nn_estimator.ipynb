{
 "cells": [
  {
   "cell_type": "markdown",
   "metadata": {},
   "source": [
    "# Module "
   ]
  },
  {
   "cell_type": "code",
   "execution_count": 78,
   "metadata": {},
   "outputs": [
    {
     "name": "stdout",
     "output_type": "stream",
     "text": [
      "The autoreload extension is already loaded. To reload it, use:\n",
      "  %reload_ext autoreload\n"
     ]
    }
   ],
   "source": [
    "# from __future__ import print_function\n",
    "\n",
    "%load_ext autoreload\n",
    "%autoreload 2\n",
    "\n",
    "import sys \n",
    "sys.path.append(\"../../\")\n",
    "import tensorflow as tf\n",
    "\n",
    "from src.DataLoader.mnist_data import get_mnist_data\n"
   ]
  },
  {
   "cell_type": "markdown",
   "metadata": {},
   "source": [
    "# Config "
   ]
  },
  {
   "cell_type": "code",
   "execution_count": 79,
   "metadata": {},
   "outputs": [],
   "source": [
    "debug = False\n",
    "\n",
    "learning_rate = 0.1 \n",
    "num_input = 784\n",
    "num_h1 = 256\n",
    "num_h2 = 256\n",
    "num_label = 10"
   ]
  },
  {
   "cell_type": "markdown",
   "metadata": {},
   "source": [
    "# Data "
   ]
  },
  {
   "cell_type": "code",
   "execution_count": 80,
   "metadata": {},
   "outputs": [
    {
     "name": "stdout",
     "output_type": "stream",
     "text": [
      "Extracting /tmp/data/train-images-idx3-ubyte.gz\n",
      "Extracting /tmp/data/train-labels-idx1-ubyte.gz\n",
      "Extracting /tmp/data/t10k-images-idx3-ubyte.gz\n",
      "Extracting /tmp/data/t10k-labels-idx1-ubyte.gz\n",
      "550, 100\n"
     ]
    }
   ],
   "source": [
    "mnist, total_batch, batch_size = get_mnist_data(debug=debug)\n",
    "print(f\"{total_batch}, {batch_size}\")"
   ]
  },
  {
   "cell_type": "code",
   "execution_count": 81,
   "metadata": {},
   "outputs": [],
   "source": [
    "input_fn = tf.estimator.inputs.numpy_input_fn(\n",
    "    x = {\"image\": mnist.train.images}, y=mnist.train.labels,\n",
    "    batch_size=batch_size, shuffle=True\n",
    ")"
   ]
  },
  {
   "cell_type": "code",
   "execution_count": 82,
   "metadata": {},
   "outputs": [
    {
     "data": {
      "text/plain": [
       "55000"
      ]
     },
     "execution_count": 82,
     "metadata": {},
     "output_type": "execute_result"
    }
   ],
   "source": [
    "mnist.train.num_examples"
   ]
  },
  {
   "cell_type": "markdown",
   "metadata": {},
   "source": [
    "# Model "
   ]
  },
  {
   "cell_type": "code",
   "execution_count": 83,
   "metadata": {},
   "outputs": [],
   "source": [
    "def neural_model(x):\n",
    "    x = x[\"image\"]\n",
    "    x = tf.layers.dense(x, num_h1)\n",
    "    x = tf.layers.dense(x, num_h2)\n",
    "    x = tf.layers.dense(x, num_label)\n",
    "    return x "
   ]
  },
  {
   "cell_type": "code",
   "execution_count": 92,
   "metadata": {},
   "outputs": [],
   "source": [
    "\n",
    "def model_fn(features, labels, mode):\n",
    "    logit = neural_model(features)\n",
    "    probs = tf.nn.softmax(logit)\n",
    "    predict_lable = tf.argmax(probs, axis=1)\n",
    "    if mode == tf.estimator.ModeKeys.PREDICT:\n",
    "        prediction = {\n",
    "            \"probs\": probs,\n",
    "            \"label\": predict_lable\n",
    "        }\n",
    "        return tf.estimator.EstimatorSpec(\n",
    "            predictions=prediction,\n",
    "            mode=mode\n",
    "        )\n",
    "#     print(labels)\n",
    "#     print(logit)\n",
    "    cross_entropy = tf.nn.softmax_cross_entropy_with_logits_v2(\n",
    "            labels=tf.cast(labels, tf.float32), logits=logit\n",
    "    )\n",
    "    loss = tf.reduce_mean(cross_entropy)\n",
    "    optimizor = tf.train.GradientDescentOptimizer(learning_rate=learning_rate)\n",
    "    train_op = optimizor.minimize(\n",
    "        loss=loss,\n",
    "        global_step=tf.train.get_global_step()\n",
    "    )\n",
    "#     print(f\"label: {labels}\")\n",
    "#     print(f\"predictions: {predict_lable}\")\n",
    "    accuracy = tf.metrics.accuracy(\n",
    "        labels=tf.argmax(labels, axis=1),\n",
    "        predictions=predict_lable\n",
    "    )\n",
    "#     if mode == tf.estimator.ModeKeys.TRAIN:\n",
    "    prediction = {\n",
    "        \"prob\": probs,\n",
    "        \"label\": predict_lable\n",
    "    }\n",
    "    return tf.estimator.EstimatorSpec(\n",
    "        predictions=prediction,\n",
    "        loss=loss,\n",
    "        train_op=train_op,\n",
    "        eval_metric_ops={\"accuracy\": accuracy},\n",
    "        mode=mode\n",
    "    )"
   ]
  },
  {
   "cell_type": "code",
   "execution_count": 93,
   "metadata": {},
   "outputs": [
    {
     "name": "stdout",
     "output_type": "stream",
     "text": [
      "INFO:tensorflow:Using default config.\n",
      "WARNING:tensorflow:Using temporary folder as model directory: /tmp/tmp03mu670p\n",
      "INFO:tensorflow:Using config: {'_model_dir': '/tmp/tmp03mu670p', '_tf_random_seed': None, '_save_summary_steps': 100, '_save_checkpoints_steps': None, '_save_checkpoints_secs': 600, '_session_config': allow_soft_placement: true\n",
      "graph_options {\n",
      "  rewrite_options {\n",
      "    meta_optimizer_iterations: ONE\n",
      "  }\n",
      "}\n",
      ", '_keep_checkpoint_max': 5, '_keep_checkpoint_every_n_hours': 10000, '_log_step_count_steps': 100, '_train_distribute': None, '_device_fn': None, '_protocol': None, '_eval_distribute': None, '_experimental_distribute': None, '_service': None, '_cluster_spec': <tensorflow.python.training.server_lib.ClusterSpec object at 0x7fcf64c90b70>, '_task_type': 'worker', '_task_id': 0, '_global_id_in_cluster': 0, '_master': '', '_evaluation_master': '', '_is_chief': True, '_num_ps_replicas': 0, '_num_worker_replicas': 1}\n"
     ]
    }
   ],
   "source": [
    "estimator = tf.estimator.Estimator(\n",
    "    model_fn=model_fn\n",
    ")"
   ]
  },
  {
   "cell_type": "markdown",
   "metadata": {},
   "source": [
    "# Train"
   ]
  },
  {
   "cell_type": "code",
   "execution_count": 94,
   "metadata": {},
   "outputs": [
    {
     "name": "stdout",
     "output_type": "stream",
     "text": [
      "INFO:tensorflow:Calling model_fn.\n",
      "INFO:tensorflow:Done calling model_fn.\n",
      "INFO:tensorflow:Create CheckpointSaverHook.\n",
      "INFO:tensorflow:Graph was finalized.\n",
      "INFO:tensorflow:Running local_init_op.\n",
      "INFO:tensorflow:Done running local_init_op.\n",
      "INFO:tensorflow:Saving checkpoints for 0 into /tmp/tmp03mu670p/model.ckpt.\n",
      "INFO:tensorflow:loss = 2.39172, step = 1\n",
      "INFO:tensorflow:global_step/sec: 256.027\n",
      "INFO:tensorflow:loss = 0.319223, step = 101 (0.392 sec)\n",
      "INFO:tensorflow:global_step/sec: 257.218\n",
      "INFO:tensorflow:loss = 0.534427, step = 201 (0.389 sec)\n",
      "INFO:tensorflow:global_step/sec: 262.672\n",
      "INFO:tensorflow:loss = 0.305554, step = 301 (0.381 sec)\n",
      "INFO:tensorflow:global_step/sec: 264.538\n",
      "INFO:tensorflow:loss = 0.346645, step = 401 (0.378 sec)\n",
      "INFO:tensorflow:global_step/sec: 270.928\n",
      "INFO:tensorflow:loss = 0.266695, step = 501 (0.369 sec)\n",
      "INFO:tensorflow:Saving checkpoints for 550 into /tmp/tmp03mu670p/model.ckpt.\n",
      "INFO:tensorflow:Loss for final step: 0.244408.\n"
     ]
    },
    {
     "data": {
      "text/plain": [
       "<tensorflow_estimator.python.estimator.estimator.Estimator at 0x7fcf64c90908>"
      ]
     },
     "execution_count": 94,
     "metadata": {},
     "output_type": "execute_result"
    }
   ],
   "source": [
    "estimator.train(\n",
    "    input_fn=input_fn\n",
    ")"
   ]
  },
  {
   "cell_type": "markdown",
   "metadata": {},
   "source": [
    "# Eval "
   ]
  },
  {
   "cell_type": "code",
   "execution_count": 95,
   "metadata": {},
   "outputs": [],
   "source": [
    "test_input_fn = tf.estimator.inputs.numpy_input_fn(\n",
    "    x={\"image\": mnist.test.images}, y=mnist.test.labels, shuffle=False\n",
    ")"
   ]
  },
  {
   "cell_type": "code",
   "execution_count": 96,
   "metadata": {},
   "outputs": [
    {
     "name": "stdout",
     "output_type": "stream",
     "text": [
      "INFO:tensorflow:Calling model_fn.\n",
      "INFO:tensorflow:Done calling model_fn.\n",
      "INFO:tensorflow:Starting evaluation at 2020-04-25T13:27:58Z\n",
      "INFO:tensorflow:Graph was finalized.\n",
      "INFO:tensorflow:Restoring parameters from /tmp/tmp03mu670p/model.ckpt-550\n",
      "INFO:tensorflow:Running local_init_op.\n",
      "INFO:tensorflow:Done running local_init_op.\n",
      "INFO:tensorflow:Finished evaluation at 2020-04-25-13:27:59\n",
      "INFO:tensorflow:Saving dict for global step 550: accuracy = 0.9076, global_step = 550, loss = 0.320767\n",
      "INFO:tensorflow:Saving 'checkpoint_path' summary for global step 550: /tmp/tmp03mu670p/model.ckpt-550\n"
     ]
    },
    {
     "data": {
      "text/plain": [
       "{'accuracy': 0.90759999, 'loss': 0.32076713, 'global_step': 550}"
      ]
     },
     "execution_count": 96,
     "metadata": {},
     "output_type": "execute_result"
    }
   ],
   "source": [
    "estimator.evaluate(\n",
    "    input_fn=test_input_fn\n",
    ")"
   ]
  },
  {
   "cell_type": "code",
   "execution_count": 97,
   "metadata": {},
   "outputs": [
    {
     "name": "stdout",
     "output_type": "stream",
     "text": [
      "INFO:tensorflow:Calling model_fn.\n",
      "INFO:tensorflow:Done calling model_fn.\n",
      "INFO:tensorflow:Starting evaluation at 2020-04-25T13:28:26Z\n",
      "INFO:tensorflow:Graph was finalized.\n",
      "INFO:tensorflow:Restoring parameters from /tmp/tmp03mu670p/model.ckpt-550\n",
      "INFO:tensorflow:Running local_init_op.\n",
      "INFO:tensorflow:Done running local_init_op.\n",
      "INFO:tensorflow:Finished evaluation at 2020-04-25-13:28:28\n",
      "INFO:tensorflow:Saving dict for global step 550: accuracy = 0.908109, global_step = 550, loss = 0.32095\n",
      "INFO:tensorflow:Saving 'checkpoint_path' summary for global step 550: /tmp/tmp03mu670p/model.ckpt-550\n"
     ]
    },
    {
     "data": {
      "text/plain": [
       "{'accuracy': 0.90810907, 'loss': 0.32095, 'global_step': 550}"
      ]
     },
     "execution_count": 97,
     "metadata": {},
     "output_type": "execute_result"
    }
   ],
   "source": [
    "estimator.evaluate(\n",
    "    input_fn=input_fn\n",
    ")"
   ]
  },
  {
   "cell_type": "markdown",
   "metadata": {},
   "source": [
    " "
   ]
  },
  {
   "cell_type": "markdown",
   "metadata": {},
   "source": [
    "# cross entropy "
   ]
  },
  {
   "cell_type": "code",
   "execution_count": 56,
   "metadata": {},
   "outputs": [],
   "source": [
    "a = tf.constant([1, 2])\n",
    "b = tf.constant(\n",
    "    [\n",
    "        [0, 1, 0],\n",
    "        [0, 0, 1]\n",
    "    ]\n",
    ")\n",
    "logit = tf.constant(\n",
    "    [\n",
    "        [0, 1, 0],\n",
    "        [1, 0, 1]\n",
    "    ]\n",
    ")\n",
    "ce_1 = tf.nn.sparse_softmax_cross_entropy_with_logits(logits=tf.cast(logit, tf.float32),\n",
    "                                                      labels=tf.cast(a, tf.int32))\n",
    "ce_2 = tf.nn.softmax_cross_entropy_with_logits_v2(logits=tf.cast(logit, tf.float32),\n",
    "                                                      labels=tf.cast(b, tf.float32))"
   ]
  },
  {
   "cell_type": "code",
   "execution_count": 57,
   "metadata": {},
   "outputs": [
    {
     "name": "stdout",
     "output_type": "stream",
     "text": [
      "[array([ 0.55144465,  0.8619948 ], dtype=float32), array([ 0.55144465,  0.8619948 ], dtype=float32)]\n"
     ]
    }
   ],
   "source": [
    "with tf.Session() as sess:\n",
    "    print(sess.run([ce_1, ce_2]))"
   ]
  },
  {
   "cell_type": "code",
   "execution_count": null,
   "metadata": {},
   "outputs": [],
   "source": []
  }
 ],
 "metadata": {
  "kernelspec": {
   "display_name": "Python3 (machine_learning)",
   "language": "python",
   "name": "machine_learning"
  },
  "language_info": {
   "codemirror_mode": {
    "name": "ipython",
    "version": 3
   },
   "file_extension": ".py",
   "mimetype": "text/x-python",
   "name": "python",
   "nbconvert_exporter": "python",
   "pygments_lexer": "ipython3",
   "version": "3.6.9"
  },
  "toc": {
   "base_numbering": 1,
   "nav_menu": {},
   "number_sections": true,
   "sideBar": true,
   "skip_h1_title": false,
   "title_cell": "Table of Contents",
   "title_sidebar": "Contents",
   "toc_cell": false,
   "toc_position": {},
   "toc_section_display": true,
   "toc_window_display": true
  }
 },
 "nbformat": 4,
 "nbformat_minor": 4
}
