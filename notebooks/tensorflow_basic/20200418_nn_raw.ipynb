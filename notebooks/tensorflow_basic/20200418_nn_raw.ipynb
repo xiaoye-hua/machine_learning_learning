{
 "cells": [
  {
   "cell_type": "markdown",
   "metadata": {},
   "source": [
    "低阶api： NN with two hidden layer"
   ]
  },
  {
   "cell_type": "markdown",
   "metadata": {},
   "source": [
    "# Module "
   ]
  },
  {
   "cell_type": "code",
   "execution_count": 2,
   "metadata": {},
   "outputs": [],
   "source": [
    "w"
   ]
  },
  {
   "cell_type": "markdown",
   "metadata": {},
   "source": [
    "# Config "
   ]
  },
  {
   "cell_type": "code",
   "execution_count": 17,
   "metadata": {},
   "outputs": [],
   "source": [
    "debug = True\n",
    "\n",
    "learning_rate = 0.01 \n",
    "epches = 100\n",
    "\n",
    "if debug:\n",
    "    total_batch = 10\n",
    "    batch_size = 2\n",
    "else:\n",
    "    batch_size = 100\n",
    "display_step = 5\n",
    "hiden_h1 = 256 # number of neurons for first layer\n",
    "hiden_h2 = 256 # number of neurons for second layer\n",
    "feature_num = 784 \n",
    "label_num = 10 # label num or num of neurons for third layer"
   ]
  },
  {
   "cell_type": "code",
   "execution_count": 18,
   "metadata": {},
   "outputs": [
    {
     "name": "stdout",
     "output_type": "stream",
     "text": [
      "Extracting /tmp/data/train-images-idx3-ubyte.gz\n",
      "Extracting /tmp/data/train-labels-idx1-ubyte.gz\n",
      "Extracting /tmp/data/t10k-images-idx3-ubyte.gz\n",
      "Extracting /tmp/data/t10k-labels-idx1-ubyte.gz\n"
     ]
    }
   ],
   "source": [
    "import tensorflow as tf\n",
    "\n",
    "# Import MINST data\n",
    "from tensorflow.examples.tutorials.mnist import input_data\n",
    "mnist = input_data.read_data_sets(\"/tmp/data/\", one_hot=True)\n",
    "if not debug:\n",
    "    total_batch = int(mnist.train.num_examples/batch_size)"
   ]
  },
  {
   "cell_type": "markdown",
   "metadata": {},
   "source": [
    "# Model "
   ]
  },
  {
   "cell_type": "markdown",
   "metadata": {},
   "source": [
    "## Input & output "
   ]
  },
  {
   "cell_type": "code",
   "execution_count": 19,
   "metadata": {},
   "outputs": [],
   "source": [
    "X = tf.placeholder(dtype=tf.float32, shape=[None, feature_num])\n",
    "y = tf.placeholder(dtype=tf.float32, shape=[None, label_num])"
   ]
  },
  {
   "cell_type": "code",
   "execution_count": 20,
   "metadata": {},
   "outputs": [],
   "source": [
    "weights = {\n",
    "    \"h1\": tf.Variable(tf.random_normal(shape=[feature_num, hiden_h1])),\n",
    "    \"h2\": tf.Variable(tf.random_normal(shape=[hiden_h1, hiden_h2])),\n",
    "    \"out\": tf.Variable(tf.random_normal(shape=[hiden_h2, label_num]))\n",
    "}\n",
    "bias = {\n",
    "    \"h1\": tf.Variable(tf.random_normal(shape=[hiden_h1])),\n",
    "    \"h2\": tf.Variable(tf.random_normal(shape=[hiden_h2])),\n",
    "    \"out\": tf.Variable(tf.random_normal(shape=[label_num]))\n",
    "}"
   ]
  },
  {
   "cell_type": "code",
   "execution_count": 21,
   "metadata": {},
   "outputs": [],
   "source": [
    "def neural_net(X):\n",
    "    layer1 = tf.add(tf.matmul(X, weights[\"h1\"]), bias[\"h1\"])\n",
    "    layer2 = tf.add(tf.matmul(layer1, weights[\"h2\"]), bias[\"h2\"])\n",
    "    logit = tf.add(tf.matmul(layer2, weights[\"out\"]), bias[\"out\"])\n",
    "    return logit"
   ]
  },
  {
   "cell_type": "code",
   "execution_count": 22,
   "metadata": {},
   "outputs": [],
   "source": [
    "logit = neural_net(X)\n",
    "cost = tf.reduce_mean(tf.nn.softmax_cross_entropy_with_logits_v2(logits=logit, labels=y))\n",
    "optimizer = tf.train.AdadeltaOptimizer(learning_rate=learning_rate).minimize(loss=cost)\n",
    "pred = tf.equal(tf.argmax(logit, 1), tf.argmax(y, 1))\n",
    "accuracy = tf.reduce_mean(tf.cast(pred, tf.float32))"
   ]
  },
  {
   "cell_type": "markdown",
   "metadata": {},
   "source": [
    "# Train "
   ]
  },
  {
   "cell_type": "code",
   "execution_count": 23,
   "metadata": {},
   "outputs": [
    {
     "name": "stdout",
     "output_type": "stream",
     "text": [
      "Epoch: 0\n",
      "Avg cost: 3071.6349975585936\n",
      "Accuracy : 0.14000000059604645\n",
      "Epoch: 5\n",
      "Avg cost: 4046.5864013671876\n",
      "Accuracy : 0.14000000059604645\n",
      "Epoch: 10\n",
      "Avg cost: 4166.774682617188\n",
      "Accuracy : 0.14000000059604645\n",
      "Epoch: 15\n",
      "Avg cost: 4029.1880615234377\n",
      "Accuracy : 0.14000000059604645\n",
      "Epoch: 20\n",
      "Avg cost: 2859.924920654297\n",
      "Accuracy : 0.14000000059604645\n",
      "Epoch: 25\n",
      "Avg cost: 5011.643408203125\n",
      "Accuracy : 0.14000000059604645\n",
      "Epoch: 30\n",
      "Avg cost: 3438.5487426757813\n",
      "Accuracy : 0.12999999523162842\n",
      "Epoch: 35\n",
      "Avg cost: 2323.828234863281\n",
      "Accuracy : 0.12999999523162842\n",
      "Epoch: 40\n",
      "Avg cost: 3097.9074096679688\n",
      "Accuracy : 0.12999999523162842\n",
      "Epoch: 45\n",
      "Avg cost: 3885.3549072265623\n",
      "Accuracy : 0.11999999731779099\n",
      "Epoch: 50\n",
      "Avg cost: 3217.105114746094\n",
      "Accuracy : 0.10999999940395355\n",
      "Epoch: 55\n",
      "Avg cost: 4105.142333984375\n",
      "Accuracy : 0.10999999940395355\n",
      "Epoch: 60\n",
      "Avg cost: 3252.9529663085937\n",
      "Accuracy : 0.10999999940395355\n",
      "Epoch: 65\n",
      "Avg cost: 3728.3274169921874\n",
      "Accuracy : 0.10999999940395355\n",
      "Epoch: 70\n",
      "Avg cost: 3615.718408203125\n",
      "Accuracy : 0.10999999940395355\n",
      "Epoch: 75\n",
      "Avg cost: 4018.1000915527343\n",
      "Accuracy : 0.10999999940395355\n",
      "Epoch: 80\n",
      "Avg cost: 3709.2519409179686\n",
      "Accuracy : 0.10999999940395355\n",
      "Epoch: 85\n",
      "Avg cost: 2913.7511291503906\n",
      "Accuracy : 0.10999999940395355\n",
      "Epoch: 90\n",
      "Avg cost: 3461.314892578125\n",
      "Accuracy : 0.10999999940395355\n",
      "Epoch: 95\n",
      "Avg cost: 2956.46044921875\n",
      "Accuracy : 0.10999999940395355\n"
     ]
    }
   ],
   "source": [
    "init = tf.global_variables_initializer()\n",
    "with tf.Session() as sess:\n",
    "    sess.run(init)\n",
    "    for epoch in range(epches):\n",
    "        total_cost = 0\n",
    "        for batch_idx in range(total_batch):\n",
    "        #             batch_x = train_x[batch_idx]\n",
    "        #             batch_y = train_y[batch_idx]\n",
    "            batch_x, batch_y = mnist.train.next_batch(batch_size)\n",
    "            _, c = sess.run([optimizer, cost], feed_dict={\n",
    "                    X:batch_x,\n",
    "                    y:batch_y\n",
    "                })\n",
    "            total_cost += c\n",
    "        avg_cost = total_cost/total_batch\n",
    "        if epoch % display_step == 0:\n",
    "            \n",
    "            print(f\"Epoch: {epoch}\")\n",
    "            print(f\"Avg cost: {avg_cost}\")\n",
    "            print(f\"Accuracy : {sess.run(accuracy, feed_dict={X:mnist.train.images[:100], y:mnist.train.labels[:100]})}\")"
   ]
  },
  {
   "cell_type": "code",
   "execution_count": 24,
   "metadata": {
    "scrolled": false
   },
   "outputs": [
    {
     "data": {
      "text/plain": [
       "<tf.Tensor 'Equal_22:0' shape=(?,) dtype=bool>"
      ]
     },
     "execution_count": 24,
     "metadata": {},
     "output_type": "execute_result"
    }
   ],
   "source": [
    "pred"
   ]
  },
  {
   "cell_type": "code",
   "execution_count": 45,
   "metadata": {},
   "outputs": [
    {
     "data": {
      "text/plain": [
       "<tf.Tensor 'Placeholder_1:0' shape=(?, 10) dtype=float32>"
      ]
     },
     "execution_count": 45,
     "metadata": {},
     "output_type": "execute_result"
    }
   ],
   "source": [
    "y"
   ]
  },
  {
   "cell_type": "code",
   "execution_count": null,
   "metadata": {},
   "outputs": [],
   "source": []
  }
 ],
 "metadata": {
  "kernelspec": {
   "display_name": "Python3 (machine_learning)",
   "language": "python",
   "name": "machine_learning"
  },
  "language_info": {
   "codemirror_mode": {
    "name": "ipython",
    "version": 3
   },
   "file_extension": ".py",
   "mimetype": "text/x-python",
   "name": "python",
   "nbconvert_exporter": "python",
   "pygments_lexer": "ipython3",
   "version": "3.6.9"
  },
  "toc": {
   "base_numbering": 1,
   "nav_menu": {},
   "number_sections": true,
   "sideBar": true,
   "skip_h1_title": false,
   "title_cell": "Table of Contents",
   "title_sidebar": "Contents",
   "toc_cell": false,
   "toc_position": {},
   "toc_section_display": true,
   "toc_window_display": true
  }
 },
 "nbformat": 4,
 "nbformat_minor": 4
}
