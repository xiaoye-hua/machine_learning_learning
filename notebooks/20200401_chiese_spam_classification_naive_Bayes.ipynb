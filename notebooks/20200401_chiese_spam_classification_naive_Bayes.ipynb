{
 "cells": [
  {
   "cell_type": "markdown",
   "metadata": {},
   "source": [
    "**INTRODUCTION**\n",
    "\n",
    "Hi, in this notebook, I'll just doing exercise of using nltk and naive bayes classification algorithm to do a *very simple Spam/Ham* Classification from SMS dataset from UCI"
   ]
  },
  {
   "cell_type": "markdown",
   "metadata": {},
   "source": [
    "# Module "
   ]
  },
  {
   "cell_type": "code",
   "execution_count": 77,
   "metadata": {
    "_cell_guid": "4be8fca1-a4f6-4f4a-88ff-1539b19cafca",
    "_uuid": "eb55af3fcca73ac0a07e2ecd8709e36bcc17fc78"
   },
   "outputs": [],
   "source": [
    "# import nltk\n",
    "# nltk.download(\"stopwords\")\n",
    "# from nltk.corpus import stopwords\n",
    "import jieba\n",
    "import string\n",
    "import os\n",
    "import pandas as pd\n",
    "import numpy as np\n",
    "\n",
    "from sklearn.model_selection import train_test_split\n",
    "from sklearn.pipeline import Pipeline\n",
    "from sklearn.feature_extraction.text import CountVectorizer\n",
    "from sklearn.feature_extraction.text import TfidfTransformer\n",
    "from sklearn.naive_bayes import MultinomialNB\n",
    "from sklearn.metrics import classification_report,confusion_matrix\n",
    "from sklearn.externals import joblib\n",
    "import matplotlib.pyplot as plt\n",
    "%matplotlib inline"
   ]
  },
  {
   "cell_type": "markdown",
   "metadata": {},
   "source": [
    "# Config "
   ]
  },
  {
   "cell_type": "code",
   "execution_count": 78,
   "metadata": {},
   "outputs": [],
   "source": [
    "debug = False\n",
    "debug_len = 1000\n",
    "data_file = \"../data/nlp_data/raw_0302.csv\"\n",
    "model_dir = \"../model_finished/\"\n",
    "model_file = \"model.pkl\""
   ]
  },
  {
   "cell_type": "markdown",
   "metadata": {},
   "source": [
    "# Data Preparation"
   ]
  },
  {
   "cell_type": "code",
   "execution_count": 3,
   "metadata": {},
   "outputs": [],
   "source": [
    "df = pd.read_csv(data_file, header=None, sep=\"\\x01\")\n",
    "df.columns = [\"text\", \"class\"]"
   ]
  },
  {
   "cell_type": "code",
   "execution_count": 4,
   "metadata": {},
   "outputs": [],
   "source": [
    "if debug:\n",
    "    df = df.sample(debug_len)"
   ]
  },
  {
   "cell_type": "code",
   "execution_count": 5,
   "metadata": {
    "_cell_guid": "5c541708-35c5-4460-a351-46032fc219e8",
    "_uuid": "125b4774c58068557499363295e50e7d79ce9dc5"
   },
   "outputs": [
    {
     "data": {
      "text/html": [
       "<div>\n",
       "<style scoped>\n",
       "    .dataframe tbody tr th:only-of-type {\n",
       "        vertical-align: middle;\n",
       "    }\n",
       "\n",
       "    .dataframe tbody tr th {\n",
       "        vertical-align: top;\n",
       "    }\n",
       "\n",
       "    .dataframe thead tr th {\n",
       "        text-align: left;\n",
       "    }\n",
       "\n",
       "    .dataframe thead tr:last-of-type th {\n",
       "        text-align: right;\n",
       "    }\n",
       "</style>\n",
       "<table border=\"1\" class=\"dataframe\">\n",
       "  <thead>\n",
       "    <tr>\n",
       "      <th></th>\n",
       "      <th colspan=\"4\" halign=\"left\">text</th>\n",
       "    </tr>\n",
       "    <tr>\n",
       "      <th></th>\n",
       "      <th>count</th>\n",
       "      <th>unique</th>\n",
       "      <th>top</th>\n",
       "      <th>freq</th>\n",
       "    </tr>\n",
       "    <tr>\n",
       "      <th>class</th>\n",
       "      <th></th>\n",
       "      <th></th>\n",
       "      <th></th>\n",
       "      <th></th>\n",
       "    </tr>\n",
       "  </thead>\n",
       "  <tbody>\n",
       "    <tr>\n",
       "      <th>0</th>\n",
       "      <td>150759</td>\n",
       "      <td>150744</td>\n",
       "      <td>兄弟开啤酒的时间到了，最上面的直播间就是官方直播间@吃成胖子还要吃</td>\n",
       "      <td>2</td>\n",
       "    </tr>\n",
       "    <tr>\n",
       "      <th>1</th>\n",
       "      <td>173355</td>\n",
       "      <td>170309</td>\n",
       "      <td>长期回购游戏币，100万600元，50万300元，您有金币，我们都要，加QQ1356796641</td>\n",
       "      <td>4</td>\n",
       "    </tr>\n",
       "  </tbody>\n",
       "</table>\n",
       "</div>"
      ],
      "text/plain": [
       "         text                                                               \n",
       "        count  unique                                               top freq\n",
       "class                                                                       \n",
       "0      150759  150744                 兄弟开啤酒的时间到了，最上面的直播间就是官方直播间@吃成胖子还要吃    2\n",
       "1      173355  170309  长期回购游戏币，100万600元，50万300元，您有金币，我们都要，加QQ1356796641    4"
      ]
     },
     "execution_count": 5,
     "metadata": {},
     "output_type": "execute_result"
    }
   ],
   "source": [
    "df.groupby(\"class\").describe()"
   ]
  },
  {
   "cell_type": "code",
   "execution_count": 6,
   "metadata": {
    "_cell_guid": "1d86cb88-4ea5-497a-96af-245984946265",
    "_uuid": "cbd68ec903cf7c437c885b69993cab8dec61503c"
   },
   "outputs": [],
   "source": [
    "df['length'] = df[\"text\"].apply(str).apply(len)"
   ]
  },
  {
   "cell_type": "code",
   "execution_count": 7,
   "metadata": {
    "_cell_guid": "4da1b849-61f1-4963-bd36-1c306534a0e0",
    "_uuid": "961442d7f56de1058a0fd825683939c618030ed8"
   },
   "outputs": [
    {
     "data": {
      "text/plain": [
       "array([<matplotlib.axes._subplots.AxesSubplot object at 0x7f9dbc1c3780>,\n",
       "       <matplotlib.axes._subplots.AxesSubplot object at 0x7f9dbbc92a58>],\n",
       "      dtype=object)"
      ]
     },
     "execution_count": 7,
     "metadata": {},
     "output_type": "execute_result"
    },
    {
     "data": {
      "image/png": "[encoded data removed]",
      "text/plain": [
       "<Figure size 1080x432 with 2 Axes>"
      ]
     },
     "metadata": {
      "needs_background": "light"
     },
     "output_type": "display_data"
    }
   ],
   "source": [
    "df.hist(column='length',by='class',bins=50, figsize=(15,6))"
   ]
  },
  {
   "cell_type": "markdown",
   "metadata": {
    "_cell_guid": "7f3b73e5-2bc6-4a3f-8e63-b78b82ccf3d0",
    "_uuid": "467cc69f5be1d9758b549c4af5265d981e6d6dca"
   },
   "source": [
    "## CREATE TOKENIZER"
   ]
  },
  {
   "cell_type": "code",
   "execution_count": 11,
   "metadata": {
    "_cell_guid": "d10b73f4-e10c-422b-ad4b-74c6037675a4",
    "_uuid": "2070cd8a789e028dd3417798dd61a6454d990ea5"
   },
   "outputs": [],
   "source": [
    "def process_text(text):\n",
    "    '''\n",
    "    What will be covered:\n",
    "    1. Remove punctuation\n",
    "    2. Remove stopwords\n",
    "    3. Return list of clean text words\n",
    "    '''\n",
    "    clean_words = jieba.lcut(str(text))\n",
    "#     #1\n",
    "#     nopunc = [char for char in text if char not in string.punctuation]\n",
    "#     nopunc = ''.join(nopunc)\n",
    "    \n",
    "#     #2\n",
    "#     clean_words = [word for word in nopunc.split() if word.lower() not in stopwords.words('english')]\n",
    "    \n",
    "    #3\n",
    "    return clean_words"
   ]
  },
  {
   "cell_type": "markdown",
   "metadata": {},
   "source": [
    "let's check what above code will produce"
   ]
  },
  {
   "cell_type": "code",
   "execution_count": 12,
   "metadata": {
    "_cell_guid": "fb3d6f64-3e17-4baa-ab5e-730044d7b8c6",
    "_uuid": "d80940a32545d93ec1e36fabcc46a174ace0ace9"
   },
   "outputs": [
    {
     "name": "stderr",
     "output_type": "stream",
     "text": [
      "Building prefix dict from the default dictionary ...\n",
      "Loading model from cache /tmp/jieba.cache\n",
      "Loading model cost 0.700 seconds.\n",
      "Prefix dict has been built successfully.\n"
     ]
    },
    {
     "data": {
      "text/plain": [
       "0    [朵朵, 琻, 行, 。, 专业, 24, 小时, 上下, 分, ，, 誠实, 第一,  ,...\n",
       "1                   [这, 人, 有意思, ，, 不, 认识, ，, 请, 我, 打团]\n",
       "2    [你好, ，, 回购, 出賣, 琻, 币, ，, 价, ge, 合适, ，, 免费, 蒩, ...\n",
       "3    [全网, 价格, 最合, shi,  , 収, 出, 琻, 币,  , 出,  , 組, 满...\n",
       "4    [在, 吗, shuai, 哥, 我, 是, 正规, 工作室, 负责, 琻, 碧, 上下, ...\n",
       "Name: text, dtype: object"
      ]
     },
     "execution_count": 12,
     "metadata": {},
     "output_type": "execute_result"
    }
   ],
   "source": [
    "df['text'].head().apply(process_text)"
   ]
  },
  {
   "cell_type": "markdown",
   "metadata": {},
   "source": [
    "## SPLITTING DATASET"
   ]
  },
  {
   "cell_type": "code",
   "execution_count": 13,
   "metadata": {},
   "outputs": [],
   "source": [
    "messages = df"
   ]
  },
  {
   "cell_type": "code",
   "execution_count": 14,
   "metadata": {},
   "outputs": [
    {
     "name": "stdout",
     "output_type": "stream",
     "text": [
      "<class 'pandas.core.frame.DataFrame'>\n",
      "RangeIndex: 324115 entries, 0 to 324114\n",
      "Data columns (total 3 columns):\n",
      "text      324114 non-null object\n",
      "class     324115 non-null int64\n",
      "length    324115 non-null int64\n",
      "dtypes: int64(2), object(1)\n",
      "memory usage: 7.4+ MB\n"
     ]
    }
   ],
   "source": [
    "messages.info()"
   ]
  },
  {
   "cell_type": "code",
   "execution_count": 15,
   "metadata": {},
   "outputs": [],
   "source": [
    "msg_train, msg_test, class_train, class_test = train_test_split(messages['text'],messages['class'],test_size=0.2)"
   ]
  },
  {
   "cell_type": "code",
   "execution_count": 16,
   "metadata": {},
   "outputs": [
    {
     "data": {
      "text/plain": [
       "259292"
      ]
     },
     "execution_count": 16,
     "metadata": {},
     "output_type": "execute_result"
    }
   ],
   "source": [
    "len(msg_train)"
   ]
  },
  {
   "cell_type": "code",
   "execution_count": 17,
   "metadata": {},
   "outputs": [
    {
     "data": {
      "text/plain": [
       "64823"
      ]
     },
     "execution_count": 17,
     "metadata": {},
     "output_type": "execute_result"
    }
   ],
   "source": [
    "len(msg_test)"
   ]
  },
  {
   "cell_type": "code",
   "execution_count": 18,
   "metadata": {
    "scrolled": true
   },
   "outputs": [
    {
     "data": {
      "text/plain": [
       "248447                                               本钱就不错了\n",
       "172856    您好,我是正规工作室，负责琻碧上下分!15万JJ豆=100出兽;⑵4万JJ豆=100回収!实...\n",
       "161617                                         @〖元老〗 你干嘛打宝宝\n",
       "256830                                         花姐姐不要生气我去楼下了\n",
       "167934                                             不看着牌出老记错\n",
       "Name: text, dtype: object"
      ]
     },
     "execution_count": 18,
     "metadata": {},
     "output_type": "execute_result"
    }
   ],
   "source": [
    "msg_train.head()"
   ]
  },
  {
   "cell_type": "code",
   "execution_count": 19,
   "metadata": {},
   "outputs": [
    {
     "data": {
      "text/plain": [
       "248447    0\n",
       "172856    1\n",
       "161617    0\n",
       "256830    0\n",
       "167934    0\n",
       "Name: class, dtype: int64"
      ]
     },
     "execution_count": 19,
     "metadata": {},
     "output_type": "execute_result"
    }
   ],
   "source": [
    "class_train.head()"
   ]
  },
  {
   "cell_type": "markdown",
   "metadata": {},
   "source": [
    "# Pipeline\n",
    "\n",
    "wait, we've just created the tokenizer isn't it? let the pipeline do the rest."
   ]
  },
  {
   "cell_type": "markdown",
   "metadata": {
    "_cell_guid": "23bb61f8-1ddd-4091-bda3-48b036d93ffe",
    "_uuid": "d477922c1856520ed1a7e3cb2e38b6690af4d080"
   },
   "source": [
    "**PART 5: MODEL CREATION**\n",
    "\n",
    "here I'll just use pipeline in order to minimize effort on doing preprocessing, transforming then training data on both training dataset and test dataset. Using pipeline will handle them all in a few lines of codes."
   ]
  },
  {
   "cell_type": "code",
   "execution_count": 20,
   "metadata": {},
   "outputs": [],
   "source": [
    "pipeline = Pipeline([\n",
    "    ('bow',CountVectorizer(analyzer=process_text)), # converts strings to integer counts\n",
    "    ('tfidf',TfidfTransformer()), # converts integer counts to weighted TF-IDF scores\n",
    "    ('classifier',MultinomialNB()) # train on TF-IDF vectors with Naive Bayes classifier\n",
    "])"
   ]
  },
  {
   "cell_type": "markdown",
   "metadata": {},
   "source": [
    "**PART 6: TESTING**"
   ]
  },
  {
   "cell_type": "code",
   "execution_count": 21,
   "metadata": {},
   "outputs": [
    {
     "data": {
      "text/plain": [
       "Pipeline(memory=None,\n",
       "     steps=[('bow', CountVectorizer(analyzer=<function process_text at 0x7f9db6e3af28>,\n",
       "        binary=False, decode_error='strict', dtype=<class 'numpy.int64'>,\n",
       "        encoding='utf-8', input='content', lowercase=True, max_df=1.0,\n",
       "        max_features=None, min_df=1, ngram_range=(1, 1), preprocessor=No...f=False, use_idf=True)), ('classifier', MultinomialNB(alpha=1.0, class_prior=None, fit_prior=True))])"
      ]
     },
     "execution_count": 21,
     "metadata": {},
     "output_type": "execute_result"
    }
   ],
   "source": [
    "pipeline.fit(msg_train,class_train)"
   ]
  },
  {
   "cell_type": "markdown",
   "metadata": {},
   "source": [
    "# Evaluation "
   ]
  },
  {
   "cell_type": "code",
   "execution_count": 58,
   "metadata": {},
   "outputs": [
    {
     "name": "stdout",
     "output_type": "stream",
     "text": [
      "             precision    recall  f1-score   support\n",
      "\n",
      "          0       1.00      0.98      0.99     30061\n",
      "          1       0.98      1.00      0.99     34762\n",
      "\n",
      "avg / total       0.99      0.99      0.99     64823\n",
      "\n"
     ]
    }
   ],
   "source": [
    "predictions = pipeline.predict(msg_test)\n",
    "print(classification_report(class_test,predictions))"
   ]
  },
  {
   "cell_type": "code",
   "execution_count": 24,
   "metadata": {},
   "outputs": [
    {
     "data": {
      "text/plain": [
       "<matplotlib.axes._subplots.AxesSubplot at 0x7f9daff1b208>"
      ]
     },
     "execution_count": 24,
     "metadata": {},
     "output_type": "execute_result"
    },
    {
     "data": {
      "image/png": "[encoded data removed]",
      "text/plain": [
       "<Figure size 432x288 with 2 Axes>"
      ]
     },
     "metadata": {
      "needs_background": "light"
     },
     "output_type": "display_data"
    }
   ],
   "source": [
    "import seaborn as sns\n",
    "sns.heatmap(confusion_matrix(class_test,predictions),annot=True)"
   ]
  },
  {
   "cell_type": "markdown",
   "metadata": {},
   "source": [
    "**Notes:**\n",
    "* we got fairly high but not good enough prediction result here, maybe if the dataset gets higher, maybe naive bayes will do its work better\n",
    "\n",
    "thanks :)"
   ]
  },
  {
   "cell_type": "markdown",
   "metadata": {},
   "source": [
    "## Eval data "
   ]
  },
  {
   "cell_type": "code",
   "execution_count": 31,
   "metadata": {},
   "outputs": [],
   "source": [
    "eval_df = pd.read_csv(\"../data/nlp_data/haitun_spam_result_0331.csv\", \n",
    "#                       sep=\"\\x01\",\n",
    "#                       header=None\n",
    "                     )"
   ]
  },
  {
   "cell_type": "code",
   "execution_count": 32,
   "metadata": {},
   "outputs": [
    {
     "data": {
      "text/html": [
       "<div>\n",
       "<style scoped>\n",
       "    .dataframe tbody tr th:only-of-type {\n",
       "        vertical-align: middle;\n",
       "    }\n",
       "\n",
       "    .dataframe tbody tr th {\n",
       "        vertical-align: top;\n",
       "    }\n",
       "\n",
       "    .dataframe thead th {\n",
       "        text-align: right;\n",
       "    }\n",
       "</style>\n",
       "<table border=\"1\" class=\"dataframe\">\n",
       "  <thead>\n",
       "    <tr style=\"text-align: right;\">\n",
       "      <th></th>\n",
       "      <th>content</th>\n",
       "      <th>prob</th>\n",
       "      <th>real_label</th>\n",
       "    </tr>\n",
       "  </thead>\n",
       "  <tbody>\n",
       "    <tr>\n",
       "      <th>0</th>\n",
       "      <td>?</td>\n",
       "      <td>90</td>\n",
       "      <td>1</td>\n",
       "    </tr>\n",
       "    <tr>\n",
       "      <th>1</th>\n",
       "      <td>★</td>\n",
       "      <td>90</td>\n",
       "      <td>1</td>\n",
       "    </tr>\n",
       "    <tr>\n",
       "      <th>2</th>\n",
       "      <td>?</td>\n",
       "      <td>90</td>\n",
       "      <td>1</td>\n",
       "    </tr>\n",
       "    <tr>\n",
       "      <th>3</th>\n",
       "      <td>Ｋ</td>\n",
       "      <td>90</td>\n",
       "      <td>1</td>\n",
       "    </tr>\n",
       "    <tr>\n",
       "      <th>4</th>\n",
       "      <td>?</td>\n",
       "      <td>90</td>\n",
       "      <td>1</td>\n",
       "    </tr>\n",
       "  </tbody>\n",
       "</table>\n",
       "</div>"
      ],
      "text/plain": [
       "  content  prob  real_label\n",
       "0       ?    90           1\n",
       "1       ★    90           1\n",
       "2       ?    90           1\n",
       "3       Ｋ    90           1\n",
       "4       ?    90           1"
      ]
     },
     "execution_count": 32,
     "metadata": {},
     "output_type": "execute_result"
    }
   ],
   "source": [
    "eval_df.head()"
   ]
  },
  {
   "cell_type": "code",
   "execution_count": 33,
   "metadata": {},
   "outputs": [],
   "source": [
    "eval_df[\"length\"] = eval_df[\"content\"].apply(len)"
   ]
  },
  {
   "cell_type": "code",
   "execution_count": 34,
   "metadata": {},
   "outputs": [],
   "source": [
    "eval_df = eval_df[eval_df[\"length\"] > 5]"
   ]
  },
  {
   "cell_type": "code",
   "execution_count": 35,
   "metadata": {},
   "outputs": [
    {
     "name": "stdout",
     "output_type": "stream",
     "text": [
      "<class 'pandas.core.frame.DataFrame'>\n",
      "Int64Index: 1052745 entries, 11999 to 1064743\n",
      "Data columns (total 4 columns):\n",
      "content       1052745 non-null object\n",
      "prob          1052745 non-null int64\n",
      "real_label    1052745 non-null int64\n",
      "length        1052745 non-null int64\n",
      "dtypes: int64(3), object(1)\n",
      "memory usage: 40.2+ MB\n"
     ]
    }
   ],
   "source": [
    "eval_df.info()"
   ]
  },
  {
   "cell_type": "code",
   "execution_count": 36,
   "metadata": {},
   "outputs": [
    {
     "name": "stdout",
     "output_type": "stream",
     "text": [
      "             precision    recall  f1-score   support\n",
      "\n",
      "          0       0.00      0.00      0.00         0\n",
      "          1       1.00      0.97      0.99   1052745\n",
      "\n",
      "avg / total       1.00      0.97      0.99   1052745\n",
      "\n"
     ]
    },
    {
     "name": "stderr",
     "output_type": "stream",
     "text": [
      "/home/guohua/.local/lib/python3.6/site-packages/sklearn/metrics/classification.py:1137: UndefinedMetricWarning: Recall and F-score are ill-defined and being set to 0.0 in labels with no true samples.\n",
      "  'recall', 'true', average, warn_for)\n"
     ]
    }
   ],
   "source": [
    "predictions = pipeline.predict(eval_df[\"content\"])\n",
    "print(classification_report(eval_df[\"real_label\"],predictions))"
   ]
  },
  {
   "cell_type": "code",
   "execution_count": 38,
   "metadata": {},
   "outputs": [
    {
     "data": {
      "text/plain": [
       "1052745"
      ]
     },
     "execution_count": 38,
     "metadata": {},
     "output_type": "execute_result"
    }
   ],
   "source": [
    "len(predictions)"
   ]
  },
  {
   "cell_type": "code",
   "execution_count": 39,
   "metadata": {},
   "outputs": [
    {
     "data": {
      "text/plain": [
       "1021790"
      ]
     },
     "execution_count": 39,
     "metadata": {},
     "output_type": "execute_result"
    }
   ],
   "source": [
    "sum(predictions)"
   ]
  },
  {
   "cell_type": "code",
   "execution_count": 41,
   "metadata": {},
   "outputs": [
    {
     "data": {
      "text/html": [
       "<div>\n",
       "<style scoped>\n",
       "    .dataframe tbody tr th:only-of-type {\n",
       "        vertical-align: middle;\n",
       "    }\n",
       "\n",
       "    .dataframe tbody tr th {\n",
       "        vertical-align: top;\n",
       "    }\n",
       "\n",
       "    .dataframe thead th {\n",
       "        text-align: right;\n",
       "    }\n",
       "</style>\n",
       "<table border=\"1\" class=\"dataframe\">\n",
       "  <thead>\n",
       "    <tr style=\"text-align: right;\">\n",
       "      <th></th>\n",
       "      <th>content</th>\n",
       "      <th>prob</th>\n",
       "      <th>real_label</th>\n",
       "      <th>length</th>\n",
       "    </tr>\n",
       "  </thead>\n",
       "  <tbody>\n",
       "    <tr>\n",
       "      <th>355316</th>\n",
       "      <td>我们zhi保证最真交.易，无论上.下.分多大量，上.分让您拿到琻</td>\n",
       "      <td>90</td>\n",
       "      <td>1</td>\n",
       "      <td>33</td>\n",
       "    </tr>\n",
       "    <tr>\n",
       "      <th>368608</th>\n",
       "      <td>长期出琻bi 出蒩满级捕鱼号 手机/威信：①863①4⑨⑤89⑦</td>\n",
       "      <td>90</td>\n",
       "      <td>1</td>\n",
       "      <td>33</td>\n",
       "    </tr>\n",
       "    <tr>\n",
       "      <th>116763</th>\n",
       "      <td>在线，详情添加手机薇信同号13868794079</td>\n",
       "      <td>90</td>\n",
       "      <td>1</td>\n",
       "      <td>25</td>\n",
       "    </tr>\n",
       "    <tr>\n",
       "      <th>278261</th>\n",
       "      <td>蒩収捕鱼hao，琻豆8-15W100员，薇信XXR666661</td>\n",
       "      <td>90</td>\n",
       "      <td>1</td>\n",
       "      <td>32</td>\n",
       "    </tr>\n",
       "    <tr>\n",
       "      <th>743117</th>\n",
       "      <td>bu鱼shang下芬:上芬16万琻币100,下芬20万琻币100..介绍朋友蒩</td>\n",
       "      <td>90</td>\n",
       "      <td>1</td>\n",
       "      <td>40</td>\n",
       "    </tr>\n",
       "    <tr>\n",
       "      <th>956944</th>\n",
       "      <td>长期提供组号丅F.咨询威+ 18692972722;高架回手经典42以上炮台.千炮8000...</td>\n",
       "      <td>90</td>\n",
       "      <td>1</td>\n",
       "      <td>62</td>\n",
       "    </tr>\n",
       "    <tr>\n",
       "      <th>1015570</th>\n",
       "      <td>chang期提供组号丄丅F.咨询威+ 18692972722;高架回手经典42以上炮台.千...</td>\n",
       "      <td>90</td>\n",
       "      <td>1</td>\n",
       "      <td>67</td>\n",
       "    </tr>\n",
       "    <tr>\n",
       "      <th>815215</th>\n",
       "      <td>chang期蒩鱼炮上xai分业务绝对安全可靠咨询威X+xx17674022115</td>\n",
       "      <td>90</td>\n",
       "      <td>1</td>\n",
       "      <td>41</td>\n",
       "    </tr>\n",
       "    <tr>\n",
       "      <th>499104</th>\n",
       "      <td>长期合作优惠！威信⒈3001158982.此宣传小号不回复，请加威信</td>\n",
       "      <td>90</td>\n",
       "      <td>1</td>\n",
       "      <td>35</td>\n",
       "    </tr>\n",
       "    <tr>\n",
       "      <th>159869</th>\n",
       "      <td>要的老板可以加我威x:155③21③3①06（同手机）</td>\n",
       "      <td>90</td>\n",
       "      <td>1</td>\n",
       "      <td>28</td>\n",
       "    </tr>\n",
       "    <tr>\n",
       "      <th>824009</th>\n",
       "      <td>収经典42-46，千炮7500-9000。需要长期合.作请添加威信 JD44421</td>\n",
       "      <td>90</td>\n",
       "      <td>1</td>\n",
       "      <td>42</td>\n",
       "    </tr>\n",
       "    <tr>\n",
       "      <th>990946</th>\n",
       "      <td>长qi提供组号丄丅枌.咨询威+ 18692972722;高架回手经典42以上炮台.千炮80...</td>\n",
       "      <td>90</td>\n",
       "      <td>1</td>\n",
       "      <td>64</td>\n",
       "    </tr>\n",
       "    <tr>\n",
       "      <th>726438</th>\n",
       "      <td>您好，本店专业丄丅fen!上100=1⑹w下100=22w（组号.zu炮）长期</td>\n",
       "      <td>90</td>\n",
       "      <td>1</td>\n",
       "      <td>40</td>\n",
       "    </tr>\n",
       "    <tr>\n",
       "      <th>68030</th>\n",
       "      <td>满级鱼炮chu蒩，如有打扰敬请原谅</td>\n",
       "      <td>90</td>\n",
       "      <td>1</td>\n",
       "      <td>18</td>\n",
       "    </tr>\n",
       "    <tr>\n",
       "      <th>526677</th>\n",
       "      <td>你hao 収賣琻币 童叟无欺 出蒩鱼炮 加威信⒈⒏3⒉9⒋51606</td>\n",
       "      <td>90</td>\n",
       "      <td>1</td>\n",
       "      <td>35</td>\n",
       "    </tr>\n",
       "    <tr>\n",
       "      <th>450321</th>\n",
       "      <td>你好，収賣币，免费蒩捕鱼炮，収収鱼炮,威信 ⒈⒊238279185</td>\n",
       "      <td>90</td>\n",
       "      <td>1</td>\n",
       "      <td>34</td>\n",
       "    </tr>\n",
       "    <tr>\n",
       "      <th>831353</th>\n",
       "      <td>chang期蒩鱼炮丄丅fen业务绝对安全可靠 咨询威X+xx17670915892</td>\n",
       "      <td>90</td>\n",
       "      <td>1</td>\n",
       "      <td>42</td>\n",
       "    </tr>\n",
       "    <tr>\n",
       "      <th>740564</th>\n",
       "      <td>千炮bu鱼shang下纷:上纷13万琻币100,下纷14万琻币100.电话威信</td>\n",
       "      <td>90</td>\n",
       "      <td>1</td>\n",
       "      <td>40</td>\n",
       "    </tr>\n",
       "    <tr>\n",
       "      <th>866168</th>\n",
       "      <td>chang期蒩鱼炮丄丅fen业务绝对安全可靠 咨询威X+ xx17670915892</td>\n",
       "      <td>90</td>\n",
       "      <td>1</td>\n",
       "      <td>43</td>\n",
       "    </tr>\n",
       "    <tr>\n",
       "      <th>761686</th>\n",
       "      <td>长期蒩鱼炮 丄丅fen业务 绝对安全可靠 咨询 威 + jj321520123</td>\n",
       "      <td>90</td>\n",
       "      <td>1</td>\n",
       "      <td>40</td>\n",
       "    </tr>\n",
       "    <tr>\n",
       "      <th>518003</th>\n",
       "      <td>nin好,我是JJ商家,长期収出JJ琻币,（免费出蒩捕鱼满级炮）出蒩</td>\n",
       "      <td>90</td>\n",
       "      <td>1</td>\n",
       "      <td>35</td>\n",
       "    </tr>\n",
       "    <tr>\n",
       "      <th>983566</th>\n",
       "      <td>lin琳）5年老店，24小時在線！上份：10万=100，下份：①1万=100，满级鱼炮免费...</td>\n",
       "      <td>90</td>\n",
       "      <td>1</td>\n",
       "      <td>64</td>\n",
       "    </tr>\n",
       "    <tr>\n",
       "      <th>17511</th>\n",
       "      <td>你喜欢打鱼吗?</td>\n",
       "      <td>90</td>\n",
       "      <td>1</td>\n",
       "      <td>8</td>\n",
       "    </tr>\n",
       "    <tr>\n",
       "      <th>264342</th>\n",
       "      <td>，下.分让您拿到銭，我们坚信只有信誉才能做的更久更大。高.價</td>\n",
       "      <td>90</td>\n",
       "      <td>1</td>\n",
       "      <td>31</td>\n",
       "    </tr>\n",
       "    <tr>\n",
       "      <th>475771</th>\n",
       "      <td>丅分100-15 威信： xingchen8885 海豚不回复消息！</td>\n",
       "      <td>90</td>\n",
       "      <td>1</td>\n",
       "      <td>35</td>\n",
       "    </tr>\n",
       "    <tr>\n",
       "      <th>1058508</th>\n",
       "      <td>（船长）七年老店，以信立命！上份：13万=100，下份：15万=100，实名认证，jiao...</td>\n",
       "      <td>90</td>\n",
       "      <td>1</td>\n",
       "      <td>87</td>\n",
       "    </tr>\n",
       "    <tr>\n",
       "      <th>651511</th>\n",
       "      <td>琻 币 回 収、捕鱼账号回収加威信182 3107 1586八年老店，信誉</td>\n",
       "      <td>90</td>\n",
       "      <td>1</td>\n",
       "      <td>38</td>\n",
       "    </tr>\n",
       "    <tr>\n",
       "      <th>809114</th>\n",
       "      <td>您好，本店专ye丄丅fen!上100=16w下100=②2w（组号.zu炮）长期</td>\n",
       "      <td>90</td>\n",
       "      <td>1</td>\n",
       "      <td>41</td>\n",
       "    </tr>\n",
       "    <tr>\n",
       "      <th>803139</th>\n",
       "      <td>您好，本店zhuan业丄丅fen!上100=⑴⑹w下100=⑵2w（组号.zu炮</td>\n",
       "      <td>90</td>\n",
       "      <td>1</td>\n",
       "      <td>41</td>\n",
       "    </tr>\n",
       "    <tr>\n",
       "      <th>137303</th>\n",
       "      <td>天在线，详情添加手机薇信同号13868794079</td>\n",
       "      <td>90</td>\n",
       "      <td>1</td>\n",
       "      <td>26</td>\n",
       "    </tr>\n",
       "    <tr>\n",
       "      <th>389168</th>\n",
       "      <td>的老板可以加我威x了解下 威x：1⑤532①③3106（同手机）</td>\n",
       "      <td>90</td>\n",
       "      <td>1</td>\n",
       "      <td>33</td>\n",
       "    </tr>\n",
       "    <tr>\n",
       "      <th>544934</th>\n",
       "      <td>ni好，収賣琻币，免费蒩捕鱼炮，収収鱼炮,威信 13⑵3827918⑸</td>\n",
       "      <td>90</td>\n",
       "      <td>1</td>\n",
       "      <td>36</td>\n",
       "    </tr>\n",
       "    <tr>\n",
       "      <th>623206</th>\n",
       "      <td>最低差價chu蒩经典千炮顶级鱼炮 出蒩鱼炮免税 加 威x kkhy945</td>\n",
       "      <td>90</td>\n",
       "      <td>1</td>\n",
       "      <td>37</td>\n",
       "    </tr>\n",
       "    <tr>\n",
       "      <th>76731</th>\n",
       "      <td>qianpao 7000--9000</td>\n",
       "      <td>90</td>\n",
       "      <td>1</td>\n",
       "      <td>19</td>\n",
       "    </tr>\n",
       "    <tr>\n",
       "      <th>833706</th>\n",
       "      <td>chang期族号 丄丅 份业务 决对安全可靠 咨询 威+ x15587426218</td>\n",
       "      <td>90</td>\n",
       "      <td>1</td>\n",
       "      <td>42</td>\n",
       "    </tr>\n",
       "    <tr>\n",
       "      <th>1001305</th>\n",
       "      <td>长期提供组号丄丅枌.咨xun威+ 18692972722;高架回手经典42以上炮台.千炮8...</td>\n",
       "      <td>90</td>\n",
       "      <td>1</td>\n",
       "      <td>65</td>\n",
       "    </tr>\n",
       "    <tr>\n",
       "      <th>61167</th>\n",
       "      <td>⑺63⑷⑺⑼5 &lt;2⑷小时营业&gt;</td>\n",
       "      <td>90</td>\n",
       "      <td>1</td>\n",
       "      <td>17</td>\n",
       "    </tr>\n",
       "    <tr>\n",
       "      <th>115799</th>\n",
       "      <td>在线，详情添加手机薇信同号13868794079</td>\n",
       "      <td>90</td>\n",
       "      <td>1</td>\n",
       "      <td>25</td>\n",
       "    </tr>\n",
       "    <tr>\n",
       "      <th>997249</th>\n",
       "      <td>琳琳）5nian老店，24小時在線！上份：10万=100，下份：11万=100，满级鱼炮免...</td>\n",
       "      <td>90</td>\n",
       "      <td>1</td>\n",
       "      <td>65</td>\n",
       "    </tr>\n",
       "    <tr>\n",
       "      <th>60901</th>\n",
       "      <td>.作请加薇信 HL552277</td>\n",
       "      <td>90</td>\n",
       "      <td>1</td>\n",
       "      <td>16</td>\n",
       "    </tr>\n",
       "  </tbody>\n",
       "</table>\n",
       "</div>"
      ],
      "text/plain": [
       "                                                   content  prob  real_label  \\\n",
       "355316                    我们zhi保证最真交.易，无论上.下.分多大量，上.分让您拿到琻    90           1   \n",
       "368608                    长期出琻bi 出蒩满级捕鱼号 手机/威信：①863①4⑨⑤89⑦    90           1   \n",
       "116763                            在线，详情添加手机薇信同号13868794079    90           1   \n",
       "278261                     蒩収捕鱼hao，琻豆8-15W100员，薇信XXR666661    90           1   \n",
       "743117             bu鱼shang下芬:上芬16万琻币100,下芬20万琻币100..介绍朋友蒩    90           1   \n",
       "956944    长期提供组号丅F.咨询威+ 18692972722;高架回手经典42以上炮台.千炮8000...    90           1   \n",
       "1015570   chang期提供组号丄丅F.咨询威+ 18692972722;高架回手经典42以上炮台.千...    90           1   \n",
       "815215            chang期蒩鱼炮上xai分业务绝对安全可靠咨询威X+xx17674022115    90           1   \n",
       "499104                  长期合作优惠！威信⒈3001158982.此宣传小号不回复，请加威信    90           1   \n",
       "159869                         要的老板可以加我威x:155③21③3①06（同手机）    90           1   \n",
       "824009           収经典42-46，千炮7500-9000。需要长期合.作请添加威信 JD44421    90           1   \n",
       "990946    长qi提供组号丄丅枌.咨询威+ 18692972722;高架回手经典42以上炮台.千炮80...    90           1   \n",
       "726438             您好，本店专业丄丅fen!上100=1⑹w下100=22w（组号.zu炮）长期    90           1   \n",
       "68030                                    满级鱼炮chu蒩，如有打扰敬请原谅    90           1   \n",
       "526677                  你hao 収賣琻币 童叟无欺 出蒩鱼炮 加威信⒈⒏3⒉9⒋51606    90           1   \n",
       "450321                   你好，収賣币，免费蒩捕鱼炮，収収鱼炮,威信 ⒈⒊238279185    90           1   \n",
       "831353           chang期蒩鱼炮丄丅fen业务绝对安全可靠 咨询威X+xx17670915892    90           1   \n",
       "740564             千炮bu鱼shang下纷:上纷13万琻币100,下纷14万琻币100.电话威信    90           1   \n",
       "866168          chang期蒩鱼炮丄丅fen业务绝对安全可靠 咨询威X+ xx17670915892    90           1   \n",
       "761686             长期蒩鱼炮 丄丅fen业务 绝对安全可靠 咨询 威 + jj321520123    90           1   \n",
       "518003                  nin好,我是JJ商家,长期収出JJ琻币,（免费出蒩捕鱼满级炮）出蒩    90           1   \n",
       "983566    lin琳）5年老店，24小時在線！上份：10万=100，下份：①1万=100，满级鱼炮免费...    90           1   \n",
       "17511                                              你喜欢打鱼吗?    90           1   \n",
       "264342                      ，下.分让您拿到銭，我们坚信只有信誉才能做的更久更大。高.價    90           1   \n",
       "475771                  丅分100-15 威信： xingchen8885 海豚不回复消息！    90           1   \n",
       "1058508   （船长）七年老店，以信立命！上份：13万=100，下份：15万=100，实名认证，jiao...    90           1   \n",
       "651511               琻 币 回 収、捕鱼账号回収加威信182 3107 1586八年老店，信誉    90           1   \n",
       "809114            您好，本店专ye丄丅fen!上100=16w下100=②2w（组号.zu炮）长期    90           1   \n",
       "803139            您好，本店zhuan业丄丅fen!上100=⑴⑹w下100=⑵2w（组号.zu炮    90           1   \n",
       "137303                           天在线，详情添加手机薇信同号13868794079    90           1   \n",
       "389168                    的老板可以加我威x了解下 威x：1⑤532①③3106（同手机）    90           1   \n",
       "544934                 ni好，収賣琻币，免费蒩捕鱼炮，収収鱼炮,威信 13⑵3827918⑸    90           1   \n",
       "623206                最低差價chu蒩经典千炮顶级鱼炮 出蒩鱼炮免税 加 威x kkhy945    90           1   \n",
       "76731                                   qianpao 7000--9000    90           1   \n",
       "833706           chang期族号 丄丅 份业务 决对安全可靠 咨询 威+ x15587426218    90           1   \n",
       "1001305   长期提供组号丄丅枌.咨xun威+ 18692972722;高架回手经典42以上炮台.千炮8...    90           1   \n",
       "61167                                     ⑺63⑷⑺⑼5 <2⑷小时营业>    90           1   \n",
       "115799                            在线，详情添加手机薇信同号13868794079    90           1   \n",
       "997249    琳琳）5nian老店，24小時在線！上份：10万=100，下份：11万=100，满级鱼炮免...    90           1   \n",
       "60901                                      .作请加薇信 HL552277    90           1   \n",
       "\n",
       "         length  \n",
       "355316       33  \n",
       "368608       33  \n",
       "116763       25  \n",
       "278261       32  \n",
       "743117       40  \n",
       "956944       62  \n",
       "1015570      67  \n",
       "815215       41  \n",
       "499104       35  \n",
       "159869       28  \n",
       "824009       42  \n",
       "990946       64  \n",
       "726438       40  \n",
       "68030        18  \n",
       "526677       35  \n",
       "450321       34  \n",
       "831353       42  \n",
       "740564       40  \n",
       "866168       43  \n",
       "761686       40  \n",
       "518003       35  \n",
       "983566       64  \n",
       "17511         8  \n",
       "264342       31  \n",
       "475771       35  \n",
       "1058508      87  \n",
       "651511       38  \n",
       "809114       41  \n",
       "803139       41  \n",
       "137303       26  \n",
       "389168       33  \n",
       "544934       36  \n",
       "623206       37  \n",
       "76731        19  \n",
       "833706       42  \n",
       "1001305      65  \n",
       "61167        17  \n",
       "115799       25  \n",
       "997249       65  \n",
       "60901        16  "
      ]
     },
     "execution_count": 41,
     "metadata": {},
     "output_type": "execute_result"
    }
   ],
   "source": [
    "eval_df.sample(40)"
   ]
  },
  {
   "cell_type": "markdown",
   "metadata": {},
   "source": [
    "# Inference "
   ]
  },
  {
   "cell_type": "code",
   "execution_count": 73,
   "metadata": {},
   "outputs": [
    {
     "data": {
      "text/plain": [
       "(1,)"
      ]
     },
     "execution_count": 73,
     "metadata": {},
     "output_type": "execute_result"
    }
   ],
   "source": [
    "text = \"JJ的玩家你好，好消息2020最火爆黑马棋牌，支持提现的棋牌，复制下方链接到手机浏览器下载\"\n",
    "test_data = np.array([text])\n",
    "test_data.shape"
   ]
  },
  {
   "cell_type": "code",
   "execution_count": 74,
   "metadata": {},
   "outputs": [
    {
     "data": {
      "text/plain": [
       "array([0])"
      ]
     },
     "execution_count": 74,
     "metadata": {},
     "output_type": "execute_result"
    }
   ],
   "source": [
    "pipeline.predict(test_data)"
   ]
  },
  {
   "cell_type": "markdown",
   "metadata": {},
   "source": [
    "# Save & reload pipeline "
   ]
  },
  {
   "cell_type": "markdown",
   "metadata": {},
   "source": [
    "## Save "
   ]
  },
  {
   "cell_type": "code",
   "execution_count": 81,
   "metadata": {},
   "outputs": [],
   "source": [
    "file_name = joblib.dump(\n",
    "    value=pipeline,\n",
    "    filename=os.path.join(model_dir, model_file)\n",
    ")[0]"
   ]
  },
  {
   "cell_type": "markdown",
   "metadata": {},
   "source": [
    "## reload "
   ]
  },
  {
   "cell_type": "code",
   "execution_count": 82,
   "metadata": {},
   "outputs": [],
   "source": [
    "new_pipeline = joblib.load(\n",
    "    filename=file_name\n",
    ")"
   ]
  },
  {
   "cell_type": "code",
   "execution_count": 87,
   "metadata": {},
   "outputs": [
    {
     "data": {
      "text/plain": [
       "array([[0.98792932, 0.01207068]])"
      ]
     },
     "execution_count": 87,
     "metadata": {},
     "output_type": "execute_result"
    }
   ],
   "source": [
    "new_pipeline.predict_proba(test_data)"
   ]
  },
  {
   "cell_type": "code",
   "execution_count": null,
   "metadata": {},
   "outputs": [],
   "source": []
  }
 ],
 "metadata": {
  "kernelspec": {
   "display_name": "Python3 (machine_learning)",
   "language": "python",
   "name": "machine_learning"
  },
  "language_info": {
   "codemirror_mode": {
    "name": "ipython",
    "version": 3
   },
   "file_extension": ".py",
   "mimetype": "text/x-python",
   "name": "python",
   "nbconvert_exporter": "python",
   "pygments_lexer": "ipython3",
   "version": "3.6.9"
  },
  "toc": {
   "base_numbering": 1,
   "nav_menu": {},
   "number_sections": true,
   "sideBar": true,
   "skip_h1_title": false,
   "title_cell": "Table of Contents",
   "title_sidebar": "Contents",
   "toc_cell": false,
   "toc_position": {},
   "toc_section_display": true,
   "toc_window_display": true
  }
 },
 "nbformat": 4,
 "nbformat_minor": 1
}
