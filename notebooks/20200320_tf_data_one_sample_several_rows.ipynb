{
 "cells": [
  {
   "cell_type": "markdown",
   "metadata": {},
   "source": [
    "# Module "
   ]
  },
  {
   "cell_type": "code",
   "execution_count": 35,
   "metadata": {},
   "outputs": [
    {
     "name": "stdout",
     "output_type": "stream",
     "text": [
      "2.0.0\n"
     ]
    }
   ],
   "source": [
    "import tensorflow as tf\n",
    "print(tf.__version__)"
   ]
  },
  {
   "cell_type": "code",
   "execution_count": 41,
   "metadata": {},
   "outputs": [],
   "source": [
    "! cp ../data/debug.gz ../data/debug2.gz"
   ]
  },
  {
   "cell_type": "markdown",
   "metadata": {},
   "source": [
    "# config"
   ]
  },
  {
   "cell_type": "code",
   "execution_count": 42,
   "metadata": {},
   "outputs": [],
   "source": [
    "filename = \"../data/debug.gz\"\n",
    "filename_lst = [\n",
    "    file_name,\n",
    "    \"../data/debug2.gz\"\n",
    "]\n",
    "rows_per_ob = 20"
   ]
  },
  {
   "cell_type": "code",
   "execution_count": 43,
   "metadata": {},
   "outputs": [],
   "source": []
  },
  {
   "cell_type": "code",
   "execution_count": 44,
   "metadata": {},
   "outputs": [],
   "source": [
    "\n",
    "\n",
    "\n",
    "dataset = tf.data.TextLineDataset(filename_lst)\n",
    "# Combine 10 lines into a single observation.   \n",
    "dataset = dataset.batch(rows_per_ob)\n",
    "\n",
    "def parse_observation(line_batch):\n",
    "  record_defaults = [\n",
    "      [0.0]]*rows_per_ob\n",
    "  all = tf.io.decode_csv(line_batch, record_defaults=record_defaults)\n",
    "  features = tf.stack(all[:-1])\n",
    "  label = all[-1]  # Take the label from the last row.\n",
    "  return features, label\n",
    "\n",
    "# Parse each observation into a `row_per_ob X 2` matrix of features and a\n",
    "# scalar label.\n",
    "dataset = dataset.map(parse_observation)\n",
    "\n"
   ]
  },
  {
   "cell_type": "code",
   "execution_count": 45,
   "metadata": {},
   "outputs": [
    {
     "data": {
      "text/plain": [
       "<TakeDataset shapes: ((19, None), (None,)), types: (tf.float32, tf.float32)>"
      ]
     },
     "execution_count": 45,
     "metadata": {},
     "output_type": "execute_result"
    }
   ],
   "source": [
    "dataset.take(3)"
   ]
  },
  {
   "cell_type": "code",
   "execution_count": null,
   "metadata": {},
   "outputs": [],
   "source": [
    "# Batch multiple observations.\n",
    "dataset = dataset.batch(batch_size)\n",
    "\n",
    "# Optionally add a prefetch for performance.\n",
    "dataset = dataset.prefetch(1)''"
   ]
  }
 ],
 "metadata": {
  "kernelspec": {
   "display_name": "TF2(learning_machine_learning)",
   "language": "python",
   "name": "learning_machine_learning"
  },
  "language_info": {
   "codemirror_mode": {
    "name": "ipython",
    "version": 3
   },
   "file_extension": ".py",
   "mimetype": "text/x-python",
   "name": "python",
   "nbconvert_exporter": "python",
   "pygments_lexer": "ipython3",
   "version": "3.6.2"
  },
  "toc": {
   "base_numbering": 1,
   "nav_menu": {},
   "number_sections": true,
   "sideBar": true,
   "skip_h1_title": false,
   "title_cell": "Table of Contents",
   "title_sidebar": "Contents",
   "toc_cell": false,
   "toc_position": {},
   "toc_section_display": true,
   "toc_window_display": false
  }
 },
 "nbformat": 4,
 "nbformat_minor": 2
}
